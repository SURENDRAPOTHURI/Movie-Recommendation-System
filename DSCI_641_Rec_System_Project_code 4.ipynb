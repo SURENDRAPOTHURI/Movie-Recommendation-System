{
 "cells": [
  {
   "cell_type": "markdown",
   "id": "99c3368b",
   "metadata": {},
   "source": [
    "# Movie Recommender System\n",
    "#### Group Members:\n",
    "\n",
    "* Harsh Ramesh\n",
    "* Surendra Pothuri\n",
    "* Siddahrth Dudugu"
   ]
  },
  {
   "cell_type": "markdown",
   "id": "1493a534",
   "metadata": {},
   "source": [
    "### Importing necessary Modules"
   ]
  },
  {
   "cell_type": "code",
   "execution_count": 3,
   "id": "f692e029",
   "metadata": {
    "id": "f692e029"
   },
   "outputs": [],
   "source": [
    "#from google.colab import drive\n",
    "#drive.mount('/content/drive')\n",
    "\n",
    "import pandas as pd\n",
    "import numpy as np\n",
    "import matplotlib.pyplot as plt\n",
    "import seaborn as sns\n",
    "from sklearn.feature_extraction.text import TfidfVectorizer\n",
    "from sklearn.metrics.pairwise import cosine_similarity\n",
    "from surprise import Reader, SVD, Dataset, accuracy\n",
    "from surprise.model_selection import GridSearchCV, train_test_split, cross_validate\n",
    "from surprise import Reader, Dataset, KNNBasic\n",
    "from tqdm import tqdm\n",
    "import torch\n",
    "import torch.nn as nn\n",
    "from torch.utils.data import Dataset, DataLoader\n",
    "import pytorch_lightning as pl\n"
   ]
  },
  {
   "cell_type": "markdown",
   "id": "40697280",
   "metadata": {},
   "source": [
    "### Loading Dataset"
   ]
  },
  {
   "cell_type": "code",
   "execution_count": 4,
   "id": "7c7c478e",
   "metadata": {},
   "outputs": [],
   "source": [
    "tag_df = pd.read_csv(\"ml-20m/ml-20m/tags.csv\")\n",
    "rating_df = pd.read_csv(\"ml-20m/ml-20m/ratings.csv\")\n",
    "movie_df = pd.read_csv(\"ml-20m/ml-20m/movies.csv\")\n",
    "link_df = pd.read_csv(\"ml-20m/ml-20m/links.csv\")\n",
    "genome_scores_df = pd.read_csv(\"ml-20m/ml-20m/genome-scores.csv\")\n",
    "genome_tags_df = pd.read_csv(\"ml-20m/ml-20m/genome-tags.csv\")"
   ]
  },
  {
   "cell_type": "code",
   "execution_count": 5,
   "id": "6f1cf4b3",
   "metadata": {},
   "outputs": [
    {
     "name": "stdout",
     "output_type": "stream",
     "text": [
      "Shape: (465564, 4)\n"
     ]
    },
    {
     "data": {
      "text/html": [
       "<div>\n",
       "<style scoped>\n",
       "    .dataframe tbody tr th:only-of-type {\n",
       "        vertical-align: middle;\n",
       "    }\n",
       "\n",
       "    .dataframe tbody tr th {\n",
       "        vertical-align: top;\n",
       "    }\n",
       "\n",
       "    .dataframe thead th {\n",
       "        text-align: right;\n",
       "    }\n",
       "</style>\n",
       "<table border=\"1\" class=\"dataframe\">\n",
       "  <thead>\n",
       "    <tr style=\"text-align: right;\">\n",
       "      <th></th>\n",
       "      <th>userId</th>\n",
       "      <th>movieId</th>\n",
       "      <th>tag</th>\n",
       "      <th>timestamp</th>\n",
       "    </tr>\n",
       "  </thead>\n",
       "  <tbody>\n",
       "    <tr>\n",
       "      <th>0</th>\n",
       "      <td>18</td>\n",
       "      <td>4141</td>\n",
       "      <td>Mark Waters</td>\n",
       "      <td>1240597180</td>\n",
       "    </tr>\n",
       "    <tr>\n",
       "      <th>1</th>\n",
       "      <td>65</td>\n",
       "      <td>208</td>\n",
       "      <td>dark hero</td>\n",
       "      <td>1368150078</td>\n",
       "    </tr>\n",
       "    <tr>\n",
       "      <th>2</th>\n",
       "      <td>65</td>\n",
       "      <td>353</td>\n",
       "      <td>dark hero</td>\n",
       "      <td>1368150079</td>\n",
       "    </tr>\n",
       "    <tr>\n",
       "      <th>3</th>\n",
       "      <td>65</td>\n",
       "      <td>521</td>\n",
       "      <td>noir thriller</td>\n",
       "      <td>1368149983</td>\n",
       "    </tr>\n",
       "    <tr>\n",
       "      <th>4</th>\n",
       "      <td>65</td>\n",
       "      <td>592</td>\n",
       "      <td>dark hero</td>\n",
       "      <td>1368150078</td>\n",
       "    </tr>\n",
       "  </tbody>\n",
       "</table>\n",
       "</div>"
      ],
      "text/plain": [
       "   userId  movieId            tag   timestamp\n",
       "0      18     4141    Mark Waters  1240597180\n",
       "1      65      208      dark hero  1368150078\n",
       "2      65      353      dark hero  1368150079\n",
       "3      65      521  noir thriller  1368149983\n",
       "4      65      592      dark hero  1368150078"
      ]
     },
     "execution_count": 5,
     "metadata": {},
     "output_type": "execute_result"
    }
   ],
   "source": [
    "print('Shape:',tag_df.shape)\n",
    "tag_df.head()\n"
   ]
  },
  {
   "cell_type": "code",
   "execution_count": 6,
   "id": "50fdab11",
   "metadata": {},
   "outputs": [
    {
     "data": {
      "text/plain": [
       "userId        0\n",
       "movieId       0\n",
       "tag          16\n",
       "timestamp     0\n",
       "dtype: int64"
      ]
     },
     "execution_count": 6,
     "metadata": {},
     "output_type": "execute_result"
    }
   ],
   "source": [
    "#Checking for Null Values\n",
    "tag_df.isnull().sum()"
   ]
  },
  {
   "cell_type": "code",
   "execution_count": 7,
   "id": "2e9aff55",
   "metadata": {},
   "outputs": [
    {
     "name": "stdout",
     "output_type": "stream",
     "text": [
      "   userId  movieId            tag   timestamp\n",
      "0      18     4141    Mark Waters  1240597180\n",
      "1      65      208      dark hero  1368150078\n",
      "2      65      353      dark hero  1368150079\n",
      "3      65      521  noir thriller  1368149983\n",
      "4      65      592      dark hero  1368150078\n"
     ]
    },
    {
     "data": {
      "text/plain": [
       "(465564, 4)"
      ]
     },
     "execution_count": 7,
     "metadata": {},
     "output_type": "execute_result"
    }
   ],
   "source": [
    "print(tag_df.head())\n",
    "tag_df.shape"
   ]
  },
  {
   "cell_type": "code",
   "execution_count": 8,
   "id": "6833d010",
   "metadata": {},
   "outputs": [
    {
     "name": "stdout",
     "output_type": "stream",
     "text": [
      "   userId  movieId  rating   timestamp\n",
      "0       1        2     3.5  1112486027\n",
      "1       1       29     3.5  1112484676\n",
      "2       1       32     3.5  1112484819\n",
      "3       1       47     3.5  1112484727\n",
      "4       1       50     3.5  1112484580\n"
     ]
    },
    {
     "data": {
      "text/plain": [
       "(20000263, 4)"
      ]
     },
     "execution_count": 8,
     "metadata": {},
     "output_type": "execute_result"
    }
   ],
   "source": [
    "print(rating_df.head())\n",
    "rating_df.shape"
   ]
  },
  {
   "cell_type": "code",
   "execution_count": 9,
   "id": "e525e465",
   "metadata": {},
   "outputs": [
    {
     "name": "stdout",
     "output_type": "stream",
     "text": [
      "   movieId                               title  \\\n",
      "0        1                    Toy Story (1995)   \n",
      "1        2                      Jumanji (1995)   \n",
      "2        3             Grumpier Old Men (1995)   \n",
      "3        4            Waiting to Exhale (1995)   \n",
      "4        5  Father of the Bride Part II (1995)   \n",
      "\n",
      "                                        genres  \n",
      "0  Adventure|Animation|Children|Comedy|Fantasy  \n",
      "1                   Adventure|Children|Fantasy  \n",
      "2                               Comedy|Romance  \n",
      "3                         Comedy|Drama|Romance  \n",
      "4                                       Comedy  \n"
     ]
    },
    {
     "data": {
      "text/plain": [
       "(27278, 3)"
      ]
     },
     "execution_count": 9,
     "metadata": {},
     "output_type": "execute_result"
    }
   ],
   "source": [
    "print(movie_df.head())\n",
    "movie_df.shape"
   ]
  },
  {
   "cell_type": "code",
   "execution_count": 10,
   "id": "66136165",
   "metadata": {},
   "outputs": [
    {
     "name": "stdout",
     "output_type": "stream",
     "text": [
      "   movieId  imdbId   tmdbId\n",
      "0        1  114709    862.0\n",
      "1        2  113497   8844.0\n",
      "2        3  113228  15602.0\n",
      "3        4  114885  31357.0\n",
      "4        5  113041  11862.0\n"
     ]
    },
    {
     "data": {
      "text/plain": [
       "(27278, 3)"
      ]
     },
     "execution_count": 10,
     "metadata": {},
     "output_type": "execute_result"
    }
   ],
   "source": [
    "print(link_df.head())\n",
    "link_df.shape"
   ]
  },
  {
   "cell_type": "code",
   "execution_count": 11,
   "id": "bb144c27",
   "metadata": {},
   "outputs": [
    {
     "name": "stdout",
     "output_type": "stream",
     "text": [
      "   movieId  tagId  relevance\n",
      "0        1      1    0.02500\n",
      "1        1      2    0.02500\n",
      "2        1      3    0.05775\n",
      "3        1      4    0.09675\n",
      "4        1      5    0.14675\n"
     ]
    },
    {
     "data": {
      "text/plain": [
       "(11709768, 3)"
      ]
     },
     "execution_count": 11,
     "metadata": {},
     "output_type": "execute_result"
    }
   ],
   "source": [
    "print(genome_scores_df.head())\n",
    "genome_scores_df.shape"
   ]
  },
  {
   "cell_type": "markdown",
   "id": "e9f30a15",
   "metadata": {},
   "source": [
    "### Data Cleaning"
   ]
  },
  {
   "cell_type": "code",
   "execution_count": 12,
   "id": "a3297bab",
   "metadata": {
    "id": "a3297bab"
   },
   "outputs": [],
   "source": [
    "#Tags.csv\n",
    "\n",
    "tag_df.rename(columns={'tag':'user_tag'}, inplace=True)\n",
    "tag_df['timestamp'] = pd.to_datetime(tag_df['timestamp'])\n",
    "tag_df['year'] = tag_df['timestamp'].dt.year\n",
    "tag_df['month'] = tag_df['timestamp'].dt.month\n",
    "tag_df['user_tag'] = tag_df['user_tag'].str.lower()\n",
    "\n",
    "#ratings.csv\n",
    "rating_df['timestamp'] = pd.to_datetime(rating_df['timestamp'])\n",
    "rating_df['year'] = rating_df['timestamp'].dt.year\n",
    "rating_df['month'] = rating_df['timestamp'].dt.month\n",
    "\n",
    "#movies.csv\n",
    "movie_df['genres'] = movie_df['genres'].str.split('|')\n",
    "movie_df_new = movie_df.copy()\n",
    "movie_df_new['release_year'] = movie_df['title'].str.extract(r'\\((\\d{4})\\)', expand=False)\n",
    "movie_df_new['movie_title'] = movie_df['title'].str.replace(r'\\(\\d{4}\\)', '').str.strip()\n",
    "movie_df_new['genres'] = movie_df_new['genres'].str.split('|')\n",
    "movie_df_new = movie_df_new.drop('title', axis=1)\n",
    "movie_df_new = movie_df_new[['movieId', 'movie_title', 'release_year', 'genres']]\n",
    "movie_df_new['release_year'] = pd.to_datetime(movie_df_new['release_year'], errors='coerce')\n",
    "\n",
    "#Genome-scores.csv\n",
    "genome_scores_df.rename(columns={'tagId':'genome_tag_Id'}, inplace=True)\n",
    "\n",
    "#Genome-tags.csv\n",
    "genome_tags_df.rename(columns={'tag':'genome_tag'}, inplace=True)\n",
    "genome_tags_df.rename(columns={'tagId':'genome_tag_Id'}, inplace=True)"
   ]
  },
  {
   "cell_type": "code",
   "execution_count": 13,
   "id": "9f8637db",
   "metadata": {
    "colab": {
     "base_uri": "https://localhost:8080/",
     "height": 564
    },
    "id": "9f8637db",
    "outputId": "9058410a-c91e-4a88-fb2e-447fa94decc3"
   },
   "outputs": [
    {
     "data": {
      "image/png": "[encoded data removed]",
      "text/plain": [
       "<Figure size 1000x600 with 1 Axes>"
      ]
     },
     "metadata": {},
     "output_type": "display_data"
    }
   ],
   "source": [
    "#Top 10 User Generated tags\n",
    "common_tags = tag_df['user_tag'].value_counts().head(10)\n",
    "plt.figure(figsize=(10,6))\n",
    "sns.barplot(x=common_tags.values,y=common_tags.index, orient='h')\n",
    "plt.title('Top 10 User_Genrated Tags')\n",
    "plt.xlabel(\"Count\")\n",
    "plt.ylabel(\"User Generated Tag \")\n",
    "plt.show()"
   ]
  },
  {
   "cell_type": "code",
   "execution_count": 14,
   "id": "cfce8cba",
   "metadata": {
    "colab": {
     "base_uri": "https://localhost:8080/",
     "height": 564
    },
    "id": "cfce8cba",
    "outputId": "85fc7333-f275-4152-db1a-86419c7a6aae"
   },
   "outputs": [
    {
     "data": {
      "image/png": "[encoded data removed]",
      "text/plain": [
       "<Figure size 1000x600 with 1 Axes>"
      ]
     },
     "metadata": {},
     "output_type": "display_data"
    }
   ],
   "source": [
    "plt.figure(figsize=(10, 6))\n",
    "sns.countplot(x='rating', data=rating_df, palette='coolwarm')\n",
    "plt.title('Count of Ratings')\n",
    "plt.xlabel('Rating')\n",
    "plt.ylabel('Count')\n",
    "plt.show()"
   ]
  },
  {
   "cell_type": "code",
   "execution_count": 15,
   "id": "3cdbda78",
   "metadata": {
    "colab": {
     "base_uri": "https://localhost:8080/",
     "height": 564
    },
    "id": "3cdbda78",
    "outputId": "6f3bbd4e-439d-48f7-e7e5-94b8a2044214"
   },
   "outputs": [
    {
     "name": "stderr",
     "output_type": "stream",
     "text": [
      "C:\\Users\\harsh\\AppData\\Local\\Packages\\PythonSoftwareFoundation.Python.3.10_qbz5n2kfra8p0\\LocalCache\\local-packages\\Python310\\site-packages\\seaborn\\_oldcore.py:1119: FutureWarning: use_inf_as_na option is deprecated and will be removed in a future version. Convert inf values to NaN before operating instead.\n",
      "  with pd.option_context('mode.use_inf_as_na', True):\n"
     ]
    },
    {
     "data": {
      "image/png": "[encoded data removed]",
      "text/plain": [
       "<Figure size 1000x600 with 1 Axes>"
      ]
     },
     "metadata": {},
     "output_type": "display_data"
    }
   ],
   "source": [
    "\n",
    "plt.figure(figsize=(10, 6))\n",
    "sns.histplot(rating_df['rating'], bins=9, kde=True)\n",
    "plt.title('Distribution of Movie Rating')\n",
    "plt.xlabel(\"Rating\")\n",
    "plt.ylabel(\"Frequency\")\n",
    "plt.show()"
   ]
  },
  {
   "cell_type": "code",
   "execution_count": 16,
   "id": "0ddac682",
   "metadata": {
    "colab": {
     "base_uri": "https://localhost:8080/",
     "height": 564
    },
    "id": "0ddac682",
    "outputId": "26c788a0-d1d8-43bc-92f9-b601dd84f79e"
   },
   "outputs": [
    {
     "name": "stderr",
     "output_type": "stream",
     "text": [
      "C:\\Users\\harsh\\AppData\\Local\\Packages\\PythonSoftwareFoundation.Python.3.10_qbz5n2kfra8p0\\LocalCache\\local-packages\\Python310\\site-packages\\seaborn\\_oldcore.py:1119: FutureWarning: use_inf_as_na option is deprecated and will be removed in a future version. Convert inf values to NaN before operating instead.\n",
      "  with pd.option_context('mode.use_inf_as_na', True):\n"
     ]
    },
    {
     "data": {
      "image/png": "[encoded data removed]",
      "text/plain": [
       "<Figure size 1000x600 with 1 Axes>"
      ]
     },
     "metadata": {},
     "output_type": "display_data"
    }
   ],
   "source": [
    "ratings_per_movie = rating_df.groupby('movieId')['rating'].count()\n",
    "plt.figure(figsize=(10,6))\n",
    "sns.histplot(ratings_per_movie, bins=50, kde=True)\n",
    "plt.title('Number of Ratings per Movie')\n",
    "plt.xlabel(\"Number of Rating\")\n",
    "plt.ylabel(\"Frequency\")\n",
    "plt.show()"
   ]
  },
  {
   "cell_type": "code",
   "execution_count": 17,
   "id": "25744891",
   "metadata": {
    "colab": {
     "base_uri": "https://localhost:8080/",
     "height": 585
    },
    "id": "25744891",
    "outputId": "2eb46b96-3495-4d01-e338-160e0bee8cce"
   },
   "outputs": [
    {
     "data": {
      "image/png": "[encoded data removed]",
      "text/plain": [
       "<Figure size 1500x600 with 1 Axes>"
      ]
     },
     "metadata": {},
     "output_type": "display_data"
    }
   ],
   "source": [
    "\n",
    "plt.figure(figsize=(15, 6))\n",
    "sns.countplot(x='release_year', data=movie_df_new, order=movie_df_new['release_year'].value_counts().index)\n",
    "plt.title('Distribution of Movies by Release Year')\n",
    "plt.xlabel(\"Release Year\")\n",
    "plt.ylabel(\"Number of Movies\")\n",
    "plt.xticks(rotation=45, ha='right')  # Rotate x-axis labels for better visibility\n",
    "plt.show()\n"
   ]
  },
  {
   "cell_type": "code",
   "execution_count": 18,
   "id": "a48a62f5",
   "metadata": {
    "id": "a48a62f5"
   },
   "outputs": [],
   "source": [
    "\n",
    "data = pd.merge(movie_df,rating_df, how='inner', on=\"movieId\")"
   ]
  },
  {
   "cell_type": "code",
   "execution_count": 19,
   "id": "769f973a",
   "metadata": {
    "colab": {
     "base_uri": "https://localhost:8080/",
     "height": 424
    },
    "id": "769f973a",
    "outputId": "31bb66c0-f7ff-4d50-8dab-aa977312c9dc"
   },
   "outputs": [
    {
     "data": {
      "text/html": [
       "<div>\n",
       "<style scoped>\n",
       "    .dataframe tbody tr th:only-of-type {\n",
       "        vertical-align: middle;\n",
       "    }\n",
       "\n",
       "    .dataframe tbody tr th {\n",
       "        vertical-align: top;\n",
       "    }\n",
       "\n",
       "    .dataframe thead th {\n",
       "        text-align: right;\n",
       "    }\n",
       "</style>\n",
       "<table border=\"1\" class=\"dataframe\">\n",
       "  <thead>\n",
       "    <tr style=\"text-align: right;\">\n",
       "      <th></th>\n",
       "      <th>movieId</th>\n",
       "      <th>title</th>\n",
       "      <th>genres</th>\n",
       "      <th>userId</th>\n",
       "      <th>rating</th>\n",
       "      <th>timestamp</th>\n",
       "      <th>year</th>\n",
       "      <th>month</th>\n",
       "    </tr>\n",
       "  </thead>\n",
       "  <tbody>\n",
       "    <tr>\n",
       "      <th>0</th>\n",
       "      <td>1</td>\n",
       "      <td>Toy Story (1995)</td>\n",
       "      <td>[Adventure, Animation, Children, Comedy, Fantasy]</td>\n",
       "      <td>3</td>\n",
       "      <td>4.0</td>\n",
       "      <td>1970-01-01 00:00:00.944919407</td>\n",
       "      <td>1970</td>\n",
       "      <td>1</td>\n",
       "    </tr>\n",
       "    <tr>\n",
       "      <th>1</th>\n",
       "      <td>1</td>\n",
       "      <td>Toy Story (1995)</td>\n",
       "      <td>[Adventure, Animation, Children, Comedy, Fantasy]</td>\n",
       "      <td>6</td>\n",
       "      <td>5.0</td>\n",
       "      <td>1970-01-01 00:00:00.858275452</td>\n",
       "      <td>1970</td>\n",
       "      <td>1</td>\n",
       "    </tr>\n",
       "    <tr>\n",
       "      <th>2</th>\n",
       "      <td>1</td>\n",
       "      <td>Toy Story (1995)</td>\n",
       "      <td>[Adventure, Animation, Children, Comedy, Fantasy]</td>\n",
       "      <td>8</td>\n",
       "      <td>4.0</td>\n",
       "      <td>1970-01-01 00:00:00.833981871</td>\n",
       "      <td>1970</td>\n",
       "      <td>1</td>\n",
       "    </tr>\n",
       "    <tr>\n",
       "      <th>3</th>\n",
       "      <td>1</td>\n",
       "      <td>Toy Story (1995)</td>\n",
       "      <td>[Adventure, Animation, Children, Comedy, Fantasy]</td>\n",
       "      <td>10</td>\n",
       "      <td>4.0</td>\n",
       "      <td>1970-01-01 00:00:00.943497887</td>\n",
       "      <td>1970</td>\n",
       "      <td>1</td>\n",
       "    </tr>\n",
       "    <tr>\n",
       "      <th>4</th>\n",
       "      <td>1</td>\n",
       "      <td>Toy Story (1995)</td>\n",
       "      <td>[Adventure, Animation, Children, Comedy, Fantasy]</td>\n",
       "      <td>11</td>\n",
       "      <td>4.5</td>\n",
       "      <td>1970-01-01 00:00:01.230858821</td>\n",
       "      <td>1970</td>\n",
       "      <td>1</td>\n",
       "    </tr>\n",
       "    <tr>\n",
       "      <th>...</th>\n",
       "      <td>...</td>\n",
       "      <td>...</td>\n",
       "      <td>...</td>\n",
       "      <td>...</td>\n",
       "      <td>...</td>\n",
       "      <td>...</td>\n",
       "      <td>...</td>\n",
       "      <td>...</td>\n",
       "    </tr>\n",
       "    <tr>\n",
       "      <th>20000258</th>\n",
       "      <td>131254</td>\n",
       "      <td>Kein Bund für's Leben (2007)</td>\n",
       "      <td>[Comedy]</td>\n",
       "      <td>79570</td>\n",
       "      <td>4.0</td>\n",
       "      <td>1970-01-01 00:00:01.427743979</td>\n",
       "      <td>1970</td>\n",
       "      <td>1</td>\n",
       "    </tr>\n",
       "    <tr>\n",
       "      <th>20000259</th>\n",
       "      <td>131256</td>\n",
       "      <td>Feuer, Eis &amp; Dosenbier (2002)</td>\n",
       "      <td>[Comedy]</td>\n",
       "      <td>79570</td>\n",
       "      <td>4.0</td>\n",
       "      <td>1970-01-01 00:00:01.427744888</td>\n",
       "      <td>1970</td>\n",
       "      <td>1</td>\n",
       "    </tr>\n",
       "    <tr>\n",
       "      <th>20000260</th>\n",
       "      <td>131258</td>\n",
       "      <td>The Pirates (2014)</td>\n",
       "      <td>[Adventure]</td>\n",
       "      <td>28906</td>\n",
       "      <td>2.5</td>\n",
       "      <td>1970-01-01 00:00:01.427745392</td>\n",
       "      <td>1970</td>\n",
       "      <td>1</td>\n",
       "    </tr>\n",
       "    <tr>\n",
       "      <th>20000261</th>\n",
       "      <td>131260</td>\n",
       "      <td>Rentun Ruusu (2001)</td>\n",
       "      <td>[(no genres listed)]</td>\n",
       "      <td>65409</td>\n",
       "      <td>3.0</td>\n",
       "      <td>1970-01-01 00:00:01.427745466</td>\n",
       "      <td>1970</td>\n",
       "      <td>1</td>\n",
       "    </tr>\n",
       "    <tr>\n",
       "      <th>20000262</th>\n",
       "      <td>131262</td>\n",
       "      <td>Innocence (2014)</td>\n",
       "      <td>[Adventure, Fantasy, Horror]</td>\n",
       "      <td>133047</td>\n",
       "      <td>4.0</td>\n",
       "      <td>1970-01-01 00:00:01.427747966</td>\n",
       "      <td>1970</td>\n",
       "      <td>1</td>\n",
       "    </tr>\n",
       "  </tbody>\n",
       "</table>\n",
       "<p>20000263 rows × 8 columns</p>\n",
       "</div>"
      ],
      "text/plain": [
       "          movieId                          title  \\\n",
       "0               1               Toy Story (1995)   \n",
       "1               1               Toy Story (1995)   \n",
       "2               1               Toy Story (1995)   \n",
       "3               1               Toy Story (1995)   \n",
       "4               1               Toy Story (1995)   \n",
       "...           ...                            ...   \n",
       "20000258   131254   Kein Bund für's Leben (2007)   \n",
       "20000259   131256  Feuer, Eis & Dosenbier (2002)   \n",
       "20000260   131258             The Pirates (2014)   \n",
       "20000261   131260            Rentun Ruusu (2001)   \n",
       "20000262   131262               Innocence (2014)   \n",
       "\n",
       "                                                     genres  userId  rating  \\\n",
       "0         [Adventure, Animation, Children, Comedy, Fantasy]       3     4.0   \n",
       "1         [Adventure, Animation, Children, Comedy, Fantasy]       6     5.0   \n",
       "2         [Adventure, Animation, Children, Comedy, Fantasy]       8     4.0   \n",
       "3         [Adventure, Animation, Children, Comedy, Fantasy]      10     4.0   \n",
       "4         [Adventure, Animation, Children, Comedy, Fantasy]      11     4.5   \n",
       "...                                                     ...     ...     ...   \n",
       "20000258                                           [Comedy]   79570     4.0   \n",
       "20000259                                           [Comedy]   79570     4.0   \n",
       "20000260                                        [Adventure]   28906     2.5   \n",
       "20000261                               [(no genres listed)]   65409     3.0   \n",
       "20000262                       [Adventure, Fantasy, Horror]  133047     4.0   \n",
       "\n",
       "                             timestamp  year  month  \n",
       "0        1970-01-01 00:00:00.944919407  1970      1  \n",
       "1        1970-01-01 00:00:00.858275452  1970      1  \n",
       "2        1970-01-01 00:00:00.833981871  1970      1  \n",
       "3        1970-01-01 00:00:00.943497887  1970      1  \n",
       "4        1970-01-01 00:00:01.230858821  1970      1  \n",
       "...                                ...   ...    ...  \n",
       "20000258 1970-01-01 00:00:01.427743979  1970      1  \n",
       "20000259 1970-01-01 00:00:01.427744888  1970      1  \n",
       "20000260 1970-01-01 00:00:01.427745392  1970      1  \n",
       "20000261 1970-01-01 00:00:01.427745466  1970      1  \n",
       "20000262 1970-01-01 00:00:01.427747966  1970      1  \n",
       "\n",
       "[20000263 rows x 8 columns]"
      ]
     },
     "execution_count": 19,
     "metadata": {},
     "output_type": "execute_result"
    }
   ],
   "source": [
    "data"
   ]
  },
  {
   "cell_type": "code",
   "execution_count": 20,
   "id": "544ce8b7",
   "metadata": {
    "colab": {
     "base_uri": "https://localhost:8080/"
    },
    "id": "544ce8b7",
    "outputId": "1d5e7b64-4070-419f-ae52-452648b30289"
   },
   "outputs": [
    {
     "name": "stdout",
     "output_type": "stream",
     "text": [
      "*************** Dataset Shape ***************\n",
      "No. of Rows: 20000263 \n",
      "No. of Columns: 8\n",
      "*************** Dataset Information ***************\n",
      "<class 'pandas.core.frame.DataFrame'>\n",
      "RangeIndex: 20000263 entries, 0 to 20000262\n",
      "Data columns (total 8 columns):\n",
      " #   Column     Dtype         \n",
      "---  ------     -----         \n",
      " 0   movieId    int64         \n",
      " 1   title      object        \n",
      " 2   genres     object        \n",
      " 3   userId     int64         \n",
      " 4   rating     float64       \n",
      " 5   timestamp  datetime64[ns]\n",
      " 6   year       int32         \n",
      " 7   month      int32         \n",
      "dtypes: datetime64[ns](1), float64(1), int32(2), int64(2), object(2)\n",
      "memory usage: 1.0+ GB\n",
      "None\n",
      "*************** Types of Columns ***************\n",
      "movieId               int64\n",
      "title                object\n",
      "genres               object\n",
      "userId                int64\n",
      "rating              float64\n",
      "timestamp    datetime64[ns]\n",
      "year                  int32\n",
      "month                 int32\n",
      "dtype: object\n",
      "*************** First 5 Rows ***************\n",
      "   movieId             title  \\\n",
      "0        1  Toy Story (1995)   \n",
      "1        1  Toy Story (1995)   \n",
      "2        1  Toy Story (1995)   \n",
      "3        1  Toy Story (1995)   \n",
      "4        1  Toy Story (1995)   \n",
      "\n",
      "                                              genres  userId  rating  \\\n",
      "0  [Adventure, Animation, Children, Comedy, Fantasy]       3     4.0   \n",
      "1  [Adventure, Animation, Children, Comedy, Fantasy]       6     5.0   \n",
      "2  [Adventure, Animation, Children, Comedy, Fantasy]       8     4.0   \n",
      "3  [Adventure, Animation, Children, Comedy, Fantasy]      10     4.0   \n",
      "4  [Adventure, Animation, Children, Comedy, Fantasy]      11     4.5   \n",
      "\n",
      "                      timestamp  year  month  \n",
      "0 1970-01-01 00:00:00.944919407  1970      1  \n",
      "1 1970-01-01 00:00:00.858275452  1970      1  \n",
      "2 1970-01-01 00:00:00.833981871  1970      1  \n",
      "3 1970-01-01 00:00:00.943497887  1970      1  \n",
      "4 1970-01-01 00:00:01.230858821  1970      1  \n",
      "*************** Last 5 Rows ***************\n",
      "          movieId                          title  \\\n",
      "20000258   131254   Kein Bund für's Leben (2007)   \n",
      "20000259   131256  Feuer, Eis & Dosenbier (2002)   \n",
      "20000260   131258             The Pirates (2014)   \n",
      "20000261   131260            Rentun Ruusu (2001)   \n",
      "20000262   131262               Innocence (2014)   \n",
      "\n",
      "                                genres  userId  rating  \\\n",
      "20000258                      [Comedy]   79570     4.0   \n",
      "20000259                      [Comedy]   79570     4.0   \n",
      "20000260                   [Adventure]   28906     2.5   \n",
      "20000261          [(no genres listed)]   65409     3.0   \n",
      "20000262  [Adventure, Fantasy, Horror]  133047     4.0   \n",
      "\n",
      "                             timestamp  year  month  \n",
      "20000258 1970-01-01 00:00:01.427743979  1970      1  \n",
      "20000259 1970-01-01 00:00:01.427744888  1970      1  \n",
      "20000260 1970-01-01 00:00:01.427745392  1970      1  \n",
      "20000261 1970-01-01 00:00:01.427745466  1970      1  \n",
      "20000262 1970-01-01 00:00:01.427747966  1970      1  \n",
      "*************** Summary Statistics of The Dataset ***************\n",
      "                count                           mean  \\\n",
      "movieId    20000263.0                     9041.56733   \n",
      "userId     20000263.0                   69045.872583   \n",
      "rating     20000263.0                       3.525529   \n",
      "timestamp    20000263  1970-01-01 00:00:01.100917921   \n",
      "year       20000263.0                         1970.0   \n",
      "month      20000263.0                            1.0   \n",
      "\n",
      "                                     min                            10%  \\\n",
      "movieId                              1.0                          296.0   \n",
      "userId                               1.0                        13568.0   \n",
      "rating                               0.5                            2.0   \n",
      "timestamp  1970-01-01 00:00:00.789652004  1970-01-01 00:00:00.862788343   \n",
      "year                              1970.0                         1970.0   \n",
      "month                                1.0                            1.0   \n",
      "\n",
      "                                     25%                            50%  \\\n",
      "movieId                            902.0                         2167.0   \n",
      "userId                           34395.0                        69141.0   \n",
      "rating                               3.0                            3.5   \n",
      "timestamp  1970-01-01 00:00:00.966797745  1970-01-01 00:00:01.103555886   \n",
      "year                              1970.0                         1970.0   \n",
      "month                                1.0                            1.0   \n",
      "\n",
      "                                     70%                            80%  \\\n",
      "movieId                           3950.0                         5872.0   \n",
      "userId                           96703.0                       110725.0   \n",
      "rating                               4.0                            4.5   \n",
      "timestamp  1970-01-01 00:00:01.197076832  1970-01-01 00:00:01.256024021   \n",
      "year                              1970.0                         1970.0   \n",
      "month                                1.0                            1.0   \n",
      "\n",
      "                                     90%                            95%  \\\n",
      "movieId                          33794.0                        59103.0   \n",
      "userId                          124479.0                       131467.0   \n",
      "rating                               5.0                            5.0   \n",
      "timestamp  1970-01-01 00:00:01.333154948  1970-01-01 00:00:01.378683016   \n",
      "year                              1970.0                         1970.0   \n",
      "month                                1.0                            1.0   \n",
      "\n",
      "                                     99%                            max  \\\n",
      "movieId                          94070.0                       131262.0   \n",
      "userId                          137061.0                       138493.0   \n",
      "rating                               5.0                            5.0   \n",
      "timestamp  1970-01-01 00:00:01.422148509  1970-01-01 00:00:01.427784002   \n",
      "year                              1970.0                         1970.0   \n",
      "month                                1.0                            1.0   \n",
      "\n",
      "                    std  \n",
      "movieId    19789.477445  \n",
      "userId     40038.626653  \n",
      "rating         1.051989  \n",
      "timestamp           NaN  \n",
      "year                0.0  \n",
      "month               0.0  \n",
      "*************** Dataset Missing Values Analysis ***************\n",
      "Empty DataFrame\n",
      "Columns: [Total Missing Values, Ratio]\n",
      "Index: []\n"
     ]
    }
   ],
   "source": [
    "\n",
    "def missing_values_analysis(data):\n",
    "    na_columns = [col for col in data.columns if data[col].isnull().sum() > 0]\n",
    "    n_miss = data[na_columns].isnull().sum().sort_values(ascending=True)\n",
    "    ratio = (data[na_columns].isnull().sum() / data.shape[0] * 100).sort_values(ascending=True)\n",
    "    missing_df = pd.concat([n_miss, np.round(ratio, 2)], axis=1, keys=['Total Missing Values', 'Ratio'])\n",
    "    missing_df = pd.DataFrame(missing_df)\n",
    "    return missing_df\n",
    "\n",
    "def check_df(data, row_num=5, col_num=10):\n",
    "    print(\"*************** Dataset Shape ***************\")\n",
    "    print(\"No. of Rows:\", data.shape[0], \"\\nNo. of Columns:\", data.shape[1])\n",
    "    print(\"*************** Dataset Information ***************\")\n",
    "    print(data.info())\n",
    "    print(\"*************** Types of Columns ***************\")\n",
    "    print(data.dtypes)\n",
    "    print(f\"*************** First {row_num} Rows ***************\")\n",
    "    print(data.iloc[:row_num,:col_num])\n",
    "    print(f\"*************** Last {row_num} Rows ***************\")\n",
    "    print(data.iloc[-row_num:,:col_num])\n",
    "    print(\"*************** Summary Statistics of The Dataset ***************\")\n",
    "    print(data.describe([0.10, 0.25, 0.50, 0.70, 0.80, 0.90, 0.95, 0.99]).T)\n",
    "    print(\"*************** Dataset Missing Values Analysis ***************\")\n",
    "    print(missing_values_analysis(data))\n",
    "\n",
    "\n",
    "check_df(data)\n"
   ]
  },
  {
   "cell_type": "code",
   "execution_count": 21,
   "id": "dd3214d6",
   "metadata": {
    "colab": {
     "base_uri": "https://localhost:8080/",
     "height": 424
    },
    "id": "dd3214d6",
    "outputId": "05010533-425b-4913-e3c3-e668551abdee"
   },
   "outputs": [
    {
     "data": {
      "text/html": [
       "<div>\n",
       "<style scoped>\n",
       "    .dataframe tbody tr th:only-of-type {\n",
       "        vertical-align: middle;\n",
       "    }\n",
       "\n",
       "    .dataframe tbody tr th {\n",
       "        vertical-align: top;\n",
       "    }\n",
       "\n",
       "    .dataframe thead th {\n",
       "        text-align: right;\n",
       "    }\n",
       "</style>\n",
       "<table border=\"1\" class=\"dataframe\">\n",
       "  <thead>\n",
       "    <tr style=\"text-align: right;\">\n",
       "      <th></th>\n",
       "      <th>movieId</th>\n",
       "      <th>movie_title</th>\n",
       "      <th>release_year</th>\n",
       "      <th>genres</th>\n",
       "      <th>userId</th>\n",
       "      <th>rating</th>\n",
       "      <th>timestamp</th>\n",
       "      <th>year</th>\n",
       "      <th>month</th>\n",
       "    </tr>\n",
       "  </thead>\n",
       "  <tbody>\n",
       "    <tr>\n",
       "      <th>0</th>\n",
       "      <td>1</td>\n",
       "      <td>Toy Story (1995)</td>\n",
       "      <td>1995-01-01</td>\n",
       "      <td>NaN</td>\n",
       "      <td>3</td>\n",
       "      <td>4.0</td>\n",
       "      <td>1970-01-01 00:00:00.944919407</td>\n",
       "      <td>1970</td>\n",
       "      <td>1</td>\n",
       "    </tr>\n",
       "    <tr>\n",
       "      <th>1</th>\n",
       "      <td>1</td>\n",
       "      <td>Toy Story (1995)</td>\n",
       "      <td>1995-01-01</td>\n",
       "      <td>NaN</td>\n",
       "      <td>6</td>\n",
       "      <td>5.0</td>\n",
       "      <td>1970-01-01 00:00:00.858275452</td>\n",
       "      <td>1970</td>\n",
       "      <td>1</td>\n",
       "    </tr>\n",
       "    <tr>\n",
       "      <th>2</th>\n",
       "      <td>1</td>\n",
       "      <td>Toy Story (1995)</td>\n",
       "      <td>1995-01-01</td>\n",
       "      <td>NaN</td>\n",
       "      <td>8</td>\n",
       "      <td>4.0</td>\n",
       "      <td>1970-01-01 00:00:00.833981871</td>\n",
       "      <td>1970</td>\n",
       "      <td>1</td>\n",
       "    </tr>\n",
       "    <tr>\n",
       "      <th>3</th>\n",
       "      <td>1</td>\n",
       "      <td>Toy Story (1995)</td>\n",
       "      <td>1995-01-01</td>\n",
       "      <td>NaN</td>\n",
       "      <td>10</td>\n",
       "      <td>4.0</td>\n",
       "      <td>1970-01-01 00:00:00.943497887</td>\n",
       "      <td>1970</td>\n",
       "      <td>1</td>\n",
       "    </tr>\n",
       "    <tr>\n",
       "      <th>4</th>\n",
       "      <td>1</td>\n",
       "      <td>Toy Story (1995)</td>\n",
       "      <td>1995-01-01</td>\n",
       "      <td>NaN</td>\n",
       "      <td>11</td>\n",
       "      <td>4.5</td>\n",
       "      <td>1970-01-01 00:00:01.230858821</td>\n",
       "      <td>1970</td>\n",
       "      <td>1</td>\n",
       "    </tr>\n",
       "    <tr>\n",
       "      <th>...</th>\n",
       "      <td>...</td>\n",
       "      <td>...</td>\n",
       "      <td>...</td>\n",
       "      <td>...</td>\n",
       "      <td>...</td>\n",
       "      <td>...</td>\n",
       "      <td>...</td>\n",
       "      <td>...</td>\n",
       "      <td>...</td>\n",
       "    </tr>\n",
       "    <tr>\n",
       "      <th>20000258</th>\n",
       "      <td>131254</td>\n",
       "      <td>Kein Bund für's Leben (2007)</td>\n",
       "      <td>2007-01-01</td>\n",
       "      <td>NaN</td>\n",
       "      <td>79570</td>\n",
       "      <td>4.0</td>\n",
       "      <td>1970-01-01 00:00:01.427743979</td>\n",
       "      <td>1970</td>\n",
       "      <td>1</td>\n",
       "    </tr>\n",
       "    <tr>\n",
       "      <th>20000259</th>\n",
       "      <td>131256</td>\n",
       "      <td>Feuer, Eis &amp; Dosenbier (2002)</td>\n",
       "      <td>2002-01-01</td>\n",
       "      <td>NaN</td>\n",
       "      <td>79570</td>\n",
       "      <td>4.0</td>\n",
       "      <td>1970-01-01 00:00:01.427744888</td>\n",
       "      <td>1970</td>\n",
       "      <td>1</td>\n",
       "    </tr>\n",
       "    <tr>\n",
       "      <th>20000260</th>\n",
       "      <td>131258</td>\n",
       "      <td>The Pirates (2014)</td>\n",
       "      <td>2014-01-01</td>\n",
       "      <td>NaN</td>\n",
       "      <td>28906</td>\n",
       "      <td>2.5</td>\n",
       "      <td>1970-01-01 00:00:01.427745392</td>\n",
       "      <td>1970</td>\n",
       "      <td>1</td>\n",
       "    </tr>\n",
       "    <tr>\n",
       "      <th>20000261</th>\n",
       "      <td>131260</td>\n",
       "      <td>Rentun Ruusu (2001)</td>\n",
       "      <td>2001-01-01</td>\n",
       "      <td>NaN</td>\n",
       "      <td>65409</td>\n",
       "      <td>3.0</td>\n",
       "      <td>1970-01-01 00:00:01.427745466</td>\n",
       "      <td>1970</td>\n",
       "      <td>1</td>\n",
       "    </tr>\n",
       "    <tr>\n",
       "      <th>20000262</th>\n",
       "      <td>131262</td>\n",
       "      <td>Innocence (2014)</td>\n",
       "      <td>2014-01-01</td>\n",
       "      <td>NaN</td>\n",
       "      <td>133047</td>\n",
       "      <td>4.0</td>\n",
       "      <td>1970-01-01 00:00:01.427747966</td>\n",
       "      <td>1970</td>\n",
       "      <td>1</td>\n",
       "    </tr>\n",
       "  </tbody>\n",
       "</table>\n",
       "<p>20000263 rows × 9 columns</p>\n",
       "</div>"
      ],
      "text/plain": [
       "          movieId                    movie_title release_year  genres  userId  \\\n",
       "0               1               Toy Story (1995)   1995-01-01     NaN       3   \n",
       "1               1               Toy Story (1995)   1995-01-01     NaN       6   \n",
       "2               1               Toy Story (1995)   1995-01-01     NaN       8   \n",
       "3               1               Toy Story (1995)   1995-01-01     NaN      10   \n",
       "4               1               Toy Story (1995)   1995-01-01     NaN      11   \n",
       "...           ...                            ...          ...     ...     ...   \n",
       "20000258   131254   Kein Bund für's Leben (2007)   2007-01-01     NaN   79570   \n",
       "20000259   131256  Feuer, Eis & Dosenbier (2002)   2002-01-01     NaN   79570   \n",
       "20000260   131258             The Pirates (2014)   2014-01-01     NaN   28906   \n",
       "20000261   131260            Rentun Ruusu (2001)   2001-01-01     NaN   65409   \n",
       "20000262   131262               Innocence (2014)   2014-01-01     NaN  133047   \n",
       "\n",
       "          rating                     timestamp  year  month  \n",
       "0            4.0 1970-01-01 00:00:00.944919407  1970      1  \n",
       "1            5.0 1970-01-01 00:00:00.858275452  1970      1  \n",
       "2            4.0 1970-01-01 00:00:00.833981871  1970      1  \n",
       "3            4.0 1970-01-01 00:00:00.943497887  1970      1  \n",
       "4            4.5 1970-01-01 00:00:01.230858821  1970      1  \n",
       "...          ...                           ...   ...    ...  \n",
       "20000258     4.0 1970-01-01 00:00:01.427743979  1970      1  \n",
       "20000259     4.0 1970-01-01 00:00:01.427744888  1970      1  \n",
       "20000260     2.5 1970-01-01 00:00:01.427745392  1970      1  \n",
       "20000261     3.0 1970-01-01 00:00:01.427745466  1970      1  \n",
       "20000262     4.0 1970-01-01 00:00:01.427747966  1970      1  \n",
       "\n",
       "[20000263 rows x 9 columns]"
      ]
     },
     "execution_count": 21,
     "metadata": {},
     "output_type": "execute_result"
    }
   ],
   "source": [
    "#Preparing Data for EDA\n",
    "eda_data = pd.merge(movie_df_new,rating_df, how='inner', on=\"movieId\")\n",
    "eda_data"
   ]
  },
  {
   "cell_type": "code",
   "execution_count": 22,
   "id": "e9dadb71",
   "metadata": {
    "colab": {
     "base_uri": "https://localhost:8080/"
    },
    "id": "e9dadb71",
    "outputId": "1698826f-f852-4e54-edd8-cce9ce5daa7b"
   },
   "outputs": [
    {
     "data": {
      "text/plain": [
       "movieId                0\n",
       "movie_title            0\n",
       "release_year         405\n",
       "genres          20000263\n",
       "userId                 0\n",
       "rating                 0\n",
       "timestamp              0\n",
       "year                   0\n",
       "month                  0\n",
       "dtype: int64"
      ]
     },
     "execution_count": 22,
     "metadata": {},
     "output_type": "execute_result"
    }
   ],
   "source": [
    "eda_data.isnull().sum()"
   ]
  },
  {
   "cell_type": "code",
   "execution_count": 23,
   "id": "ceefa094",
   "metadata": {
    "colab": {
     "base_uri": "https://localhost:8080/"
    },
    "id": "ceefa094",
    "outputId": "5db39c13-1827-4f58-ce75-47fff589caf2"
   },
   "outputs": [
    {
     "data": {
      "text/plain": [
       "movie_title\n",
       "Prom Queen: The Marc Hall Story (2004)                        5.0\n",
       "The Garden of Sinners - Chapter 5: Paradox Paradigm (2008)    5.0\n",
       "Death of a Nation - The Timor Conspiracy (1994)               5.0\n",
       "Poison (1951)                                                 5.0\n",
       "Sun Kissed (2012)                                             5.0\n",
       "                                                             ... \n",
       "The Robot vs. the Aztec Mummy (1958)                          0.5\n",
       "Mega Piranha (2010)                                           0.5\n",
       "The Radio Pirates (2007)                                      0.5\n",
       "First Texan, The (1956)                                       0.5\n",
       "Allan Quatermain and the Temple of Skulls (2008)              0.5\n",
       "Name: rating, Length: 26729, dtype: float64"
      ]
     },
     "execution_count": 23,
     "metadata": {},
     "output_type": "execute_result"
    }
   ],
   "source": [
    "\n",
    "top_rated_movies = eda_data.groupby(['movie_title'])['rating'].mean().sort_values(ascending=False)\n",
    "top_rated_movies\n"
   ]
  },
  {
   "cell_type": "markdown",
   "id": "e0a92d54",
   "metadata": {},
   "source": [
    "### Exploratory Data Analysis"
   ]
  },
  {
   "cell_type": "code",
   "execution_count": 24,
   "id": "45707582",
   "metadata": {
    "colab": {
     "base_uri": "https://localhost:8080/",
     "height": 564
    },
    "id": "45707582",
    "outputId": "62bc6408-da1d-4019-9021-61d0f9c40900"
   },
   "outputs": [
    {
     "name": "stderr",
     "output_type": "stream",
     "text": [
      "C:\\Users\\harsh\\AppData\\Local\\Packages\\PythonSoftwareFoundation.Python.3.10_qbz5n2kfra8p0\\LocalCache\\local-packages\\Python310\\site-packages\\seaborn\\_oldcore.py:1119: FutureWarning: use_inf_as_na option is deprecated and will be removed in a future version. Convert inf values to NaN before operating instead.\n",
      "  with pd.option_context('mode.use_inf_as_na', True):\n",
      "C:\\Users\\harsh\\AppData\\Local\\Packages\\PythonSoftwareFoundation.Python.3.10_qbz5n2kfra8p0\\LocalCache\\local-packages\\Python310\\site-packages\\seaborn\\_oldcore.py:1119: FutureWarning: use_inf_as_na option is deprecated and will be removed in a future version. Convert inf values to NaN before operating instead.\n",
      "  with pd.option_context('mode.use_inf_as_na', True):\n"
     ]
    },
    {
     "data": {
      "image/png": "[encoded data removed]",
      "text/plain": [
       "<Figure size 1200x600 with 1 Axes>"
      ]
     },
     "metadata": {},
     "output_type": "display_data"
    }
   ],
   "source": [
    "plt.figure(figsize=(12, 6))\n",
    "sns.lineplot(x='release_year', y='rating', data=eda_data.groupby('release_year')['rating'].mean().reset_index())\n",
    "plt.title('Average Ratings Over the Years')\n",
    "plt.xlabel(\"Release Year\")\n",
    "plt.ylabel(\"Average Rating\")\n",
    "plt.show()"
   ]
  },
  {
   "cell_type": "markdown",
   "id": "d6f0f438",
   "metadata": {
    "id": "d6f0f438"
   },
   "source": []
  },
  {
   "cell_type": "code",
   "execution_count": 25,
   "id": "920dcdde",
   "metadata": {
    "colab": {
     "base_uri": "https://localhost:8080/",
     "height": 424
    },
    "id": "920dcdde",
    "outputId": "e7fb7fb3-a95f-4ed6-ef0f-7513bfe85afd"
   },
   "outputs": [
    {
     "data": {
      "text/html": [
       "<div>\n",
       "<style scoped>\n",
       "    .dataframe tbody tr th:only-of-type {\n",
       "        vertical-align: middle;\n",
       "    }\n",
       "\n",
       "    .dataframe tbody tr th {\n",
       "        vertical-align: top;\n",
       "    }\n",
       "\n",
       "    .dataframe thead th {\n",
       "        text-align: right;\n",
       "    }\n",
       "</style>\n",
       "<table border=\"1\" class=\"dataframe\">\n",
       "  <thead>\n",
       "    <tr style=\"text-align: right;\">\n",
       "      <th></th>\n",
       "      <th>title</th>\n",
       "      <th>num_ratings</th>\n",
       "    </tr>\n",
       "  </thead>\n",
       "  <tbody>\n",
       "    <tr>\n",
       "      <th>0</th>\n",
       "      <td>\"Great Performances\" Cats (1998)</td>\n",
       "      <td>155</td>\n",
       "    </tr>\n",
       "    <tr>\n",
       "      <th>1</th>\n",
       "      <td>#chicagoGirl: The Social Network Takes on a Di...</td>\n",
       "      <td>3</td>\n",
       "    </tr>\n",
       "    <tr>\n",
       "      <th>2</th>\n",
       "      <td>$ (Dollars) (1971)</td>\n",
       "      <td>24</td>\n",
       "    </tr>\n",
       "    <tr>\n",
       "      <th>3</th>\n",
       "      <td>$5 a Day (2008)</td>\n",
       "      <td>39</td>\n",
       "    </tr>\n",
       "    <tr>\n",
       "      <th>4</th>\n",
       "      <td>$9.99 (2008)</td>\n",
       "      <td>55</td>\n",
       "    </tr>\n",
       "    <tr>\n",
       "      <th>...</th>\n",
       "      <td>...</td>\n",
       "      <td>...</td>\n",
       "    </tr>\n",
       "    <tr>\n",
       "      <th>26724</th>\n",
       "      <td>À propos de Nice (1930)</td>\n",
       "      <td>4</td>\n",
       "    </tr>\n",
       "    <tr>\n",
       "      <th>26725</th>\n",
       "      <td>Árido Movie (2005)</td>\n",
       "      <td>1</td>\n",
       "    </tr>\n",
       "    <tr>\n",
       "      <th>26726</th>\n",
       "      <td>Åsa-Nisse - Wälkom to Knohult (2011)</td>\n",
       "      <td>2</td>\n",
       "    </tr>\n",
       "    <tr>\n",
       "      <th>26727</th>\n",
       "      <td>Üvegtigris (2001)</td>\n",
       "      <td>1</td>\n",
       "    </tr>\n",
       "    <tr>\n",
       "      <th>26728</th>\n",
       "      <td>貞子3D (2012)</td>\n",
       "      <td>1</td>\n",
       "    </tr>\n",
       "  </tbody>\n",
       "</table>\n",
       "<p>26729 rows × 2 columns</p>\n",
       "</div>"
      ],
      "text/plain": [
       "                                                   title  num_ratings\n",
       "0                       \"Great Performances\" Cats (1998)          155\n",
       "1      #chicagoGirl: The Social Network Takes on a Di...            3\n",
       "2                                     $ (Dollars) (1971)           24\n",
       "3                                        $5 a Day (2008)           39\n",
       "4                                           $9.99 (2008)           55\n",
       "...                                                  ...          ...\n",
       "26724                            À propos de Nice (1930)            4\n",
       "26725                                 Árido Movie (2005)            1\n",
       "26726               Åsa-Nisse - Wälkom to Knohult (2011)            2\n",
       "26727                                  Üvegtigris (2001)            1\n",
       "26728                                        貞子3D (2012)            1\n",
       "\n",
       "[26729 rows x 2 columns]"
      ]
     },
     "execution_count": 25,
     "metadata": {},
     "output_type": "execute_result"
    }
   ],
   "source": [
    "num_rating_df = data.groupby('title').count()['rating'].reset_index()\n",
    "num_rating_df.rename(columns={'rating':'num_ratings'},inplace=True)\n",
    "num_rating_df"
   ]
  },
  {
   "cell_type": "code",
   "execution_count": 26,
   "id": "838d5cec",
   "metadata": {
    "colab": {
     "base_uri": "https://localhost:8080/",
     "height": 424
    },
    "id": "838d5cec",
    "outputId": "12b3b6e5-0806-46d5-9fd6-2782ca5139c3"
   },
   "outputs": [
    {
     "data": {
      "text/html": [
       "<div>\n",
       "<style scoped>\n",
       "    .dataframe tbody tr th:only-of-type {\n",
       "        vertical-align: middle;\n",
       "    }\n",
       "\n",
       "    .dataframe tbody tr th {\n",
       "        vertical-align: top;\n",
       "    }\n",
       "\n",
       "    .dataframe thead th {\n",
       "        text-align: right;\n",
       "    }\n",
       "</style>\n",
       "<table border=\"1\" class=\"dataframe\">\n",
       "  <thead>\n",
       "    <tr style=\"text-align: right;\">\n",
       "      <th></th>\n",
       "      <th>title</th>\n",
       "      <th>avg_ratings</th>\n",
       "    </tr>\n",
       "  </thead>\n",
       "  <tbody>\n",
       "    <tr>\n",
       "      <th>0</th>\n",
       "      <td>\"Great Performances\" Cats (1998)</td>\n",
       "      <td>2.748387</td>\n",
       "    </tr>\n",
       "    <tr>\n",
       "      <th>1</th>\n",
       "      <td>#chicagoGirl: The Social Network Takes on a Di...</td>\n",
       "      <td>3.666667</td>\n",
       "    </tr>\n",
       "    <tr>\n",
       "      <th>2</th>\n",
       "      <td>$ (Dollars) (1971)</td>\n",
       "      <td>2.833333</td>\n",
       "    </tr>\n",
       "    <tr>\n",
       "      <th>3</th>\n",
       "      <td>$5 a Day (2008)</td>\n",
       "      <td>2.871795</td>\n",
       "    </tr>\n",
       "    <tr>\n",
       "      <th>4</th>\n",
       "      <td>$9.99 (2008)</td>\n",
       "      <td>3.009091</td>\n",
       "    </tr>\n",
       "    <tr>\n",
       "      <th>...</th>\n",
       "      <td>...</td>\n",
       "      <td>...</td>\n",
       "    </tr>\n",
       "    <tr>\n",
       "      <th>26724</th>\n",
       "      <td>À propos de Nice (1930)</td>\n",
       "      <td>3.125000</td>\n",
       "    </tr>\n",
       "    <tr>\n",
       "      <th>26725</th>\n",
       "      <td>Árido Movie (2005)</td>\n",
       "      <td>2.000000</td>\n",
       "    </tr>\n",
       "    <tr>\n",
       "      <th>26726</th>\n",
       "      <td>Åsa-Nisse - Wälkom to Knohult (2011)</td>\n",
       "      <td>1.500000</td>\n",
       "    </tr>\n",
       "    <tr>\n",
       "      <th>26727</th>\n",
       "      <td>Üvegtigris (2001)</td>\n",
       "      <td>3.000000</td>\n",
       "    </tr>\n",
       "    <tr>\n",
       "      <th>26728</th>\n",
       "      <td>貞子3D (2012)</td>\n",
       "      <td>1.500000</td>\n",
       "    </tr>\n",
       "  </tbody>\n",
       "</table>\n",
       "<p>26729 rows × 2 columns</p>\n",
       "</div>"
      ],
      "text/plain": [
       "                                                   title  avg_ratings\n",
       "0                       \"Great Performances\" Cats (1998)     2.748387\n",
       "1      #chicagoGirl: The Social Network Takes on a Di...     3.666667\n",
       "2                                     $ (Dollars) (1971)     2.833333\n",
       "3                                        $5 a Day (2008)     2.871795\n",
       "4                                           $9.99 (2008)     3.009091\n",
       "...                                                  ...          ...\n",
       "26724                            À propos de Nice (1930)     3.125000\n",
       "26725                                 Árido Movie (2005)     2.000000\n",
       "26726               Åsa-Nisse - Wälkom to Knohult (2011)     1.500000\n",
       "26727                                  Üvegtigris (2001)     3.000000\n",
       "26728                                        貞子3D (2012)     1.500000\n",
       "\n",
       "[26729 rows x 2 columns]"
      ]
     },
     "execution_count": 26,
     "metadata": {},
     "output_type": "execute_result"
    }
   ],
   "source": [
    "avg_rating_df = data.groupby('title')['rating'].mean().reset_index()\n",
    "avg_rating_df.rename(columns={'rating':'avg_ratings'}, inplace=True)\n",
    "avg_rating_df"
   ]
  },
  {
   "cell_type": "code",
   "execution_count": 27,
   "id": "ae558263",
   "metadata": {
    "colab": {
     "base_uri": "https://localhost:8080/",
     "height": 424
    },
    "id": "ae558263",
    "outputId": "6acd6d73-b5bf-4ae3-fc1a-fc9f94b421ba"
   },
   "outputs": [
    {
     "data": {
      "text/html": [
       "<div>\n",
       "<style scoped>\n",
       "    .dataframe tbody tr th:only-of-type {\n",
       "        vertical-align: middle;\n",
       "    }\n",
       "\n",
       "    .dataframe tbody tr th {\n",
       "        vertical-align: top;\n",
       "    }\n",
       "\n",
       "    .dataframe thead th {\n",
       "        text-align: right;\n",
       "    }\n",
       "</style>\n",
       "<table border=\"1\" class=\"dataframe\">\n",
       "  <thead>\n",
       "    <tr style=\"text-align: right;\">\n",
       "      <th></th>\n",
       "      <th>title</th>\n",
       "      <th>avg_ratings</th>\n",
       "    </tr>\n",
       "  </thead>\n",
       "  <tbody>\n",
       "    <tr>\n",
       "      <th>0</th>\n",
       "      <td>\"Great Performances\" Cats (1998)</td>\n",
       "      <td>2.748387</td>\n",
       "    </tr>\n",
       "    <tr>\n",
       "      <th>1</th>\n",
       "      <td>#chicagoGirl: The Social Network Takes on a Di...</td>\n",
       "      <td>3.666667</td>\n",
       "    </tr>\n",
       "    <tr>\n",
       "      <th>2</th>\n",
       "      <td>$ (Dollars) (1971)</td>\n",
       "      <td>2.833333</td>\n",
       "    </tr>\n",
       "    <tr>\n",
       "      <th>3</th>\n",
       "      <td>$5 a Day (2008)</td>\n",
       "      <td>2.871795</td>\n",
       "    </tr>\n",
       "    <tr>\n",
       "      <th>4</th>\n",
       "      <td>$9.99 (2008)</td>\n",
       "      <td>3.009091</td>\n",
       "    </tr>\n",
       "    <tr>\n",
       "      <th>...</th>\n",
       "      <td>...</td>\n",
       "      <td>...</td>\n",
       "    </tr>\n",
       "    <tr>\n",
       "      <th>26724</th>\n",
       "      <td>À propos de Nice (1930)</td>\n",
       "      <td>3.125000</td>\n",
       "    </tr>\n",
       "    <tr>\n",
       "      <th>26725</th>\n",
       "      <td>Árido Movie (2005)</td>\n",
       "      <td>2.000000</td>\n",
       "    </tr>\n",
       "    <tr>\n",
       "      <th>26726</th>\n",
       "      <td>Åsa-Nisse - Wälkom to Knohult (2011)</td>\n",
       "      <td>1.500000</td>\n",
       "    </tr>\n",
       "    <tr>\n",
       "      <th>26727</th>\n",
       "      <td>Üvegtigris (2001)</td>\n",
       "      <td>3.000000</td>\n",
       "    </tr>\n",
       "    <tr>\n",
       "      <th>26728</th>\n",
       "      <td>貞子3D (2012)</td>\n",
       "      <td>1.500000</td>\n",
       "    </tr>\n",
       "  </tbody>\n",
       "</table>\n",
       "<p>26729 rows × 2 columns</p>\n",
       "</div>"
      ],
      "text/plain": [
       "                                                   title  avg_ratings\n",
       "0                       \"Great Performances\" Cats (1998)     2.748387\n",
       "1      #chicagoGirl: The Social Network Takes on a Di...     3.666667\n",
       "2                                     $ (Dollars) (1971)     2.833333\n",
       "3                                        $5 a Day (2008)     2.871795\n",
       "4                                           $9.99 (2008)     3.009091\n",
       "...                                                  ...          ...\n",
       "26724                            À propos de Nice (1930)     3.125000\n",
       "26725                                 Árido Movie (2005)     2.000000\n",
       "26726               Åsa-Nisse - Wälkom to Knohult (2011)     1.500000\n",
       "26727                                  Üvegtigris (2001)     3.000000\n",
       "26728                                        貞子3D (2012)     1.500000\n",
       "\n",
       "[26729 rows x 2 columns]"
      ]
     },
     "execution_count": 27,
     "metadata": {},
     "output_type": "execute_result"
    }
   ],
   "source": [
    "avg_rating_df = data.groupby('title')['rating'].mean().reset_index()\n",
    "avg_rating_df.rename(columns={'rating':'avg_ratings'}, inplace=True)\n",
    "avg_rating_df"
   ]
  },
  {
   "cell_type": "code",
   "execution_count": 28,
   "id": "3262f48d",
   "metadata": {
    "colab": {
     "base_uri": "https://localhost:8080/",
     "height": 424
    },
    "id": "3262f48d",
    "outputId": "b1d3ffd7-4670-4135-ddbd-997b51208a30"
   },
   "outputs": [
    {
     "data": {
      "text/html": [
       "<div>\n",
       "<style scoped>\n",
       "    .dataframe tbody tr th:only-of-type {\n",
       "        vertical-align: middle;\n",
       "    }\n",
       "\n",
       "    .dataframe tbody tr th {\n",
       "        vertical-align: top;\n",
       "    }\n",
       "\n",
       "    .dataframe thead th {\n",
       "        text-align: right;\n",
       "    }\n",
       "</style>\n",
       "<table border=\"1\" class=\"dataframe\">\n",
       "  <thead>\n",
       "    <tr style=\"text-align: right;\">\n",
       "      <th></th>\n",
       "      <th>title</th>\n",
       "      <th>num_ratings</th>\n",
       "      <th>avg_ratings</th>\n",
       "    </tr>\n",
       "  </thead>\n",
       "  <tbody>\n",
       "    <tr>\n",
       "      <th>0</th>\n",
       "      <td>\"Great Performances\" Cats (1998)</td>\n",
       "      <td>155</td>\n",
       "      <td>2.748387</td>\n",
       "    </tr>\n",
       "    <tr>\n",
       "      <th>1</th>\n",
       "      <td>#chicagoGirl: The Social Network Takes on a Di...</td>\n",
       "      <td>3</td>\n",
       "      <td>3.666667</td>\n",
       "    </tr>\n",
       "    <tr>\n",
       "      <th>2</th>\n",
       "      <td>$ (Dollars) (1971)</td>\n",
       "      <td>24</td>\n",
       "      <td>2.833333</td>\n",
       "    </tr>\n",
       "    <tr>\n",
       "      <th>3</th>\n",
       "      <td>$5 a Day (2008)</td>\n",
       "      <td>39</td>\n",
       "      <td>2.871795</td>\n",
       "    </tr>\n",
       "    <tr>\n",
       "      <th>4</th>\n",
       "      <td>$9.99 (2008)</td>\n",
       "      <td>55</td>\n",
       "      <td>3.009091</td>\n",
       "    </tr>\n",
       "    <tr>\n",
       "      <th>...</th>\n",
       "      <td>...</td>\n",
       "      <td>...</td>\n",
       "      <td>...</td>\n",
       "    </tr>\n",
       "    <tr>\n",
       "      <th>26724</th>\n",
       "      <td>À propos de Nice (1930)</td>\n",
       "      <td>4</td>\n",
       "      <td>3.125000</td>\n",
       "    </tr>\n",
       "    <tr>\n",
       "      <th>26725</th>\n",
       "      <td>Árido Movie (2005)</td>\n",
       "      <td>1</td>\n",
       "      <td>2.000000</td>\n",
       "    </tr>\n",
       "    <tr>\n",
       "      <th>26726</th>\n",
       "      <td>Åsa-Nisse - Wälkom to Knohult (2011)</td>\n",
       "      <td>2</td>\n",
       "      <td>1.500000</td>\n",
       "    </tr>\n",
       "    <tr>\n",
       "      <th>26727</th>\n",
       "      <td>Üvegtigris (2001)</td>\n",
       "      <td>1</td>\n",
       "      <td>3.000000</td>\n",
       "    </tr>\n",
       "    <tr>\n",
       "      <th>26728</th>\n",
       "      <td>貞子3D (2012)</td>\n",
       "      <td>1</td>\n",
       "      <td>1.500000</td>\n",
       "    </tr>\n",
       "  </tbody>\n",
       "</table>\n",
       "<p>26729 rows × 3 columns</p>\n",
       "</div>"
      ],
      "text/plain": [
       "                                                   title  num_ratings  \\\n",
       "0                       \"Great Performances\" Cats (1998)          155   \n",
       "1      #chicagoGirl: The Social Network Takes on a Di...            3   \n",
       "2                                     $ (Dollars) (1971)           24   \n",
       "3                                        $5 a Day (2008)           39   \n",
       "4                                           $9.99 (2008)           55   \n",
       "...                                                  ...          ...   \n",
       "26724                            À propos de Nice (1930)            4   \n",
       "26725                                 Árido Movie (2005)            1   \n",
       "26726               Åsa-Nisse - Wälkom to Knohult (2011)            2   \n",
       "26727                                  Üvegtigris (2001)            1   \n",
       "26728                                        貞子3D (2012)            1   \n",
       "\n",
       "       avg_ratings  \n",
       "0         2.748387  \n",
       "1         3.666667  \n",
       "2         2.833333  \n",
       "3         2.871795  \n",
       "4         3.009091  \n",
       "...            ...  \n",
       "26724     3.125000  \n",
       "26725     2.000000  \n",
       "26726     1.500000  \n",
       "26727     3.000000  \n",
       "26728     1.500000  \n",
       "\n",
       "[26729 rows x 3 columns]"
      ]
     },
     "execution_count": 28,
     "metadata": {},
     "output_type": "execute_result"
    }
   ],
   "source": [
    "popular_movies_df = num_rating_df.merge(avg_rating_df,on='title')\n",
    "popular_movies_df"
   ]
  },
  {
   "cell_type": "code",
   "execution_count": 29,
   "id": "b9766c4c",
   "metadata": {
    "colab": {
     "base_uri": "https://localhost:8080/",
     "height": 1000
    },
    "id": "b9766c4c",
    "outputId": "4f2af38d-791e-42dd-964b-e8b03f99fdfe"
   },
   "outputs": [
    {
     "data": {
      "text/html": [
       "<div>\n",
       "<style scoped>\n",
       "    .dataframe tbody tr th:only-of-type {\n",
       "        vertical-align: middle;\n",
       "    }\n",
       "\n",
       "    .dataframe tbody tr th {\n",
       "        vertical-align: top;\n",
       "    }\n",
       "\n",
       "    .dataframe thead th {\n",
       "        text-align: right;\n",
       "    }\n",
       "</style>\n",
       "<table border=\"1\" class=\"dataframe\">\n",
       "  <thead>\n",
       "    <tr style=\"text-align: right;\">\n",
       "      <th></th>\n",
       "      <th>title</th>\n",
       "      <th>num_ratings</th>\n",
       "      <th>avg_ratings</th>\n",
       "    </tr>\n",
       "  </thead>\n",
       "  <tbody>\n",
       "    <tr>\n",
       "      <th>20780</th>\n",
       "      <td>Shawshank Redemption, The (1994)</td>\n",
       "      <td>63366</td>\n",
       "      <td>4.446990</td>\n",
       "    </tr>\n",
       "    <tr>\n",
       "      <th>9587</th>\n",
       "      <td>Godfather, The (1972)</td>\n",
       "      <td>41355</td>\n",
       "      <td>4.364732</td>\n",
       "    </tr>\n",
       "    <tr>\n",
       "      <th>24968</th>\n",
       "      <td>Usual Suspects, The (1995)</td>\n",
       "      <td>47006</td>\n",
       "      <td>4.334372</td>\n",
       "    </tr>\n",
       "    <tr>\n",
       "      <th>20318</th>\n",
       "      <td>Schindler's List (1993)</td>\n",
       "      <td>50054</td>\n",
       "      <td>4.310175</td>\n",
       "    </tr>\n",
       "    <tr>\n",
       "      <th>9588</th>\n",
       "      <td>Godfather: Part II, The (1974)</td>\n",
       "      <td>27398</td>\n",
       "      <td>4.275641</td>\n",
       "    </tr>\n",
       "    <tr>\n",
       "      <th>20601</th>\n",
       "      <td>Seven Samurai (Shichinin no samurai) (1954)</td>\n",
       "      <td>11611</td>\n",
       "      <td>4.274180</td>\n",
       "    </tr>\n",
       "    <tr>\n",
       "      <th>19204</th>\n",
       "      <td>Rear Window (1954)</td>\n",
       "      <td>17449</td>\n",
       "      <td>4.271334</td>\n",
       "    </tr>\n",
       "    <tr>\n",
       "      <th>2073</th>\n",
       "      <td>Band of Brothers (2001)</td>\n",
       "      <td>4305</td>\n",
       "      <td>4.263182</td>\n",
       "    </tr>\n",
       "    <tr>\n",
       "      <th>4237</th>\n",
       "      <td>Casablanca (1942)</td>\n",
       "      <td>24349</td>\n",
       "      <td>4.258327</td>\n",
       "    </tr>\n",
       "    <tr>\n",
       "      <th>22421</th>\n",
       "      <td>Sunset Blvd. (a.k.a. Sunset Boulevard) (1950)</td>\n",
       "      <td>6525</td>\n",
       "      <td>4.256935</td>\n",
       "    </tr>\n",
       "    <tr>\n",
       "      <th>17323</th>\n",
       "      <td>One Flew Over the Cuckoo's Nest (1975)</td>\n",
       "      <td>29932</td>\n",
       "      <td>4.248079</td>\n",
       "    </tr>\n",
       "    <tr>\n",
       "      <th>6974</th>\n",
       "      <td>Dr. Strangelove or: How I Learned to Stop Worr...</td>\n",
       "      <td>23220</td>\n",
       "      <td>4.247287</td>\n",
       "    </tr>\n",
       "    <tr>\n",
       "      <th>23735</th>\n",
       "      <td>Third Man, The (1949)</td>\n",
       "      <td>6565</td>\n",
       "      <td>4.246002</td>\n",
       "    </tr>\n",
       "    <tr>\n",
       "      <th>4847</th>\n",
       "      <td>City of God (Cidade de Deus) (2002)</td>\n",
       "      <td>12937</td>\n",
       "      <td>4.235410</td>\n",
       "    </tr>\n",
       "    <tr>\n",
       "      <th>14075</th>\n",
       "      <td>Lives of Others, The (Das leben der Anderen) (...</td>\n",
       "      <td>5720</td>\n",
       "      <td>4.234790</td>\n",
       "    </tr>\n",
       "    <tr>\n",
       "      <th>16958</th>\n",
       "      <td>North by Northwest (1959)</td>\n",
       "      <td>15627</td>\n",
       "      <td>4.233538</td>\n",
       "    </tr>\n",
       "    <tr>\n",
       "      <th>17881</th>\n",
       "      <td>Paths of Glory (1957)</td>\n",
       "      <td>3568</td>\n",
       "      <td>4.232623</td>\n",
       "    </tr>\n",
       "    <tr>\n",
       "      <th>8251</th>\n",
       "      <td>Fight Club (1999)</td>\n",
       "      <td>40106</td>\n",
       "      <td>4.227123</td>\n",
       "    </tr>\n",
       "    <tr>\n",
       "      <th>6897</th>\n",
       "      <td>Double Indemnity (1944)</td>\n",
       "      <td>4909</td>\n",
       "      <td>4.224282</td>\n",
       "    </tr>\n",
       "    <tr>\n",
       "      <th>79</th>\n",
       "      <td>12 Angry Men (1957)</td>\n",
       "      <td>12934</td>\n",
       "      <td>4.224138</td>\n",
       "    </tr>\n",
       "    <tr>\n",
       "      <th>5381</th>\n",
       "      <td>Cosmos (1980)</td>\n",
       "      <td>936</td>\n",
       "      <td>4.220620</td>\n",
       "    </tr>\n",
       "    <tr>\n",
       "      <th>5914</th>\n",
       "      <td>Dark Knight, The (2008)</td>\n",
       "      <td>20438</td>\n",
       "      <td>4.220129</td>\n",
       "    </tr>\n",
       "    <tr>\n",
       "      <th>19073</th>\n",
       "      <td>Raiders of the Lost Ark (Indiana Jones and the...</td>\n",
       "      <td>43295</td>\n",
       "      <td>4.219009</td>\n",
       "    </tr>\n",
       "    <tr>\n",
       "      <th>26477</th>\n",
       "      <td>Yojimbo (1961)</td>\n",
       "      <td>3559</td>\n",
       "      <td>4.211717</td>\n",
       "    </tr>\n",
       "    <tr>\n",
       "      <th>2726</th>\n",
       "      <td>Big Sleep, The (1946)</td>\n",
       "      <td>5529</td>\n",
       "      <td>4.207361</td>\n",
       "    </tr>\n",
       "    <tr>\n",
       "      <th>920</th>\n",
       "      <td>All About Eve (1950)</td>\n",
       "      <td>4826</td>\n",
       "      <td>4.204103</td>\n",
       "    </tr>\n",
       "    <tr>\n",
       "      <th>21731</th>\n",
       "      <td>Spirited Away (Sen to Chihiro no kamikakushi) ...</td>\n",
       "      <td>13466</td>\n",
       "      <td>4.203810</td>\n",
       "    </tr>\n",
       "    <tr>\n",
       "      <th>4667</th>\n",
       "      <td>Chinatown (1974)</td>\n",
       "      <td>15310</td>\n",
       "      <td>4.199673</td>\n",
       "    </tr>\n",
       "    <tr>\n",
       "      <th>17019</th>\n",
       "      <td>Notorious (1946)</td>\n",
       "      <td>4932</td>\n",
       "      <td>4.197790</td>\n",
       "    </tr>\n",
       "    <tr>\n",
       "      <th>1088</th>\n",
       "      <td>Amelie (Fabuleux destin d'Amélie Poulain, Le) ...</td>\n",
       "      <td>24349</td>\n",
       "      <td>4.197072</td>\n",
       "    </tr>\n",
       "    <tr>\n",
       "      <th>14575</th>\n",
       "      <td>M (1931)</td>\n",
       "      <td>4232</td>\n",
       "      <td>4.193171</td>\n",
       "    </tr>\n",
       "    <tr>\n",
       "      <th>21872</th>\n",
       "      <td>Star Wars: Episode IV - A New Hope (1977)</td>\n",
       "      <td>54502</td>\n",
       "      <td>4.190672</td>\n",
       "    </tr>\n",
       "    <tr>\n",
       "      <th>24058</th>\n",
       "      <td>To Kill a Mockingbird (1962)</td>\n",
       "      <td>14769</td>\n",
       "      <td>4.188943</td>\n",
       "    </tr>\n",
       "    <tr>\n",
       "      <th>21873</th>\n",
       "      <td>Star Wars: Episode V - The Empire Strikes Back...</td>\n",
       "      <td>45313</td>\n",
       "      <td>4.188202</td>\n",
       "    </tr>\n",
       "    <tr>\n",
       "      <th>14798</th>\n",
       "      <td>Maltese Falcon, The (1941)</td>\n",
       "      <td>12144</td>\n",
       "      <td>4.187212</td>\n",
       "    </tr>\n",
       "    <tr>\n",
       "      <th>15187</th>\n",
       "      <td>Matrix, The (1999)</td>\n",
       "      <td>51334</td>\n",
       "      <td>4.187186</td>\n",
       "    </tr>\n",
       "    <tr>\n",
       "      <th>23713</th>\n",
       "      <td>Thin Man, The (1934)</td>\n",
       "      <td>3358</td>\n",
       "      <td>4.184187</td>\n",
       "    </tr>\n",
       "    <tr>\n",
       "      <th>9772</th>\n",
       "      <td>Goodfellas (1990)</td>\n",
       "      <td>26406</td>\n",
       "      <td>4.183633</td>\n",
       "    </tr>\n",
       "    <tr>\n",
       "      <th>24222</th>\n",
       "      <td>Touch of Evil (1958)</td>\n",
       "      <td>4718</td>\n",
       "      <td>4.183022</td>\n",
       "    </tr>\n",
       "    <tr>\n",
       "      <th>2904</th>\n",
       "      <td>Black Mirror (2011)</td>\n",
       "      <td>582</td>\n",
       "      <td>4.182990</td>\n",
       "    </tr>\n",
       "    <tr>\n",
       "      <th>25377</th>\n",
       "      <td>Wallace &amp; Gromit: The Wrong Trousers (1993)</td>\n",
       "      <td>15022</td>\n",
       "      <td>4.181068</td>\n",
       "    </tr>\n",
       "    <tr>\n",
       "      <th>15319</th>\n",
       "      <td>Memento (2000)</td>\n",
       "      <td>30443</td>\n",
       "      <td>4.178547</td>\n",
       "    </tr>\n",
       "    <tr>\n",
       "      <th>20995</th>\n",
       "      <td>Silence of the Lambs, The (1991)</td>\n",
       "      <td>63299</td>\n",
       "      <td>4.177057</td>\n",
       "    </tr>\n",
       "    <tr>\n",
       "      <th>18649</th>\n",
       "      <td>Princess Bride, The (1987)</td>\n",
       "      <td>32586</td>\n",
       "      <td>4.176732</td>\n",
       "    </tr>\n",
       "    <tr>\n",
       "      <th>19144</th>\n",
       "      <td>Rashomon (Rashômon) (1950)</td>\n",
       "      <td>3712</td>\n",
       "      <td>4.176724</td>\n",
       "    </tr>\n",
       "    <tr>\n",
       "      <th>13829</th>\n",
       "      <td>Life Is Beautiful (La Vita è bella) (1997)</td>\n",
       "      <td>18156</td>\n",
       "      <td>4.175837</td>\n",
       "    </tr>\n",
       "    <tr>\n",
       "      <th>18825</th>\n",
       "      <td>Pulp Fiction (1994)</td>\n",
       "      <td>67310</td>\n",
       "      <td>4.174231</td>\n",
       "    </tr>\n",
       "    <tr>\n",
       "      <th>15825</th>\n",
       "      <td>Monty Python and the Holy Grail (1975)</td>\n",
       "      <td>33024</td>\n",
       "      <td>4.174146</td>\n",
       "    </tr>\n",
       "    <tr>\n",
       "      <th>6247</th>\n",
       "      <td>Decalogue, The (Dekalog) (1989)</td>\n",
       "      <td>402</td>\n",
       "      <td>4.174129</td>\n",
       "    </tr>\n",
       "    <tr>\n",
       "      <th>4833</th>\n",
       "      <td>City Lights (1931)</td>\n",
       "      <td>2593</td>\n",
       "      <td>4.174123</td>\n",
       "    </tr>\n",
       "  </tbody>\n",
       "</table>\n",
       "</div>"
      ],
      "text/plain": [
       "                                                   title  num_ratings  \\\n",
       "20780                   Shawshank Redemption, The (1994)        63366   \n",
       "9587                               Godfather, The (1972)        41355   \n",
       "24968                         Usual Suspects, The (1995)        47006   \n",
       "20318                            Schindler's List (1993)        50054   \n",
       "9588                      Godfather: Part II, The (1974)        27398   \n",
       "20601        Seven Samurai (Shichinin no samurai) (1954)        11611   \n",
       "19204                                 Rear Window (1954)        17449   \n",
       "2073                             Band of Brothers (2001)         4305   \n",
       "4237                                   Casablanca (1942)        24349   \n",
       "22421      Sunset Blvd. (a.k.a. Sunset Boulevard) (1950)         6525   \n",
       "17323             One Flew Over the Cuckoo's Nest (1975)        29932   \n",
       "6974   Dr. Strangelove or: How I Learned to Stop Worr...        23220   \n",
       "23735                              Third Man, The (1949)         6565   \n",
       "4847                 City of God (Cidade de Deus) (2002)        12937   \n",
       "14075  Lives of Others, The (Das leben der Anderen) (...         5720   \n",
       "16958                          North by Northwest (1959)        15627   \n",
       "17881                              Paths of Glory (1957)         3568   \n",
       "8251                                   Fight Club (1999)        40106   \n",
       "6897                             Double Indemnity (1944)         4909   \n",
       "79                                   12 Angry Men (1957)        12934   \n",
       "5381                                       Cosmos (1980)          936   \n",
       "5914                             Dark Knight, The (2008)        20438   \n",
       "19073  Raiders of the Lost Ark (Indiana Jones and the...        43295   \n",
       "26477                                     Yojimbo (1961)         3559   \n",
       "2726                               Big Sleep, The (1946)         5529   \n",
       "920                                 All About Eve (1950)         4826   \n",
       "21731  Spirited Away (Sen to Chihiro no kamikakushi) ...        13466   \n",
       "4667                                    Chinatown (1974)        15310   \n",
       "17019                                   Notorious (1946)         4932   \n",
       "1088   Amelie (Fabuleux destin d'Amélie Poulain, Le) ...        24349   \n",
       "14575                                           M (1931)         4232   \n",
       "21872          Star Wars: Episode IV - A New Hope (1977)        54502   \n",
       "24058                       To Kill a Mockingbird (1962)        14769   \n",
       "21873  Star Wars: Episode V - The Empire Strikes Back...        45313   \n",
       "14798                         Maltese Falcon, The (1941)        12144   \n",
       "15187                                 Matrix, The (1999)        51334   \n",
       "23713                               Thin Man, The (1934)         3358   \n",
       "9772                                   Goodfellas (1990)        26406   \n",
       "24222                               Touch of Evil (1958)         4718   \n",
       "2904                                 Black Mirror (2011)          582   \n",
       "25377        Wallace & Gromit: The Wrong Trousers (1993)        15022   \n",
       "15319                                     Memento (2000)        30443   \n",
       "20995                   Silence of the Lambs, The (1991)        63299   \n",
       "18649                         Princess Bride, The (1987)        32586   \n",
       "19144                         Rashomon (Rashômon) (1950)         3712   \n",
       "13829         Life Is Beautiful (La Vita è bella) (1997)        18156   \n",
       "18825                                Pulp Fiction (1994)        67310   \n",
       "15825             Monty Python and the Holy Grail (1975)        33024   \n",
       "6247                     Decalogue, The (Dekalog) (1989)          402   \n",
       "4833                                  City Lights (1931)         2593   \n",
       "\n",
       "       avg_ratings  \n",
       "20780     4.446990  \n",
       "9587      4.364732  \n",
       "24968     4.334372  \n",
       "20318     4.310175  \n",
       "9588      4.275641  \n",
       "20601     4.274180  \n",
       "19204     4.271334  \n",
       "2073      4.263182  \n",
       "4237      4.258327  \n",
       "22421     4.256935  \n",
       "17323     4.248079  \n",
       "6974      4.247287  \n",
       "23735     4.246002  \n",
       "4847      4.235410  \n",
       "14075     4.234790  \n",
       "16958     4.233538  \n",
       "17881     4.232623  \n",
       "8251      4.227123  \n",
       "6897      4.224282  \n",
       "79        4.224138  \n",
       "5381      4.220620  \n",
       "5914      4.220129  \n",
       "19073     4.219009  \n",
       "26477     4.211717  \n",
       "2726      4.207361  \n",
       "920       4.204103  \n",
       "21731     4.203810  \n",
       "4667      4.199673  \n",
       "17019     4.197790  \n",
       "1088      4.197072  \n",
       "14575     4.193171  \n",
       "21872     4.190672  \n",
       "24058     4.188943  \n",
       "21873     4.188202  \n",
       "14798     4.187212  \n",
       "15187     4.187186  \n",
       "23713     4.184187  \n",
       "9772      4.183633  \n",
       "24222     4.183022  \n",
       "2904      4.182990  \n",
       "25377     4.181068  \n",
       "15319     4.178547  \n",
       "20995     4.177057  \n",
       "18649     4.176732  \n",
       "19144     4.176724  \n",
       "13829     4.175837  \n",
       "18825     4.174231  \n",
       "15825     4.174146  \n",
       "6247      4.174129  \n",
       "4833      4.174123  "
      ]
     },
     "execution_count": 29,
     "metadata": {},
     "output_type": "execute_result"
    }
   ],
   "source": [
    "popular_movies_df = popular_movies_df[popular_movies_df['num_ratings']>=300].sort_values('avg_ratings',ascending=False).head(50)\n",
    "popular_movies_df.merge(movie_df,on='title').drop_duplicates('title').shape\n",
    "\n",
    "popular_movies_df"
   ]
  },
  {
   "cell_type": "code",
   "execution_count": 30,
   "id": "46aa9c35",
   "metadata": {
    "colab": {
     "base_uri": "https://localhost:8080/",
     "height": 363
    },
    "id": "46aa9c35",
    "outputId": "f52cacd0-69d5-45e6-ace2-746e37ca0e16"
   },
   "outputs": [
    {
     "data": {
      "text/html": [
       "<div>\n",
       "<style scoped>\n",
       "    .dataframe tbody tr th:only-of-type {\n",
       "        vertical-align: middle;\n",
       "    }\n",
       "\n",
       "    .dataframe tbody tr th {\n",
       "        vertical-align: top;\n",
       "    }\n",
       "\n",
       "    .dataframe thead th {\n",
       "        text-align: right;\n",
       "    }\n",
       "</style>\n",
       "<table border=\"1\" class=\"dataframe\">\n",
       "  <thead>\n",
       "    <tr style=\"text-align: right;\">\n",
       "      <th></th>\n",
       "      <th>title</th>\n",
       "      <th>num_ratings</th>\n",
       "      <th>avg_ratings</th>\n",
       "    </tr>\n",
       "  </thead>\n",
       "  <tbody>\n",
       "    <tr>\n",
       "      <th>20780</th>\n",
       "      <td>Shawshank Redemption, The (1994)</td>\n",
       "      <td>63366</td>\n",
       "      <td>4.446990</td>\n",
       "    </tr>\n",
       "    <tr>\n",
       "      <th>9587</th>\n",
       "      <td>Godfather, The (1972)</td>\n",
       "      <td>41355</td>\n",
       "      <td>4.364732</td>\n",
       "    </tr>\n",
       "    <tr>\n",
       "      <th>24968</th>\n",
       "      <td>Usual Suspects, The (1995)</td>\n",
       "      <td>47006</td>\n",
       "      <td>4.334372</td>\n",
       "    </tr>\n",
       "    <tr>\n",
       "      <th>20318</th>\n",
       "      <td>Schindler's List (1993)</td>\n",
       "      <td>50054</td>\n",
       "      <td>4.310175</td>\n",
       "    </tr>\n",
       "    <tr>\n",
       "      <th>9588</th>\n",
       "      <td>Godfather: Part II, The (1974)</td>\n",
       "      <td>27398</td>\n",
       "      <td>4.275641</td>\n",
       "    </tr>\n",
       "    <tr>\n",
       "      <th>20601</th>\n",
       "      <td>Seven Samurai (Shichinin no samurai) (1954)</td>\n",
       "      <td>11611</td>\n",
       "      <td>4.274180</td>\n",
       "    </tr>\n",
       "    <tr>\n",
       "      <th>19204</th>\n",
       "      <td>Rear Window (1954)</td>\n",
       "      <td>17449</td>\n",
       "      <td>4.271334</td>\n",
       "    </tr>\n",
       "    <tr>\n",
       "      <th>2073</th>\n",
       "      <td>Band of Brothers (2001)</td>\n",
       "      <td>4305</td>\n",
       "      <td>4.263182</td>\n",
       "    </tr>\n",
       "    <tr>\n",
       "      <th>4237</th>\n",
       "      <td>Casablanca (1942)</td>\n",
       "      <td>24349</td>\n",
       "      <td>4.258327</td>\n",
       "    </tr>\n",
       "    <tr>\n",
       "      <th>22421</th>\n",
       "      <td>Sunset Blvd. (a.k.a. Sunset Boulevard) (1950)</td>\n",
       "      <td>6525</td>\n",
       "      <td>4.256935</td>\n",
       "    </tr>\n",
       "  </tbody>\n",
       "</table>\n",
       "</div>"
      ],
      "text/plain": [
       "                                               title  num_ratings  avg_ratings\n",
       "20780               Shawshank Redemption, The (1994)        63366     4.446990\n",
       "9587                           Godfather, The (1972)        41355     4.364732\n",
       "24968                     Usual Suspects, The (1995)        47006     4.334372\n",
       "20318                        Schindler's List (1993)        50054     4.310175\n",
       "9588                  Godfather: Part II, The (1974)        27398     4.275641\n",
       "20601    Seven Samurai (Shichinin no samurai) (1954)        11611     4.274180\n",
       "19204                             Rear Window (1954)        17449     4.271334\n",
       "2073                         Band of Brothers (2001)         4305     4.263182\n",
       "4237                               Casablanca (1942)        24349     4.258327\n",
       "22421  Sunset Blvd. (a.k.a. Sunset Boulevard) (1950)         6525     4.256935"
      ]
     },
     "execution_count": 30,
     "metadata": {},
     "output_type": "execute_result"
    }
   ],
   "source": [
    "popular_movies_df.head(10)"
   ]
  },
  {
   "cell_type": "code",
   "execution_count": 31,
   "id": "6852a0ba",
   "metadata": {
    "colab": {
     "base_uri": "https://localhost:8080/",
     "height": 718
    },
    "id": "6852a0ba",
    "outputId": "5eb09795-7751-4f81-a18b-d71d7ee97ca8"
   },
   "outputs": [
    {
     "data": {
      "image/png": "[encoded data removed]",
      "text/plain": [
       "<Figure size 1200x800 with 2 Axes>"
      ]
     },
     "metadata": {},
     "output_type": "display_data"
    }
   ],
   "source": [
    "top_50_movies = popular_movies_df.head(50)\n",
    "\n",
    "plt.figure(figsize=(12, 8))\n",
    "scatter = plt.scatter(top_50_movies['avg_ratings'], top_50_movies.index, c=top_50_movies.index, cmap='cool', s=50)\n",
    "plt.xlabel('Average Ratings')\n",
    "plt.title('Top 50 Movies with the Highest Average Ratings (Scatter Plot)')\n",
    "plt.gca().invert_yaxis()\n",
    "plt.colorbar(label='Movie Index', orientation='vertical')\n",
    "\n",
    "plt.show()"
   ]
  },
  {
   "cell_type": "markdown",
   "id": "Erh8pIB8QySU",
   "metadata": {
    "id": "Erh8pIB8QySU"
   },
   "source": [
    "**Matrix** **Factorization**"
   ]
  },
  {
   "cell_type": "markdown",
   "id": "Ix-NGNjjADGj",
   "metadata": {
    "id": "Ix-NGNjjADGj"
   },
   "source": [
    "* We use the movies dataset and rating dataset, we then merge and check if all the data match. ​\n",
    "\n",
    "* We then define a list of movies, It begins by filtering a DataFrame for certain movies, then produces a Surprise dataset and divides it into training and test sets. ​\n",
    "\n",
    "* This data is used to train the SVD model, which is then assessed using RMSE. Finally, it predicts a rating for a given user-item pair, illustrating how the model may be employed to predict user preferences for movies."
   ]
  },
  {
   "cell_type": "code",
   "execution_count": null,
   "id": "sG1eESwuQ304",
   "metadata": {
    "colab": {
     "base_uri": "https://localhost:8080/",
     "height": 206
    },
    "id": "sG1eESwuQ304",
    "outputId": "5ed26b83-b0f8-4206-9dac-fcd191444542"
   },
   "outputs": [
    {
     "data": {
      "text/html": [
       "<div>\n",
       "<style scoped>\n",
       "    .dataframe tbody tr th:only-of-type {\n",
       "        vertical-align: middle;\n",
       "    }\n",
       "\n",
       "    .dataframe tbody tr th {\n",
       "        vertical-align: top;\n",
       "    }\n",
       "\n",
       "    .dataframe thead th {\n",
       "        text-align: right;\n",
       "    }\n",
       "</style>\n",
       "<table border=\"1\" class=\"dataframe\">\n",
       "  <thead>\n",
       "    <tr style=\"text-align: right;\">\n",
       "      <th></th>\n",
       "      <th>movieId</th>\n",
       "      <th>title</th>\n",
       "      <th>genres</th>\n",
       "      <th>userId</th>\n",
       "      <th>rating</th>\n",
       "      <th>timestamp</th>\n",
       "    </tr>\n",
       "  </thead>\n",
       "  <tbody>\n",
       "    <tr>\n",
       "      <th>0</th>\n",
       "      <td>1</td>\n",
       "      <td>Toy Story (1995)</td>\n",
       "      <td>Adventure|Animation|Children|Comedy|Fantasy</td>\n",
       "      <td>3.0</td>\n",
       "      <td>4.0</td>\n",
       "      <td>9.449194e+08</td>\n",
       "    </tr>\n",
       "    <tr>\n",
       "      <th>1</th>\n",
       "      <td>1</td>\n",
       "      <td>Toy Story (1995)</td>\n",
       "      <td>Adventure|Animation|Children|Comedy|Fantasy</td>\n",
       "      <td>6.0</td>\n",
       "      <td>5.0</td>\n",
       "      <td>8.582755e+08</td>\n",
       "    </tr>\n",
       "    <tr>\n",
       "      <th>2</th>\n",
       "      <td>1</td>\n",
       "      <td>Toy Story (1995)</td>\n",
       "      <td>Adventure|Animation|Children|Comedy|Fantasy</td>\n",
       "      <td>8.0</td>\n",
       "      <td>4.0</td>\n",
       "      <td>8.339819e+08</td>\n",
       "    </tr>\n",
       "    <tr>\n",
       "      <th>3</th>\n",
       "      <td>1</td>\n",
       "      <td>Toy Story (1995)</td>\n",
       "      <td>Adventure|Animation|Children|Comedy|Fantasy</td>\n",
       "      <td>10.0</td>\n",
       "      <td>4.0</td>\n",
       "      <td>9.434979e+08</td>\n",
       "    </tr>\n",
       "    <tr>\n",
       "      <th>4</th>\n",
       "      <td>1</td>\n",
       "      <td>Toy Story (1995)</td>\n",
       "      <td>Adventure|Animation|Children|Comedy|Fantasy</td>\n",
       "      <td>11.0</td>\n",
       "      <td>4.5</td>\n",
       "      <td>1.230859e+09</td>\n",
       "    </tr>\n",
       "  </tbody>\n",
       "</table>\n",
       "</div>"
      ],
      "text/plain": [
       "   movieId             title                                       genres  \\\n",
       "0        1  Toy Story (1995)  Adventure|Animation|Children|Comedy|Fantasy   \n",
       "1        1  Toy Story (1995)  Adventure|Animation|Children|Comedy|Fantasy   \n",
       "2        1  Toy Story (1995)  Adventure|Animation|Children|Comedy|Fantasy   \n",
       "3        1  Toy Story (1995)  Adventure|Animation|Children|Comedy|Fantasy   \n",
       "4        1  Toy Story (1995)  Adventure|Animation|Children|Comedy|Fantasy   \n",
       "\n",
       "   userId  rating     timestamp  \n",
       "0     3.0     4.0  9.449194e+08  \n",
       "1     6.0     5.0  8.582755e+08  \n",
       "2     8.0     4.0  8.339819e+08  \n",
       "3    10.0     4.0  9.434979e+08  \n",
       "4    11.0     4.5  1.230859e+09  "
      ]
     },
     "execution_count": 69,
     "metadata": {},
     "output_type": "execute_result"
    }
   ],
   "source": [
    "movie = pd.read_csv('ml-20m/ml-20m/movies.csv')\n",
    "rating = pd.read_csv('ml-20m/ml-20m/ratings.csv')\n",
    "df = movie.merge(rating, how=\"left\", on=\"movieId\")\n",
    "df.head()"
   ]
  },
  {
   "cell_type": "code",
   "execution_count": null,
   "id": "CIHEYuFtQ354",
   "metadata": {
    "colab": {
     "base_uri": "https://localhost:8080/"
    },
    "id": "CIHEYuFtQ354",
    "outputId": "b0d6f67f-3811-4af6-d8f6-a8fc3aaedf12"
   },
   "outputs": [
    {
     "name": "stdout",
     "output_type": "stream",
     "text": [
      "------------------------------- SHAPE --------------------------------\n",
      "Rows: 20000797\n",
      "Columns: 6\n",
      "------------------------------- TYPES --------------------------------\n",
      "movieId        int64\n",
      "title         object\n",
      "genres        object\n",
      "userId       float64\n",
      "rating       float64\n",
      "timestamp    float64\n",
      "dtype: object\n",
      "-------------------------------- HEAD --------------------------------\n",
      "   movieId             title                                       genres  \\\n",
      "0        1  Toy Story (1995)  Adventure|Animation|Children|Comedy|Fantasy   \n",
      "1        1  Toy Story (1995)  Adventure|Animation|Children|Comedy|Fantasy   \n",
      "2        1  Toy Story (1995)  Adventure|Animation|Children|Comedy|Fantasy   \n",
      "3        1  Toy Story (1995)  Adventure|Animation|Children|Comedy|Fantasy   \n",
      "4        1  Toy Story (1995)  Adventure|Animation|Children|Comedy|Fantasy   \n",
      "\n",
      "   userId  rating     timestamp  \n",
      "0     3.0     4.0  9.449194e+08  \n",
      "1     6.0     5.0  8.582755e+08  \n",
      "2     8.0     4.0  8.339819e+08  \n",
      "3    10.0     4.0  9.434979e+08  \n",
      "4    11.0     4.5  1.230859e+09  \n",
      "-------------------------------- TAIL --------------------------------\n",
      "          movieId                          title                    genres  \\\n",
      "20000792   131254   Kein Bund für's Leben (2007)                    Comedy   \n",
      "20000793   131256  Feuer, Eis & Dosenbier (2002)                    Comedy   \n",
      "20000794   131258             The Pirates (2014)                 Adventure   \n",
      "20000795   131260            Rentun Ruusu (2001)        (no genres listed)   \n",
      "20000796   131262               Innocence (2014)  Adventure|Fantasy|Horror   \n",
      "\n",
      "            userId  rating     timestamp  \n",
      "20000792   79570.0     4.0  1.427744e+09  \n",
      "20000793   79570.0     4.0  1.427745e+09  \n",
      "20000794   28906.0     2.5  1.427745e+09  \n",
      "20000795   65409.0     3.0  1.427745e+09  \n",
      "20000796  133047.0     4.0  1.427748e+09  \n",
      "--------------------------- MISSING VALUES ---------------------------\n",
      "movieId        0\n",
      "title          0\n",
      "genres         0\n",
      "userId       534\n",
      "rating       534\n",
      "timestamp    534\n",
      "dtype: int64\n",
      "------------------------- DUPLICATED VALUES --------------------------\n",
      "0\n",
      "------------------------------ DESCRIBE ------------------------------\n",
      "                count          mean           std          min           0%  \\\n",
      "movieId    20000797.0  9.044349e+03  1.979671e+04          1.0          1.0   \n",
      "userId     20000263.0  6.904587e+04  4.003863e+04          1.0          1.0   \n",
      "rating     20000263.0  3.525529e+00  1.051989e+00          0.5          0.5   \n",
      "timestamp  20000263.0  1.100918e+09  1.621694e+08  789652004.0  789652004.0   \n",
      "\n",
      "                   10%          20%          30%           40%           50%  \\\n",
      "movieId          296.0        592.0       1148.0  1.503000e+03  2.167000e+03   \n",
      "userId         13568.0      27221.0      41306.0  5.513200e+04  6.914100e+04   \n",
      "rating             2.0          3.0          3.0  3.500000e+00  3.500000e+00   \n",
      "timestamp  862788343.2  949455502.6  983805555.0  1.045514e+09  1.103556e+09   \n",
      "\n",
      "                    60%           70%           80%           90%  \\\n",
      "movieId    2.915000e+03  3.952000e+03  5.872000e+03  3.379400e+04   \n",
      "userId     8.285500e+04  9.670300e+04  1.107250e+05  1.244790e+05   \n",
      "rating     4.000000e+00  4.000000e+00  4.500000e+00  5.000000e+00   \n",
      "timestamp  1.139534e+09  1.197077e+09  1.256024e+09  1.333155e+09   \n",
      "\n",
      "                   100%           max  \n",
      "movieId    1.312620e+05  1.312620e+05  \n",
      "userId     1.384930e+05  1.384930e+05  \n",
      "rating     5.000000e+00  5.000000e+00  \n",
      "timestamp  1.427784e+09  1.427784e+09  \n"
     ]
    }
   ],
   "source": [
    "def check_df(dataframe, head=5):\n",
    "    print(\" SHAPE \".center(70,'-'))\n",
    "    print('Rows: {}'.format(dataframe.shape[0]))\n",
    "    print('Columns: {}'.format(dataframe.shape[1]))\n",
    "    print(\" TYPES \".center(70,'-'))\n",
    "    print(dataframe.dtypes)\n",
    "    print(\" HEAD \".center(70,'-'))\n",
    "    print(dataframe.head(head))\n",
    "    print(\" TAIL \".center(70,'-'))\n",
    "    print(dataframe.tail(head))\n",
    "    print(\" MISSING VALUES \".center(70,'-'))\n",
    "    print(dataframe.isnull().sum())\n",
    "    print(\" DUPLICATED VALUES \".center(70,'-'))\n",
    "    print(dataframe.duplicated().sum())\n",
    "    print(\" DESCRIBE \".center(70,'-'))\n",
    "    print(dataframe.describe([0, 0.10, 0.20, 0.30, 0.40, 0.50, 0.60, 0.70, 0.80, 0.90, 1]).T)\n",
    "\n",
    "check_df(df)"
   ]
  },
  {
   "cell_type": "code",
   "execution_count": null,
   "id": "SnZRxaZNQ38P",
   "metadata": {
    "colab": {
     "base_uri": "https://localhost:8080/",
     "height": 206
    },
    "id": "SnZRxaZNQ38P",
    "outputId": "6db660ad-696b-4142-d6a8-a6c6095a75d6"
   },
   "outputs": [
    {
     "data": {
      "text/html": [
       "<div>\n",
       "<style scoped>\n",
       "    .dataframe tbody tr th:only-of-type {\n",
       "        vertical-align: middle;\n",
       "    }\n",
       "\n",
       "    .dataframe tbody tr th {\n",
       "        vertical-align: top;\n",
       "    }\n",
       "\n",
       "    .dataframe thead th {\n",
       "        text-align: right;\n",
       "    }\n",
       "</style>\n",
       "<table border=\"1\" class=\"dataframe\">\n",
       "  <thead>\n",
       "    <tr style=\"text-align: right;\">\n",
       "      <th></th>\n",
       "      <th>movieId</th>\n",
       "      <th>title</th>\n",
       "      <th>genres</th>\n",
       "      <th>userId</th>\n",
       "      <th>rating</th>\n",
       "      <th>timestamp</th>\n",
       "    </tr>\n",
       "  </thead>\n",
       "  <tbody>\n",
       "    <tr>\n",
       "      <th>0</th>\n",
       "      <td>1</td>\n",
       "      <td>Toy Story (1995)</td>\n",
       "      <td>Adventure|Animation|Children|Comedy|Fantasy</td>\n",
       "      <td>3.0</td>\n",
       "      <td>4.0</td>\n",
       "      <td>9.449194e+08</td>\n",
       "    </tr>\n",
       "    <tr>\n",
       "      <th>1</th>\n",
       "      <td>1</td>\n",
       "      <td>Toy Story (1995)</td>\n",
       "      <td>Adventure|Animation|Children|Comedy|Fantasy</td>\n",
       "      <td>6.0</td>\n",
       "      <td>5.0</td>\n",
       "      <td>8.582755e+08</td>\n",
       "    </tr>\n",
       "    <tr>\n",
       "      <th>2</th>\n",
       "      <td>1</td>\n",
       "      <td>Toy Story (1995)</td>\n",
       "      <td>Adventure|Animation|Children|Comedy|Fantasy</td>\n",
       "      <td>8.0</td>\n",
       "      <td>4.0</td>\n",
       "      <td>8.339819e+08</td>\n",
       "    </tr>\n",
       "    <tr>\n",
       "      <th>3</th>\n",
       "      <td>1</td>\n",
       "      <td>Toy Story (1995)</td>\n",
       "      <td>Adventure|Animation|Children|Comedy|Fantasy</td>\n",
       "      <td>10.0</td>\n",
       "      <td>4.0</td>\n",
       "      <td>9.434979e+08</td>\n",
       "    </tr>\n",
       "    <tr>\n",
       "      <th>4</th>\n",
       "      <td>1</td>\n",
       "      <td>Toy Story (1995)</td>\n",
       "      <td>Adventure|Animation|Children|Comedy|Fantasy</td>\n",
       "      <td>11.0</td>\n",
       "      <td>4.5</td>\n",
       "      <td>1.230859e+09</td>\n",
       "    </tr>\n",
       "  </tbody>\n",
       "</table>\n",
       "</div>"
      ],
      "text/plain": [
       "   movieId             title                                       genres  \\\n",
       "0        1  Toy Story (1995)  Adventure|Animation|Children|Comedy|Fantasy   \n",
       "1        1  Toy Story (1995)  Adventure|Animation|Children|Comedy|Fantasy   \n",
       "2        1  Toy Story (1995)  Adventure|Animation|Children|Comedy|Fantasy   \n",
       "3        1  Toy Story (1995)  Adventure|Animation|Children|Comedy|Fantasy   \n",
       "4        1  Toy Story (1995)  Adventure|Animation|Children|Comedy|Fantasy   \n",
       "\n",
       "   userId  rating     timestamp  \n",
       "0     3.0     4.0  9.449194e+08  \n",
       "1     6.0     5.0  8.582755e+08  \n",
       "2     8.0     4.0  8.339819e+08  \n",
       "3    10.0     4.0  9.434979e+08  \n",
       "4    11.0     4.5  1.230859e+09  "
      ]
     },
     "execution_count": 71,
     "metadata": {},
     "output_type": "execute_result"
    }
   ],
   "source": [
    "selected_movie_ids = [1, 131254, 4422, 131262]\n",
    "\n",
    "selected_movies = [\"Toy Story (1995)\",\n",
    "                   \"Kein Bund für's Leben (2007)\",\n",
    "                   \"Forrest Gump (1994)\",\n",
    "                   \"Innocence (2014)\"]\n",
    "selected_movies_df = df[df.movieId.isin(selected_movie_ids)]\n",
    "\n",
    "selected_movies_df.head()"
   ]
  },
  {
   "cell_type": "code",
   "execution_count": null,
   "id": "tuMHDlzoQ3-b",
   "metadata": {
    "colab": {
     "base_uri": "https://localhost:8080/"
    },
    "id": "tuMHDlzoQ3-b",
    "outputId": "d0adbd7e-6546-4498-ddd4-807d16cbdcb2"
   },
   "outputs": [
    {
     "data": {
      "text/plain": [
       "(50341, 6)"
      ]
     },
     "execution_count": 72,
     "metadata": {},
     "output_type": "execute_result"
    }
   ],
   "source": [
    "selected_movies_df.shape"
   ]
  },
  {
   "cell_type": "code",
   "execution_count": null,
   "id": "n2Pv_MG9weG7",
   "metadata": {
    "id": "n2Pv_MG9weG7"
   },
   "outputs": [],
   "source": [
    "from surprise import Reader, SVD, Dataset, accuracy\n",
    "rating_scale = (1, 5)\n",
    "\n",
    "surprise_data = selected_movies_df[['userId', 'movieId', 'rating']]\n",
    "surprise_reader = Reader(rating_scale=rating_scale)\n",
    "surprise_data = Dataset.load_from_df(surprise_data, surprise_reader)"
   ]
  },
  {
   "cell_type": "code",
   "execution_count": null,
   "id": "4FbpcforweSl",
   "metadata": {
    "colab": {
     "base_uri": "https://localhost:8080/"
    },
    "id": "4FbpcforweSl",
    "outputId": "0bd3d073-adae-4574-e7fa-b578fa59d22a"
   },
   "outputs": [
    {
     "data": {
      "text/plain": [
       "<surprise.prediction_algorithms.matrix_factorization.SVD at 0x19638483610>"
      ]
     },
     "execution_count": 74,
     "metadata": {},
     "output_type": "execute_result"
    }
   ],
   "source": [
    "\n",
    "trainset, testset = train_test_split(surprise_data, test_size=.25)\n",
    "svd_model = SVD()\n",
    "svd_model.fit(trainset)"
   ]
  },
  {
   "cell_type": "code",
   "execution_count": null,
   "id": "BjLk0JAPwhVk",
   "metadata": {
    "colab": {
     "base_uri": "https://localhost:8080/"
    },
    "id": "BjLk0JAPwhVk",
    "outputId": "4144e4cb-60f6-41db-bfbe-80fcb6f0d7e1"
   },
   "outputs": [
    {
     "name": "stdout",
     "output_type": "stream",
     "text": [
      "RMSE: 0.8915\n",
      "Root Mean Squared Error (RMSE): 0.891507159720974\n"
     ]
    }
   ],
   "source": [
    "from surprise import accuracy\n",
    "\n",
    "predictions = svd_model.test(testset)\n",
    "\n",
    "rmse = accuracy.rmse(predictions)\n",
    "print(f\"Root Mean Squared Error (RMSE): {rmse}\")"
   ]
  },
  {
   "cell_type": "code",
   "execution_count": null,
   "id": "Zj_Uy9xZErsi",
   "metadata": {
    "id": "Zj_Uy9xZErsi"
   },
   "outputs": [],
   "source": [
    "import numpy as np\n",
    "\n",
    "def ndcg_at_k(y_true, y_score, k):\n",
    "\n",
    "    order = np.argsort(y_score)[::-1]\n",
    "    y_true = np.take(y_true, order[:k])\n",
    "\n",
    "    # Compute Discounted Cumulative Gain (DCG)\n",
    "    dcg = np.sum((2 ** y_true - 1) / np.log2(np.arange(2, y_true.size + 2)))\n",
    "\n",
    "    # Compute Ideal DCG (IDCG)\n",
    "    ideal_order = np.argsort(y_true)[::-1]\n",
    "    ideal_dcg = np.sum((2 ** np.take(y_true, ideal_order) - 1) / np.log2(np.arange(2, y_true.size + 2)))\n",
    "\n",
    "    # Compute Normalized DCG (nDCG)\n",
    "    ndcg = dcg / ideal_dcg if ideal_dcg > 0 else 0\n",
    "\n",
    "    return ndcg"
   ]
  },
  {
   "cell_type": "code",
   "execution_count": null,
   "id": "zp2EpYUJEsu5",
   "metadata": {
    "colab": {
     "base_uri": "https://localhost:8080/"
    },
    "id": "zp2EpYUJEsu5",
    "outputId": "654efd5d-f2b8-40cc-a724-a527203809c0"
   },
   "outputs": [
    {
     "name": "stdout",
     "output_type": "stream",
     "text": [
      "nDCG: 0.9998570404174507\n"
     ]
    }
   ],
   "source": [
    "# Calculate nDCG\n",
    "nDCG_values = []\n",
    "\n",
    "for user_id in set([user for (user, item, rating) in testset]):\n",
    "    user_ratings = [(item, rating) for (user_t, item, rating) in testset if user_t == user_id]\n",
    "    user_ratings.sort(key=lambda x: x[1], reverse=True)\n",
    "\n",
    "    top_k_movies = [item for item, _ in user_ratings[:10]]\n",
    "    top_k_predictions = [svd_model.predict(user_id, movie).est for movie in top_k_movies]\n",
    "    top_k_actual_ratings = [rating for _, rating in user_ratings[:10]]\n",
    "\n",
    "    nDCG = ndcg_at_k(top_k_actual_ratings, top_k_predictions, k=10)\n",
    "    nDCG_values.append(nDCG)\n",
    "\n",
    "mean_nDCG = np.mean(nDCG_values)\n",
    "print(\"nDCG:\", mean_nDCG)"
   ]
  },
  {
   "cell_type": "code",
   "execution_count": null,
   "id": "-6dL0xNJwkyy",
   "metadata": {
    "colab": {
     "base_uri": "https://localhost:8080/"
    },
    "id": "-6dL0xNJwkyy",
    "outputId": "aa9f21fc-ed14-4670-ea61-32d8369dcb61"
   },
   "outputs": [
    {
     "name": "stdout",
     "output_type": "stream",
     "text": [
      "user: 1.0        item: 1          r_ui = None   est = 3.93   {'was_impossible': False}\n",
      "User ID: 1.0\n",
      "Item ID: 1\n",
      "True Rating: None\n",
      "Estimated Rating: 3.9274782537237476\n",
      "Details: {'was_impossible': False}\n"
     ]
    }
   ],
   "source": [
    "user_id = 1.0\n",
    "item_id = 1\n",
    "prediction = svd_model.predict(uid=user_id, iid=item_id, verbose=True)\n",
    "\n",
    "print(f\"User ID: {prediction.uid}\")\n",
    "print(f\"Item ID: {prediction.iid}\")\n",
    "print(f\"True Rating: {prediction.r_ui}\")\n",
    "print(f\"Estimated Rating: {prediction.est}\")\n",
    "print(f\"Details: {prediction.details}\")\n"
   ]
  },
  {
   "cell_type": "code",
   "execution_count": null,
   "id": "JX6uW5ndwk1g",
   "metadata": {
    "colab": {
     "base_uri": "https://localhost:8080/"
    },
    "id": "JX6uW5ndwk1g",
    "outputId": "bebd6c4c-2caa-4910-bf80-5e2d78f8489f"
   },
   "outputs": [
    {
     "name": "stdout",
     "output_type": "stream",
     "text": [
      "user: 1.0        item: 4422       r_ui = None   est = 3.92   {'was_impossible': False}\n",
      "User ID: 1.0\n",
      "Item ID: 4422\n",
      "True Rating: None\n",
      "Estimated Rating: 3.916215544472484\n",
      "Details: {'was_impossible': False}\n"
     ]
    }
   ],
   "source": [
    "user_id = 1.0\n",
    "item_id = 4422\n",
    "prediction = svd_model.predict(uid=user_id, iid=item_id, verbose=True)\n",
    "\n",
    "print(f\"User ID: {prediction.uid}\")\n",
    "print(f\"Item ID: {prediction.iid}\")\n",
    "print(f\"True Rating: {prediction.r_ui}\")\n",
    "print(f\"Estimated Rating: {prediction.est}\")\n",
    "print(f\"Details: {prediction.details}\")\n"
   ]
  },
  {
   "cell_type": "code",
   "execution_count": null,
   "id": "RMH8YkmNwk3-",
   "metadata": {
    "colab": {
     "base_uri": "https://localhost:8080/"
    },
    "id": "RMH8YkmNwk3-",
    "outputId": "6a2d8a38-6b8c-4f6c-db69-019d6b0235c1"
   },
   "outputs": [
    {
     "name": "stdout",
     "output_type": "stream",
     "text": [
      "Empty DataFrame\n",
      "Columns: [movieId, title, genres, userId, rating, timestamp]\n",
      "Index: []\n"
     ]
    }
   ],
   "source": [
    "\n",
    "user_1_ratings = selected_movies_df[selected_movies_df[\"userId\"] == 1]\n",
    "print(user_1_ratings)"
   ]
  },
  {
   "cell_type": "code",
   "execution_count": null,
   "id": "AHOrAfcTwk6M",
   "metadata": {
    "colab": {
     "base_uri": "https://localhost:8080/"
    },
    "id": "AHOrAfcTwk6M",
    "outputId": "c7fcb4f9-2a13-45d5-9dd3-22088336fee9"
   },
   "outputs": [
    {
     "name": "stderr",
     "output_type": "stream",
     "text": [
      "[Parallel(n_jobs=-1)]: Using backend LokyBackend with 16 concurrent workers.\n",
      "[Parallel(n_jobs=-1)]: Done  24 out of  27 | elapsed:    4.5s remaining:    0.5s\n",
      "[Parallel(n_jobs=-1)]: Done  27 out of  27 | elapsed:    4.8s finished\n"
     ]
    }
   ],
   "source": [
    "param_grid = {'n_epochs': [5, 10, 20],\n",
    "              'lr_all': [0.002, 0.005, 0.007]}\n",
    "\n",
    "\n",
    "gs = GridSearchCV(SVD,\n",
    "                  param_grid,\n",
    "                  measures=['rmse', 'mae'],\n",
    "                  cv=3,\n",
    "                  n_jobs=-1,\n",
    "                  joblib_verbose=True)\n",
    "\n",
    "gs.fit(surprise_data)"
   ]
  },
  {
   "cell_type": "code",
   "execution_count": null,
   "id": "mhPyKUYEwk8e",
   "metadata": {
    "colab": {
     "base_uri": "https://localhost:8080/"
    },
    "id": "mhPyKUYEwk8e",
    "outputId": "e0ab40aa-b129-4dea-f4ab-650751dd7688"
   },
   "outputs": [
    {
     "data": {
      "text/plain": [
       "0.8922630590689247"
      ]
     },
     "execution_count": 82,
     "metadata": {},
     "output_type": "execute_result"
    }
   ],
   "source": [
    "gs.best_score['rmse']"
   ]
  },
  {
   "cell_type": "code",
   "execution_count": null,
   "id": "fJ5zad_DwrxB",
   "metadata": {
    "colab": {
     "base_uri": "https://localhost:8080/"
    },
    "id": "fJ5zad_DwrxB",
    "outputId": "2f6750e8-b9ce-41c5-da73-5b021bb4e843"
   },
   "outputs": [
    {
     "data": {
      "text/plain": [
       "{'n_epochs': 20, 'lr_all': 0.002}"
      ]
     },
     "execution_count": 83,
     "metadata": {},
     "output_type": "execute_result"
    }
   ],
   "source": [
    "gs.best_params['rmse']"
   ]
  },
  {
   "cell_type": "code",
   "execution_count": null,
   "id": "E7l5bHlpwrzg",
   "metadata": {
    "colab": {
     "base_uri": "https://localhost:8080/"
    },
    "id": "E7l5bHlpwrzg",
    "outputId": "068a42b9-77de-46f7-92fd-813ab417fe8b"
   },
   "outputs": [
    {
     "data": {
      "text/plain": [
       "20"
      ]
     },
     "execution_count": 84,
     "metadata": {},
     "output_type": "execute_result"
    }
   ],
   "source": [
    "svd_model.n_epochs"
   ]
  },
  {
   "cell_type": "code",
   "execution_count": null,
   "id": "kM5WHjYPwr2J",
   "metadata": {
    "colab": {
     "base_uri": "https://localhost:8080/"
    },
    "id": "kM5WHjYPwr2J",
    "outputId": "a279788e-ad38-41e2-e87c-e45d97ff542d"
   },
   "outputs": [
    {
     "data": {
      "text/plain": [
       "<surprise.prediction_algorithms.matrix_factorization.SVD at 0x1962d4000d0>"
      ]
     },
     "execution_count": 85,
     "metadata": {},
     "output_type": "execute_result"
    }
   ],
   "source": [
    "svd_model = SVD(**gs.best_params['rmse'])\n",
    "\n",
    "surprise_data = surprise_data.build_full_trainset()\n",
    "svd_model.fit(surprise_data)\n",
    "\n"
   ]
  },
  {
   "cell_type": "code",
   "execution_count": null,
   "id": "AxnKMj1Gwr4a",
   "metadata": {
    "colab": {
     "base_uri": "https://localhost:8080/"
    },
    "id": "AxnKMj1Gwr4a",
    "outputId": "afb76e01-9278-4906-c823-6abdd6938fbc"
   },
   "outputs": [
    {
     "name": "stdout",
     "output_type": "stream",
     "text": [
      "user: 1.0        item: 1          r_ui = None   est = 3.92   {'was_impossible': False}\n"
     ]
    },
    {
     "data": {
      "text/plain": [
       "Prediction(uid=1.0, iid=1, r_ui=None, est=3.9209537866712143, details={'was_impossible': False})"
      ]
     },
     "execution_count": 86,
     "metadata": {},
     "output_type": "execute_result"
    }
   ],
   "source": [
    "svd_model.predict(uid=1.0, iid=1, verbose=True)"
   ]
  },
  {
   "cell_type": "code",
   "execution_count": null,
   "id": "mQEQeJsCwr6r",
   "metadata": {
    "colab": {
     "base_uri": "https://localhost:8080/"
    },
    "id": "mQEQeJsCwr6r",
    "outputId": "5283f807-6101-4692-f6d0-07c3b18429bc"
   },
   "outputs": [
    {
     "name": "stdout",
     "output_type": "stream",
     "text": [
      "user: 1.0        item: 130219     r_ui = None   est = 3.92   {'was_impossible': False}\n"
     ]
    },
    {
     "data": {
      "text/plain": [
       "Prediction(uid=1.0, iid=130219, r_ui=None, est=3.921852962793747, details={'was_impossible': False})"
      ]
     },
     "execution_count": 87,
     "metadata": {},
     "output_type": "execute_result"
    }
   ],
   "source": [
    "svd_model.predict(uid=1.0, iid=130219, verbose=True)"
   ]
  },
  {
   "cell_type": "code",
   "execution_count": null,
   "id": "YEbOt1tdJb70",
   "metadata": {
    "id": "YEbOt1tdJb70"
   },
   "outputs": [],
   "source": []
  },
  {
   "cell_type": "markdown",
   "id": "jqRtldYWVXbd",
   "metadata": {
    "id": "jqRtldYWVXbd"
   },
   "source": [
    "# **Item Based Collaborative Filtering**\n",
    "\n"
   ]
  },
  {
   "cell_type": "markdown",
   "id": "Jl-tN9EAT0Vp",
   "metadata": {
    "id": "Jl-tN9EAT0Vp"
   },
   "source": [
    "**Our Approach**\n",
    "\n",
    "\n",
    "\n",
    "* Merged movie data with ratings data to create a comprehensive dataset.\n",
    "* Checked the data's structure, types, head, tail, null values, and quantiles to understand its characteristics.\n",
    "* Utilized the Surprise library to create a dataset for collaborative filtering, specifying the rating scale.\n",
    "* Split the data into training and testing sets.\n",
    "* Employed the KNNBasic model for item-based collaborative filtering with cosine similarity and Pearson correlation.\n",
    "* Generated predictions on the test set.\n",
    "* Evaluated model performance using Root Mean Square Error (RMSE) to assess rating prediction accuracy.\n",
    "* Computed normalized Discounted Cumulative Gain (nDCG) to measure ranking quality.\n",
    "* Utilized a function to calculate nDCG for each user's top-rated movies and obtained the mean nDCG across all users.\n",
    "* The approach focuses on item-item similarity, leveraging user ratings to provide personalized recommendations.\n",
    "* The use of cosine similarity and Pearson correlation allows for different ways of measuring item similarity based on user preferences.\n",
    "* Splitting the data into training and testing sets enables the assessment of model generalization and performance on unseen data."
   ]
  },
  {
   "cell_type": "markdown",
   "id": "IDDO7YitRSZF",
   "metadata": {
    "id": "IDDO7YitRSZF"
   },
   "source": [
    "#### Cosine Similarity"
   ]
  },
  {
   "cell_type": "code",
   "execution_count": null,
   "id": "KP0nzjf-WBcP",
   "metadata": {
    "id": "KP0nzjf-WBcP"
   },
   "outputs": [],
   "source": [
    "# Load data\n",
    "movies = pd.read_csv('ml-20m/ml-20m/movies.csv')\n",
    "ratings = pd.read_csv('ml-20m/ml-20m/ratings.csv')\n",
    "df = pd.merge(ratings, movies, on='movieId')"
   ]
  },
  {
   "cell_type": "code",
   "execution_count": null,
   "id": "7WUR7ICTOtXd",
   "metadata": {
    "colab": {
     "base_uri": "https://localhost:8080/"
    },
    "id": "7WUR7ICTOtXd",
    "outputId": "e4087b1e-8576-4f86-d184-a2f270be7a08"
   },
   "outputs": [
    {
     "name": "stdout",
     "output_type": "stream",
     "text": [
      "Computing the cosine similarity matrix...\n",
      "Done computing similarity matrix.\n",
      "RMSE: 0.9288\n",
      "RMSE: 0.9288392389198071\n",
      "nDCG: 0.9820627394940449\n"
     ]
    }
   ],
   "source": [
    "# Create Surprise dataset\n",
    "reader = Reader(rating_scale=(1, 5))\n",
    "data = Dataset.load_from_df(df[['userId', 'movieId', 'rating']], reader)\n",
    "\n",
    "# Train-test split\n",
    "trainset, testset = train_test_split(data, test_size=0.25)\n",
    "\n",
    "# Train item-based collaborative filtering model\n",
    "sim_options = {'name': 'cosine', 'user_based': False}\n",
    "model = KNNBasic(sim_options=sim_options)\n",
    "model.fit(trainset)\n",
    "\n",
    "# Generate predictions\n",
    "predictions = model.test(testset)\n",
    "\n",
    "# Calculate RMSE\n",
    "from surprise import accuracy\n",
    "rmse = accuracy.rmse(predictions)\n",
    "print(f\"RMSE: {rmse}\")\n",
    "\n",
    "# Calculate nDCG\n",
    "def ndcg_at_k(y_true, y_score, k):\n",
    "    order = np.argsort(y_score)[::-1]\n",
    "    y_true = np.take(y_true, order[:k])\n",
    "    dcg = np.sum((2 ** y_true - 1) / np.log2(np.arange(2, y_true.size + 2)))\n",
    "    ideal_order = np.argsort(y_true)[::-1]\n",
    "    ideal_dcg = np.sum((2 ** np.take(y_true, ideal_order) - 1) / np.log2(np.arange(2, y_true.size + 2)))\n",
    "    ndcg = dcg / ideal_dcg if ideal_dcg > 0 else 0\n",
    "    return ndcg\n",
    "\n",
    "nDCG_values = []\n",
    "for user_id in df['userId'].unique():\n",
    "    user_ratings = df[df['userId'] == user_id]\n",
    "    user_movie_ratings = [(row['movieId'], row['rating']) for index, row in user_ratings.iterrows()]\n",
    "    user_movie_ratings.sort(key=lambda x: x[1], reverse=True)\n",
    "\n",
    "    top_k_movies = [movie for movie, _ in user_movie_ratings[:10]]\n",
    "    top_k_predictions = [model.predict(user_id, movie).est for movie in top_k_movies]\n",
    "    top_k_actual_ratings = [rating for _, rating in user_movie_ratings[:10]]\n",
    "\n",
    "    nDCG = ndcg_at_k(top_k_actual_ratings, top_k_predictions, k=10)\n",
    "    nDCG_values.append(nDCG)\n",
    "\n",
    "mean_nDCG = np.mean(nDCG_values)\n",
    "print(\"nDCG:\", mean_nDCG)"
   ]
  },
  {
   "cell_type": "markdown",
   "id": "137c8166",
   "metadata": {},
   "source": [
    "#### Pearson Correlation"
   ]
  },
  {
   "cell_type": "code",
   "execution_count": null,
   "id": "0JnJKLZCOtUA",
   "metadata": {
    "colab": {
     "base_uri": "https://localhost:8080/"
    },
    "id": "0JnJKLZCOtUA",
    "outputId": "d4cfa85f-e34e-4017-925d-9d59a392e481"
   },
   "outputs": [
    {
     "name": "stdout",
     "output_type": "stream",
     "text": [
      "Computing the pearson similarity matrix...\n",
      "Done computing similarity matrix.\n",
      "RMSE: 0.8925\n",
      "RMSE: 0.8924752044397338\n",
      "nDCG: 0.9898073776850899\n"
     ]
    }
   ],
   "source": [
    "import pandas as pd\n",
    "from surprise import Reader, Dataset, KNNBasic\n",
    "from surprise.model_selection import train_test_split\n",
    "import numpy as np\n",
    "\n",
    "# Load data\n",
    "\n",
    "movies = pd.read_csv('ml-10M100K/movies.dat', sep='::', header = None, names =['movieId','title','genres'], engine = 'python')\n",
    "\n",
    "ratings = pd.read_csv('ml-10M100K/ratings.dat', sep='::', header = None, names =['userId','movieId','rating','timestamp'], engine = 'python')\n",
    "df = pd.merge(ratings, movies, left_on='movieId', right_on='movieId')\n",
    "\n",
    "\n",
    "# Create Surprise dataset\n",
    "reader = Reader(rating_scale=(1, 5))\n",
    "data = Dataset.load_from_df(df[['userId', 'movieId', 'rating']], reader)\n",
    "\n",
    "# Train-test split\n",
    "trainset, testset = train_test_split(data, test_size=0.25)\n",
    "\n",
    "# Train item-based collaborative filtering model\n",
    "sim_options = {'name': 'pearson', 'user_based': False}\n",
    "model = KNNBasic(sim_options=sim_options)\n",
    "model.fit(trainset)\n",
    "\n",
    "# Generate predictions\n",
    "predictions = model.test(testset)\n",
    "\n",
    "# Calculate RMSE\n",
    "from surprise import accuracy\n",
    "rmse = accuracy.rmse(predictions)\n",
    "print(f\"RMSE: {rmse}\")\n",
    "\n",
    "# Calculate nDCG\n",
    "def ndcg_at_k(y_true, y_score, k):\n",
    "    order = np.argsort(y_score)[::-1]\n",
    "    y_true = np.take(y_true, order[:k])\n",
    "    dcg = np.sum((2 ** y_true - 1) / np.log2(np.arange(2, y_true.size + 2)))\n",
    "    ideal_order = np.argsort(y_true)[::-1]\n",
    "    ideal_dcg = np.sum((2 ** np.take(y_true, ideal_order) - 1) / np.log2(np.arange(2, y_true.size + 2)))\n",
    "    ndcg = dcg / ideal_dcg if ideal_dcg > 0 else 0\n",
    "    return ndcg\n",
    "\n",
    "nDCG_values = []\n",
    "for user_id in df['userId'].unique():\n",
    "    user_ratings = df[df['userId'] == user_id]\n",
    "    user_movie_ratings = [(row['movieId'], row['rating']) for index, row in user_ratings.iterrows()]\n",
    "    user_movie_ratings.sort(key=lambda x: x[1], reverse=True)\n",
    "\n",
    "    top_k_movies = [movie for movie, _ in user_movie_ratings[:10]]\n",
    "    top_k_predictions = [model.predict(user_id, movie).est for movie in top_k_movies]\n",
    "    top_k_actual_ratings = [rating for _, rating in user_movie_ratings[:10]]\n",
    "\n",
    "    nDCG = ndcg_at_k(top_k_actual_ratings, top_k_predictions, k=10)\n",
    "    nDCG_values.append(nDCG)\n",
    "\n",
    "mean_nDCG = np.mean(nDCG_values)\n",
    "print(\"nDCG:\", mean_nDCG)"
   ]
  },
  {
   "cell_type": "markdown",
   "id": "t6rxkrqZliEO",
   "metadata": {
    "id": "t6rxkrqZliEO"
   },
   "source": [
    "## **Deep Learning based Recommendation System**\n",
    "\n",
    "\n"
   ]
  },
  {
   "cell_type": "markdown",
   "id": "-ydDNL3fi7VC",
   "metadata": {
    "id": "-ydDNL3fi7VC"
   },
   "source": [
    "**Explanation**\n",
    "\n",
    "* Implicit feedback - Indirect feedback is gathered via user interactions and serves as a substitute for user preference. Videos you view on YouTube, for example, are utilized as implicit feedback to customize suggestions to you, even if you don't rate the videos directly.​\n",
    "\n",
    "* Implicit feedback also allows us to tailor recommendations in real time, with every click and interaction​\n",
    "\n",
    "* The Neural Network-based Collaborative Filtering (CF) model employs a deep learning method for recommendation systems. ​\n",
    "\n",
    "* Using implicit feedback, we will train a recommender system. We siimply binarize the ratings such that they are '1' (i.e. positive class) to transform this dataset into an implicit feedback dataset. The number '1' indicates that the user watched the movie.​\n",
    "\n",
    "* This approach represents users and items as embeddings, which are low-dimensional vectors that capture their attributes. ​\n",
    "\n",
    "* The embeddings of the user and items are fed into a neural network, which learns to predict ratings based on these embeddings. ​\n",
    "\n",
    "* When compared to standard matrix factorization algorithms, our method captures complicated and non-linear interactions between users and things, resulting in more accurate suggestions.​\n",
    "\n",
    "\n",
    "\n"
   ]
  },
  {
   "cell_type": "code",
   "execution_count": 5,
   "id": "dKOaYHFtgJZK",
   "metadata": {
    "id": "dKOaYHFtgJZK"
   },
   "outputs": [],
   "source": [
    "np.random.seed(123)"
   ]
  },
  {
   "cell_type": "code",
   "execution_count": 6,
   "id": "JOfssCLRgJb0",
   "metadata": {
    "id": "JOfssCLRgJb0"
   },
   "outputs": [],
   "source": [
    "ratings = pd.read_csv('ratings.dat', sep='::', header = None, names =['userId','movieId','rating','timestamp'], engine = 'python', parse_dates=['timestamp'])"
   ]
  },
  {
   "cell_type": "code",
   "execution_count": 7,
   "id": "3UMR-kXmgJeO",
   "metadata": {
    "colab": {
     "base_uri": "https://localhost:8080/"
    },
    "id": "3UMR-kXmgJeO",
    "outputId": "7207ab77-ca3a-482f-f17c-863124c545d3"
   },
   "outputs": [
    {
     "name": "stdout",
     "output_type": "stream",
     "text": [
      "There are 300162 rows of data from 1812 users\n"
     ]
    }
   ],
   "source": [
    "rand_user = np.random.choice(ratings['userId'].unique(),size=int(len(ratings['userId'].unique())*0.3),replace=False)\n",
    "\n",
    "ratings = ratings.loc[ratings['userId'].isin(rand_user)]\n",
    "\n",
    "print('There are {} rows of data from {} users'.format(len(ratings), len(rand_user)))"
   ]
  },
  {
   "cell_type": "code",
   "execution_count": null,
   "id": "de2-YGwIm7v6",
   "metadata": {
    "colab": {
     "base_uri": "https://localhost:8080/",
     "height": 363
    },
    "id": "de2-YGwIm7v6",
    "outputId": "41bfe635-65b3-4402-eea6-680d241242d9"
   },
   "outputs": [
    {
     "data": {
      "application/vnd.google.colaboratory.intrinsic+json": {
       "summary": "{\n  \"name\": \"ratings_2\",\n  \"rows\": 10,\n  \"fields\": [\n    {\n      \"column\": \"userId\",\n      \"properties\": {\n        \"dtype\": \"number\",\n        \"std\": 15802,\n        \"min\": 2324,\n        \"max\": 51586,\n        \"num_unique_values\": 10,\n        \"samples\": [\n          35798,\n          2324,\n          51586\n        ],\n        \"semantic_type\": \"\",\n        \"description\": \"\"\n      }\n    },\n    {\n      \"column\": \"movieId\",\n      \"properties\": {\n        \"dtype\": \"number\",\n        \"std\": 1954,\n        \"min\": 25,\n        \"max\": 6534,\n        \"num_unique_values\": 10,\n        \"samples\": [\n          2683,\n          899,\n          140\n        ],\n        \"semantic_type\": \"\",\n        \"description\": \"\"\n      }\n    },\n    {\n      \"column\": \"rating\",\n      \"properties\": {\n        \"dtype\": \"number\",\n        \"std\": 0.9368979548370131,\n        \"min\": 2.0,\n        \"max\": 5.0,\n        \"num_unique_values\": 6,\n        \"samples\": [\n          2.0,\n          4.0,\n          4.5\n        ],\n        \"semantic_type\": \"\",\n        \"description\": \"\"\n      }\n    },\n    {\n      \"column\": \"timestamp\",\n      \"properties\": {\n        \"dtype\": \"string\",\n        \"num_unique_values\": 10,\n        \"samples\": [\n          \"1106514871\",\n          \"1102245495\",\n          \"832090549\"\n        ],\n        \"semantic_type\": \"\",\n        \"description\": \"\"\n      }\n    }\n  ]\n}",
       "type": "dataframe"
      },
      "text/html": [
       "\n",
       "  <div id=\"df-f234c0d5-e5cf-49b0-ab03-4a036e8cb219\" class=\"colab-df-container\">\n",
       "    <div>\n",
       "<style scoped>\n",
       "    .dataframe tbody tr th:only-of-type {\n",
       "        vertical-align: middle;\n",
       "    }\n",
       "\n",
       "    .dataframe tbody tr th {\n",
       "        vertical-align: top;\n",
       "    }\n",
       "\n",
       "    .dataframe thead th {\n",
       "        text-align: right;\n",
       "    }\n",
       "</style>\n",
       "<table border=\"1\" class=\"dataframe\">\n",
       "  <thead>\n",
       "    <tr style=\"text-align: right;\">\n",
       "      <th></th>\n",
       "      <th>userId</th>\n",
       "      <th>movieId</th>\n",
       "      <th>rating</th>\n",
       "      <th>timestamp</th>\n",
       "    </tr>\n",
       "  </thead>\n",
       "  <tbody>\n",
       "    <tr>\n",
       "      <th>4173283</th>\n",
       "      <td>29877</td>\n",
       "      <td>34</td>\n",
       "      <td>2.0</td>\n",
       "      <td>862830432</td>\n",
       "    </tr>\n",
       "    <tr>\n",
       "      <th>294304</th>\n",
       "      <td>2324</td>\n",
       "      <td>899</td>\n",
       "      <td>4.0</td>\n",
       "      <td>1102245495</td>\n",
       "    </tr>\n",
       "    <tr>\n",
       "      <th>7203703</th>\n",
       "      <td>51493</td>\n",
       "      <td>2143</td>\n",
       "      <td>4.0</td>\n",
       "      <td>944963518</td>\n",
       "    </tr>\n",
       "    <tr>\n",
       "      <th>2150445</th>\n",
       "      <td>15659</td>\n",
       "      <td>25</td>\n",
       "      <td>3.0</td>\n",
       "      <td>850748927</td>\n",
       "    </tr>\n",
       "    <tr>\n",
       "      <th>4001266</th>\n",
       "      <td>28671</td>\n",
       "      <td>1213</td>\n",
       "      <td>5.0</td>\n",
       "      <td>992155427</td>\n",
       "    </tr>\n",
       "    <tr>\n",
       "      <th>7219028</th>\n",
       "      <td>51586</td>\n",
       "      <td>140</td>\n",
       "      <td>4.0</td>\n",
       "      <td>832090549</td>\n",
       "    </tr>\n",
       "    <tr>\n",
       "      <th>6415277</th>\n",
       "      <td>45876</td>\n",
       "      <td>6534</td>\n",
       "      <td>2.5</td>\n",
       "      <td>1072512394</td>\n",
       "    </tr>\n",
       "    <tr>\n",
       "      <th>3463975</th>\n",
       "      <td>24842</td>\n",
       "      <td>2028</td>\n",
       "      <td>4.5</td>\n",
       "      <td>1171080307</td>\n",
       "    </tr>\n",
       "    <tr>\n",
       "      <th>5007604</th>\n",
       "      <td>35798</td>\n",
       "      <td>2683</td>\n",
       "      <td>3.0</td>\n",
       "      <td>1106514871</td>\n",
       "    </tr>\n",
       "    <tr>\n",
       "      <th>3247241</th>\n",
       "      <td>23432</td>\n",
       "      <td>2716</td>\n",
       "      <td>4.0</td>\n",
       "      <td>964836738</td>\n",
       "    </tr>\n",
       "  </tbody>\n",
       "</table>\n",
       "</div>\n",
       "    <div class=\"colab-df-buttons\">\n",
       "\n",
       "  <div class=\"colab-df-container\">\n",
       "    <button class=\"colab-df-convert\" onclick=\"convertToInteractive('df-f234c0d5-e5cf-49b0-ab03-4a036e8cb219')\"\n",
       "            title=\"Convert this dataframe to an interactive table.\"\n",
       "            style=\"display:none;\">\n",
       "\n",
       "  <svg xmlns=\"http://www.w3.org/2000/svg\" height=\"24px\" viewBox=\"0 -960 960 960\">\n",
       "    <path d=\"M120-120v-720h720v720H120Zm60-500h600v-160H180v160Zm220 220h160v-160H400v160Zm0 220h160v-160H400v160ZM180-400h160v-160H180v160Zm440 0h160v-160H620v160ZM180-180h160v-160H180v160Zm440 0h160v-160H620v160Z\"/>\n",
       "  </svg>\n",
       "    </button>\n",
       "\n",
       "  <style>\n",
       "    .colab-df-container {\n",
       "      display:flex;\n",
       "      gap: 12px;\n",
       "    }\n",
       "\n",
       "    .colab-df-convert {\n",
       "      background-color: #E8F0FE;\n",
       "      border: none;\n",
       "      border-radius: 50%;\n",
       "      cursor: pointer;\n",
       "      display: none;\n",
       "      fill: #1967D2;\n",
       "      height: 32px;\n",
       "      padding: 0 0 0 0;\n",
       "      width: 32px;\n",
       "    }\n",
       "\n",
       "    .colab-df-convert:hover {\n",
       "      background-color: #E2EBFA;\n",
       "      box-shadow: 0px 1px 2px rgba(60, 64, 67, 0.3), 0px 1px 3px 1px rgba(60, 64, 67, 0.15);\n",
       "      fill: #174EA6;\n",
       "    }\n",
       "\n",
       "    .colab-df-buttons div {\n",
       "      margin-bottom: 4px;\n",
       "    }\n",
       "\n",
       "    [theme=dark] .colab-df-convert {\n",
       "      background-color: #3B4455;\n",
       "      fill: #D2E3FC;\n",
       "    }\n",
       "\n",
       "    [theme=dark] .colab-df-convert:hover {\n",
       "      background-color: #434B5C;\n",
       "      box-shadow: 0px 1px 3px 1px rgba(0, 0, 0, 0.15);\n",
       "      filter: drop-shadow(0px 1px 2px rgba(0, 0, 0, 0.3));\n",
       "      fill: #FFFFFF;\n",
       "    }\n",
       "  </style>\n",
       "\n",
       "    <script>\n",
       "      const buttonEl =\n",
       "        document.querySelector('#df-f234c0d5-e5cf-49b0-ab03-4a036e8cb219 button.colab-df-convert');\n",
       "      buttonEl.style.display =\n",
       "        google.colab.kernel.accessAllowed ? 'block' : 'none';\n",
       "\n",
       "      async function convertToInteractive(key) {\n",
       "        const element = document.querySelector('#df-f234c0d5-e5cf-49b0-ab03-4a036e8cb219');\n",
       "        const dataTable =\n",
       "          await google.colab.kernel.invokeFunction('convertToInteractive',\n",
       "                                                    [key], {});\n",
       "        if (!dataTable) return;\n",
       "\n",
       "        const docLinkHtml = 'Like what you see? Visit the ' +\n",
       "          '<a target=\"_blank\" href=https://colab.research.google.com/notebooks/data_table.ipynb>data table notebook</a>'\n",
       "          + ' to learn more about interactive tables.';\n",
       "        element.innerHTML = '';\n",
       "        dataTable['output_type'] = 'display_data';\n",
       "        await google.colab.output.renderOutput(dataTable, element);\n",
       "        const docLink = document.createElement('div');\n",
       "        docLink.innerHTML = docLinkHtml;\n",
       "        element.appendChild(docLink);\n",
       "      }\n",
       "    </script>\n",
       "  </div>\n",
       "\n",
       "\n",
       "<div id=\"df-b9e90680-44ae-4666-8ab5-29eb7a4ff37f\">\n",
       "  <button class=\"colab-df-quickchart\" onclick=\"quickchart('df-b9e90680-44ae-4666-8ab5-29eb7a4ff37f')\"\n",
       "            title=\"Suggest charts\"\n",
       "            style=\"display:none;\">\n",
       "\n",
       "<svg xmlns=\"http://www.w3.org/2000/svg\" height=\"24px\"viewBox=\"0 0 24 24\"\n",
       "     width=\"24px\">\n",
       "    <g>\n",
       "        <path d=\"M19 3H5c-1.1 0-2 .9-2 2v14c0 1.1.9 2 2 2h14c1.1 0 2-.9 2-2V5c0-1.1-.9-2-2-2zM9 17H7v-7h2v7zm4 0h-2V7h2v10zm4 0h-2v-4h2v4z\"/>\n",
       "    </g>\n",
       "</svg>\n",
       "  </button>\n",
       "\n",
       "<style>\n",
       "  .colab-df-quickchart {\n",
       "      --bg-color: #E8F0FE;\n",
       "      --fill-color: #1967D2;\n",
       "      --hover-bg-color: #E2EBFA;\n",
       "      --hover-fill-color: #174EA6;\n",
       "      --disabled-fill-color: #AAA;\n",
       "      --disabled-bg-color: #DDD;\n",
       "  }\n",
       "\n",
       "  [theme=dark] .colab-df-quickchart {\n",
       "      --bg-color: #3B4455;\n",
       "      --fill-color: #D2E3FC;\n",
       "      --hover-bg-color: #434B5C;\n",
       "      --hover-fill-color: #FFFFFF;\n",
       "      --disabled-bg-color: #3B4455;\n",
       "      --disabled-fill-color: #666;\n",
       "  }\n",
       "\n",
       "  .colab-df-quickchart {\n",
       "    background-color: var(--bg-color);\n",
       "    border: none;\n",
       "    border-radius: 50%;\n",
       "    cursor: pointer;\n",
       "    display: none;\n",
       "    fill: var(--fill-color);\n",
       "    height: 32px;\n",
       "    padding: 0;\n",
       "    width: 32px;\n",
       "  }\n",
       "\n",
       "  .colab-df-quickchart:hover {\n",
       "    background-color: var(--hover-bg-color);\n",
       "    box-shadow: 0 1px 2px rgba(60, 64, 67, 0.3), 0 1px 3px 1px rgba(60, 64, 67, 0.15);\n",
       "    fill: var(--button-hover-fill-color);\n",
       "  }\n",
       "\n",
       "  .colab-df-quickchart-complete:disabled,\n",
       "  .colab-df-quickchart-complete:disabled:hover {\n",
       "    background-color: var(--disabled-bg-color);\n",
       "    fill: var(--disabled-fill-color);\n",
       "    box-shadow: none;\n",
       "  }\n",
       "\n",
       "  .colab-df-spinner {\n",
       "    border: 2px solid var(--fill-color);\n",
       "    border-color: transparent;\n",
       "    border-bottom-color: var(--fill-color);\n",
       "    animation:\n",
       "      spin 1s steps(1) infinite;\n",
       "  }\n",
       "\n",
       "  @keyframes spin {\n",
       "    0% {\n",
       "      border-color: transparent;\n",
       "      border-bottom-color: var(--fill-color);\n",
       "      border-left-color: var(--fill-color);\n",
       "    }\n",
       "    20% {\n",
       "      border-color: transparent;\n",
       "      border-left-color: var(--fill-color);\n",
       "      border-top-color: var(--fill-color);\n",
       "    }\n",
       "    30% {\n",
       "      border-color: transparent;\n",
       "      border-left-color: var(--fill-color);\n",
       "      border-top-color: var(--fill-color);\n",
       "      border-right-color: var(--fill-color);\n",
       "    }\n",
       "    40% {\n",
       "      border-color: transparent;\n",
       "      border-right-color: var(--fill-color);\n",
       "      border-top-color: var(--fill-color);\n",
       "    }\n",
       "    60% {\n",
       "      border-color: transparent;\n",
       "      border-right-color: var(--fill-color);\n",
       "    }\n",
       "    80% {\n",
       "      border-color: transparent;\n",
       "      border-right-color: var(--fill-color);\n",
       "      border-bottom-color: var(--fill-color);\n",
       "    }\n",
       "    90% {\n",
       "      border-color: transparent;\n",
       "      border-bottom-color: var(--fill-color);\n",
       "    }\n",
       "  }\n",
       "</style>\n",
       "\n",
       "  <script>\n",
       "    async function quickchart(key) {\n",
       "      const quickchartButtonEl =\n",
       "        document.querySelector('#' + key + ' button');\n",
       "      quickchartButtonEl.disabled = true;  // To prevent multiple clicks.\n",
       "      quickchartButtonEl.classList.add('colab-df-spinner');\n",
       "      try {\n",
       "        const charts = await google.colab.kernel.invokeFunction(\n",
       "            'suggestCharts', [key], {});\n",
       "      } catch (error) {\n",
       "        console.error('Error during call to suggestCharts:', error);\n",
       "      }\n",
       "      quickchartButtonEl.classList.remove('colab-df-spinner');\n",
       "      quickchartButtonEl.classList.add('colab-df-quickchart-complete');\n",
       "    }\n",
       "    (() => {\n",
       "      let quickchartButtonEl =\n",
       "        document.querySelector('#df-b9e90680-44ae-4666-8ab5-29eb7a4ff37f button');\n",
       "      quickchartButtonEl.style.display =\n",
       "        google.colab.kernel.accessAllowed ? 'block' : 'none';\n",
       "    })();\n",
       "  </script>\n",
       "</div>\n",
       "\n",
       "    </div>\n",
       "  </div>\n"
      ],
      "text/plain": [
       "         userId  movieId  rating   timestamp\n",
       "4173283   29877       34     2.0   862830432\n",
       "294304     2324      899     4.0  1102245495\n",
       "7203703   51493     2143     4.0   944963518\n",
       "2150445   15659       25     3.0   850748927\n",
       "4001266   28671     1213     5.0   992155427\n",
       "7219028   51586      140     4.0   832090549\n",
       "6415277   45876     6534     2.5  1072512394\n",
       "3463975   24842     2028     4.5  1171080307\n",
       "5007604   35798     2683     3.0  1106514871\n",
       "3247241   23432     2716     4.0   964836738"
      ]
     },
     "execution_count": 12,
     "metadata": {},
     "output_type": "execute_result"
    }
   ],
   "source": [
    "ratings.sample(10)"
   ]
  },
  {
   "cell_type": "code",
   "execution_count": 8,
   "id": "qxbzlev8m7yT",
   "metadata": {
    "id": "qxbzlev8m7yT"
   },
   "outputs": [],
   "source": [
    "ratings['rank_latest'] = ratings.groupby(['userId'])['timestamp'] \\\n",
    "                                .rank(method='first', ascending=False)\n",
    "\n",
    "train_ratings = ratings[ratings['rank_latest'] != 1]\n",
    "test_ratings = ratings[ratings['rank_latest'] == 1]\n",
    "\n",
    "\n",
    "train_ratings = train_ratings[['userId', 'movieId', 'rating']]\n",
    "test_ratings = test_ratings[['userId', 'movieId', 'rating']]"
   ]
  },
  {
   "cell_type": "code",
   "execution_count": 9,
   "id": "cGaRZ377m70s",
   "metadata": {
    "colab": {
     "base_uri": "https://localhost:8080/",
     "height": 363
    },
    "id": "cGaRZ377m70s",
    "outputId": "892a4b6d-fcb6-49c0-a6c2-98236e023cb9"
   },
   "outputs": [
    {
     "data": {
      "application/vnd.google.colaboratory.intrinsic+json": {
       "summary": "{\n  \"name\": \"train_ratings\",\n  \"rows\": 10,\n  \"fields\": [\n    {\n      \"column\": \"userId\",\n      \"properties\": {\n        \"dtype\": \"number\",\n        \"std\": 1234,\n        \"min\": 1267,\n        \"max\": 5060,\n        \"num_unique_values\": 10,\n        \"samples\": [\n          3569,\n          2454,\n          1267\n        ],\n        \"semantic_type\": \"\",\n        \"description\": \"\"\n      }\n    },\n    {\n      \"column\": \"movieId\",\n      \"properties\": {\n        \"dtype\": \"number\",\n        \"std\": 1058,\n        \"min\": 62,\n        \"max\": 3384,\n        \"num_unique_values\": 10,\n        \"samples\": [\n          953,\n          62,\n          2762\n        ],\n        \"semantic_type\": \"\",\n        \"description\": \"\"\n      }\n    },\n    {\n      \"column\": \"rating\",\n      \"properties\": {\n        \"dtype\": \"number\",\n        \"std\": 0,\n        \"min\": 1,\n        \"max\": 1,\n        \"num_unique_values\": 1,\n        \"samples\": [\n          1\n        ],\n        \"semantic_type\": \"\",\n        \"description\": \"\"\n      }\n    }\n  ]\n}",
       "type": "dataframe"
      },
      "text/html": [
       "\n",
       "  <div id=\"df-5dc6dc4c-7847-47e9-aff7-11893228c03d\" class=\"colab-df-container\">\n",
       "    <div>\n",
       "<style scoped>\n",
       "    .dataframe tbody tr th:only-of-type {\n",
       "        vertical-align: middle;\n",
       "    }\n",
       "\n",
       "    .dataframe tbody tr th {\n",
       "        vertical-align: top;\n",
       "    }\n",
       "\n",
       "    .dataframe thead th {\n",
       "        text-align: right;\n",
       "    }\n",
       "</style>\n",
       "<table border=\"1\" class=\"dataframe\">\n",
       "  <thead>\n",
       "    <tr style=\"text-align: right;\">\n",
       "      <th></th>\n",
       "      <th>userId</th>\n",
       "      <th>movieId</th>\n",
       "      <th>rating</th>\n",
       "    </tr>\n",
       "  </thead>\n",
       "  <tbody>\n",
       "    <tr>\n",
       "      <th>246747</th>\n",
       "      <td>1490</td>\n",
       "      <td>1214</td>\n",
       "      <td>1</td>\n",
       "    </tr>\n",
       "    <tr>\n",
       "      <th>408809</th>\n",
       "      <td>2454</td>\n",
       "      <td>62</td>\n",
       "      <td>1</td>\n",
       "    </tr>\n",
       "    <tr>\n",
       "      <th>436500</th>\n",
       "      <td>2665</td>\n",
       "      <td>2193</td>\n",
       "      <td>1</td>\n",
       "    </tr>\n",
       "    <tr>\n",
       "      <th>696351</th>\n",
       "      <td>4169</td>\n",
       "      <td>2155</td>\n",
       "      <td>1</td>\n",
       "    </tr>\n",
       "    <tr>\n",
       "      <th>299778</th>\n",
       "      <td>1778</td>\n",
       "      <td>333</td>\n",
       "      <td>1</td>\n",
       "    </tr>\n",
       "    <tr>\n",
       "      <th>207380</th>\n",
       "      <td>1267</td>\n",
       "      <td>2762</td>\n",
       "      <td>1</td>\n",
       "    </tr>\n",
       "    <tr>\n",
       "      <th>450873</th>\n",
       "      <td>2777</td>\n",
       "      <td>1197</td>\n",
       "      <td>1</td>\n",
       "    </tr>\n",
       "    <tr>\n",
       "      <th>842212</th>\n",
       "      <td>5060</td>\n",
       "      <td>3384</td>\n",
       "      <td>1</td>\n",
       "    </tr>\n",
       "    <tr>\n",
       "      <th>584576</th>\n",
       "      <td>3569</td>\n",
       "      <td>953</td>\n",
       "      <td>1</td>\n",
       "    </tr>\n",
       "    <tr>\n",
       "      <th>627495</th>\n",
       "      <td>3796</td>\n",
       "      <td>1124</td>\n",
       "      <td>1</td>\n",
       "    </tr>\n",
       "  </tbody>\n",
       "</table>\n",
       "</div>\n",
       "    <div class=\"colab-df-buttons\">\n",
       "\n",
       "  <div class=\"colab-df-container\">\n",
       "    <button class=\"colab-df-convert\" onclick=\"convertToInteractive('df-5dc6dc4c-7847-47e9-aff7-11893228c03d')\"\n",
       "            title=\"Convert this dataframe to an interactive table.\"\n",
       "            style=\"display:none;\">\n",
       "\n",
       "  <svg xmlns=\"http://www.w3.org/2000/svg\" height=\"24px\" viewBox=\"0 -960 960 960\">\n",
       "    <path d=\"M120-120v-720h720v720H120Zm60-500h600v-160H180v160Zm220 220h160v-160H400v160Zm0 220h160v-160H400v160ZM180-400h160v-160H180v160Zm440 0h160v-160H620v160ZM180-180h160v-160H180v160Zm440 0h160v-160H620v160Z\"/>\n",
       "  </svg>\n",
       "    </button>\n",
       "\n",
       "  <style>\n",
       "    .colab-df-container {\n",
       "      display:flex;\n",
       "      gap: 12px;\n",
       "    }\n",
       "\n",
       "    .colab-df-convert {\n",
       "      background-color: #E8F0FE;\n",
       "      border: none;\n",
       "      border-radius: 50%;\n",
       "      cursor: pointer;\n",
       "      display: none;\n",
       "      fill: #1967D2;\n",
       "      height: 32px;\n",
       "      padding: 0 0 0 0;\n",
       "      width: 32px;\n",
       "    }\n",
       "\n",
       "    .colab-df-convert:hover {\n",
       "      background-color: #E2EBFA;\n",
       "      box-shadow: 0px 1px 2px rgba(60, 64, 67, 0.3), 0px 1px 3px 1px rgba(60, 64, 67, 0.15);\n",
       "      fill: #174EA6;\n",
       "    }\n",
       "\n",
       "    .colab-df-buttons div {\n",
       "      margin-bottom: 4px;\n",
       "    }\n",
       "\n",
       "    [theme=dark] .colab-df-convert {\n",
       "      background-color: #3B4455;\n",
       "      fill: #D2E3FC;\n",
       "    }\n",
       "\n",
       "    [theme=dark] .colab-df-convert:hover {\n",
       "      background-color: #434B5C;\n",
       "      box-shadow: 0px 1px 3px 1px rgba(0, 0, 0, 0.15);\n",
       "      filter: drop-shadow(0px 1px 2px rgba(0, 0, 0, 0.3));\n",
       "      fill: #FFFFFF;\n",
       "    }\n",
       "  </style>\n",
       "\n",
       "    <script>\n",
       "      const buttonEl =\n",
       "        document.querySelector('#df-5dc6dc4c-7847-47e9-aff7-11893228c03d button.colab-df-convert');\n",
       "      buttonEl.style.display =\n",
       "        google.colab.kernel.accessAllowed ? 'block' : 'none';\n",
       "\n",
       "      async function convertToInteractive(key) {\n",
       "        const element = document.querySelector('#df-5dc6dc4c-7847-47e9-aff7-11893228c03d');\n",
       "        const dataTable =\n",
       "          await google.colab.kernel.invokeFunction('convertToInteractive',\n",
       "                                                    [key], {});\n",
       "        if (!dataTable) return;\n",
       "\n",
       "        const docLinkHtml = 'Like what you see? Visit the ' +\n",
       "          '<a target=\"_blank\" href=https://colab.research.google.com/notebooks/data_table.ipynb>data table notebook</a>'\n",
       "          + ' to learn more about interactive tables.';\n",
       "        element.innerHTML = '';\n",
       "        dataTable['output_type'] = 'display_data';\n",
       "        await google.colab.output.renderOutput(dataTable, element);\n",
       "        const docLink = document.createElement('div');\n",
       "        docLink.innerHTML = docLinkHtml;\n",
       "        element.appendChild(docLink);\n",
       "      }\n",
       "    </script>\n",
       "  </div>\n",
       "\n",
       "\n",
       "<div id=\"df-2ab8401a-0a6f-4f37-9c0d-b860e57295fe\">\n",
       "  <button class=\"colab-df-quickchart\" onclick=\"quickchart('df-2ab8401a-0a6f-4f37-9c0d-b860e57295fe')\"\n",
       "            title=\"Suggest charts\"\n",
       "            style=\"display:none;\">\n",
       "\n",
       "<svg xmlns=\"http://www.w3.org/2000/svg\" height=\"24px\"viewBox=\"0 0 24 24\"\n",
       "     width=\"24px\">\n",
       "    <g>\n",
       "        <path d=\"M19 3H5c-1.1 0-2 .9-2 2v14c0 1.1.9 2 2 2h14c1.1 0 2-.9 2-2V5c0-1.1-.9-2-2-2zM9 17H7v-7h2v7zm4 0h-2V7h2v10zm4 0h-2v-4h2v4z\"/>\n",
       "    </g>\n",
       "</svg>\n",
       "  </button>\n",
       "\n",
       "<style>\n",
       "  .colab-df-quickchart {\n",
       "      --bg-color: #E8F0FE;\n",
       "      --fill-color: #1967D2;\n",
       "      --hover-bg-color: #E2EBFA;\n",
       "      --hover-fill-color: #174EA6;\n",
       "      --disabled-fill-color: #AAA;\n",
       "      --disabled-bg-color: #DDD;\n",
       "  }\n",
       "\n",
       "  [theme=dark] .colab-df-quickchart {\n",
       "      --bg-color: #3B4455;\n",
       "      --fill-color: #D2E3FC;\n",
       "      --hover-bg-color: #434B5C;\n",
       "      --hover-fill-color: #FFFFFF;\n",
       "      --disabled-bg-color: #3B4455;\n",
       "      --disabled-fill-color: #666;\n",
       "  }\n",
       "\n",
       "  .colab-df-quickchart {\n",
       "    background-color: var(--bg-color);\n",
       "    border: none;\n",
       "    border-radius: 50%;\n",
       "    cursor: pointer;\n",
       "    display: none;\n",
       "    fill: var(--fill-color);\n",
       "    height: 32px;\n",
       "    padding: 0;\n",
       "    width: 32px;\n",
       "  }\n",
       "\n",
       "  .colab-df-quickchart:hover {\n",
       "    background-color: var(--hover-bg-color);\n",
       "    box-shadow: 0 1px 2px rgba(60, 64, 67, 0.3), 0 1px 3px 1px rgba(60, 64, 67, 0.15);\n",
       "    fill: var(--button-hover-fill-color);\n",
       "  }\n",
       "\n",
       "  .colab-df-quickchart-complete:disabled,\n",
       "  .colab-df-quickchart-complete:disabled:hover {\n",
       "    background-color: var(--disabled-bg-color);\n",
       "    fill: var(--disabled-fill-color);\n",
       "    box-shadow: none;\n",
       "  }\n",
       "\n",
       "  .colab-df-spinner {\n",
       "    border: 2px solid var(--fill-color);\n",
       "    border-color: transparent;\n",
       "    border-bottom-color: var(--fill-color);\n",
       "    animation:\n",
       "      spin 1s steps(1) infinite;\n",
       "  }\n",
       "\n",
       "  @keyframes spin {\n",
       "    0% {\n",
       "      border-color: transparent;\n",
       "      border-bottom-color: var(--fill-color);\n",
       "      border-left-color: var(--fill-color);\n",
       "    }\n",
       "    20% {\n",
       "      border-color: transparent;\n",
       "      border-left-color: var(--fill-color);\n",
       "      border-top-color: var(--fill-color);\n",
       "    }\n",
       "    30% {\n",
       "      border-color: transparent;\n",
       "      border-left-color: var(--fill-color);\n",
       "      border-top-color: var(--fill-color);\n",
       "      border-right-color: var(--fill-color);\n",
       "    }\n",
       "    40% {\n",
       "      border-color: transparent;\n",
       "      border-right-color: var(--fill-color);\n",
       "      border-top-color: var(--fill-color);\n",
       "    }\n",
       "    60% {\n",
       "      border-color: transparent;\n",
       "      border-right-color: var(--fill-color);\n",
       "    }\n",
       "    80% {\n",
       "      border-color: transparent;\n",
       "      border-right-color: var(--fill-color);\n",
       "      border-bottom-color: var(--fill-color);\n",
       "    }\n",
       "    90% {\n",
       "      border-color: transparent;\n",
       "      border-bottom-color: var(--fill-color);\n",
       "    }\n",
       "  }\n",
       "</style>\n",
       "\n",
       "  <script>\n",
       "    async function quickchart(key) {\n",
       "      const quickchartButtonEl =\n",
       "        document.querySelector('#' + key + ' button');\n",
       "      quickchartButtonEl.disabled = true;  // To prevent multiple clicks.\n",
       "      quickchartButtonEl.classList.add('colab-df-spinner');\n",
       "      try {\n",
       "        const charts = await google.colab.kernel.invokeFunction(\n",
       "            'suggestCharts', [key], {});\n",
       "      } catch (error) {\n",
       "        console.error('Error during call to suggestCharts:', error);\n",
       "      }\n",
       "      quickchartButtonEl.classList.remove('colab-df-spinner');\n",
       "      quickchartButtonEl.classList.add('colab-df-quickchart-complete');\n",
       "    }\n",
       "    (() => {\n",
       "      let quickchartButtonEl =\n",
       "        document.querySelector('#df-2ab8401a-0a6f-4f37-9c0d-b860e57295fe button');\n",
       "      quickchartButtonEl.style.display =\n",
       "        google.colab.kernel.accessAllowed ? 'block' : 'none';\n",
       "    })();\n",
       "  </script>\n",
       "</div>\n",
       "\n",
       "    </div>\n",
       "  </div>\n"
      ],
      "text/plain": [
       "        userId  movieId  rating\n",
       "246747    1490     1214       1\n",
       "408809    2454       62       1\n",
       "436500    2665     2193       1\n",
       "696351    4169     2155       1\n",
       "299778    1778      333       1\n",
       "207380    1267     2762       1\n",
       "450873    2777     1197       1\n",
       "842212    5060     3384       1\n",
       "584576    3569      953       1\n",
       "627495    3796     1124       1"
      ]
     },
     "execution_count": 9,
     "metadata": {},
     "output_type": "execute_result"
    }
   ],
   "source": [
    "train_ratings.loc[:, 'rating'] = 1\n",
    "\n",
    "train_ratings.sample(10)"
   ]
  },
  {
   "cell_type": "markdown",
   "id": "ta4HeYfLkt2o",
   "metadata": {
    "id": "ta4HeYfLkt2o"
   },
   "source": [
    "Below Code:\n",
    "\n",
    "* It gathers all unique movie IDs before iterating over user-movie combinations and marking each as a \"positive\" interaction.\n",
    "\n",
    "* It creates four 'negative' samples (movies not interacted with by the user) for each positive case.\n",
    "\n",
    "* The technique generates a balanced dataset including both positive and negative instances, which is critical for training useful recommendation system"
   ]
  },
  {
   "cell_type": "code",
   "execution_count": 10,
   "id": "o3WVTt0Mm727",
   "metadata": {
    "colab": {
     "base_uri": "https://localhost:8080/"
    },
    "id": "o3WVTt0Mm727",
    "outputId": "b5632ca8-0ccb-4e8f-c50a-473e90ad256c"
   },
   "outputs": [
    {
     "name": "stderr",
     "output_type": "stream",
     "text": [
      "100%|██████████| 298350/298350 [00:33<00:00, 8974.06it/s] \n"
     ]
    }
   ],
   "source": [
    "\n",
    "all_movieIds = ratings['movieId'].unique()\n",
    "\n",
    "users, items, labels = [], [], []\n",
    "\n",
    "user_item_set = set(zip(train_ratings['userId'], train_ratings['movieId']))\n",
    "\n",
    "num_negatives = 4\n",
    "\n",
    "for (u, i) in tqdm(user_item_set):\n",
    "    users.append(u)\n",
    "    items.append(i)\n",
    "    labels.append(1)\n",
    "    for _ in range(num_negatives):\n",
    "        negative_item = np.random.choice(all_movieIds)\n",
    "        while (u, negative_item) in user_item_set:\n",
    "            negative_item = np.random.choice(all_movieIds)\n",
    "        users.append(u)\n",
    "        items.append(negative_item)\n",
    "        labels.append(0)"
   ]
  },
  {
   "cell_type": "markdown",
   "id": "StZHkPVcvHEM",
   "metadata": {
    "id": "StZHkPVcvHEM"
   },
   "source": [
    " * It starts with user ratings and movie IDs and builds a dataset of user-movie interactions that are categorized as positive (the user interacted with the movie) or negative (the user did not interact).\n",
    "\n",
    " * It produces four negative interactions at random for each good interaction, guaranteeing that these negative instances are not present in the user's interacted movies.\n",
    " This method is commonly used in the development of machine learning-based recommendation systems."
   ]
  },
  {
   "cell_type": "code",
   "execution_count": 11,
   "id": "z2YimEd-m75S",
   "metadata": {
    "id": "z2YimEd-m75S"
   },
   "outputs": [],
   "source": [
    "class MovieLensTrainDataset(Dataset):\n",
    "\n",
    "    def __init__(self, ratings, all_movieIds):\n",
    "        self.users, self.items, self.labels = self.get_dataset(ratings, all_movieIds)\n",
    "\n",
    "    def __len__(self):\n",
    "        return len(self.users)\n",
    "\n",
    "    def __getitem__(self, idx):\n",
    "        return self.users[idx], self.items[idx], self.labels[idx]\n",
    "\n",
    "    def get_dataset(self, ratings, all_movieIds):\n",
    "        users, items, labels = [], [], []\n",
    "        user_item_set = set(zip(ratings['userId'], ratings['movieId']))\n",
    "\n",
    "        num_negatives = 4\n",
    "        for u, i in user_item_set:\n",
    "            users.append(u)\n",
    "            items.append(i)\n",
    "            labels.append(1)\n",
    "            for _ in range(num_negatives):\n",
    "                negative_item = np.random.choice(all_movieIds)\n",
    "                while (u, negative_item) in user_item_set:\n",
    "                    negative_item = np.random.choice(all_movieIds)\n",
    "                users.append(u)\n",
    "                items.append(negative_item)\n",
    "                labels.append(0)\n",
    "\n",
    "        return torch.tensor(users), torch.tensor(items), torch.tensor(labels)"
   ]
  },
  {
   "cell_type": "markdown",
   "id": "FCDGZ9Y9vh6z",
   "metadata": {
    "id": "FCDGZ9Y9vh6z"
   },
   "source": [
    "* Using PyTorch Lightning, this code creates a Neural Collaborative Filtering (NCF) model.\n",
    "\n",
    "* It has user and item embedding layers, fully linked layers, and a sigmoid output layer for binary classification.\n",
    "\n",
    "* The data flows over the network is defined by the 'forward' mechanism. It entails embedding users and items, concatenating these embeddings, passing them through dense layers activated by ReLU, and ultimately a sigmoid activation for prediction.\n",
    "\n",
    "* For training, the 'training_step' technique computes the binary cross-entropy loss. For training data, the model use the Adam optimizer and a custom DataLoader."
   ]
  },
  {
   "cell_type": "code",
   "execution_count": 12,
   "id": "O3DRMZ_Dm77l",
   "metadata": {
    "id": "O3DRMZ_Dm77l"
   },
   "outputs": [],
   "source": [
    "class NCF(pl.LightningModule):\n",
    "\n",
    "    def __init__(self, num_users, num_items, ratings, all_movieIds):\n",
    "        super().__init__()\n",
    "        self.user_embedding = nn.Embedding(num_embeddings=num_users, embedding_dim=8)\n",
    "        self.item_embedding = nn.Embedding(num_embeddings=num_items, embedding_dim=8)\n",
    "        self.fc1 = nn.Linear(in_features=16, out_features=64)\n",
    "        self.fc2 = nn.Linear(in_features=64, out_features=32)\n",
    "        self.output = nn.Linear(in_features=32, out_features=1)\n",
    "        self.ratings = ratings\n",
    "        self.all_movieIds = all_movieIds\n",
    "\n",
    "    def forward(self, user_input, item_input):\n",
    "        user_embedded = self.user_embedding(user_input)\n",
    "        item_embedded = self.item_embedding(item_input)\n",
    "        vector = torch.cat([user_embedded, item_embedded], dim=-1)\n",
    "        vector = nn.ReLU()(self.fc1(vector))\n",
    "        vector = nn.ReLU()(self.fc2(vector))\n",
    "        pred = nn.Sigmoid()(self.output(vector))\n",
    "\n",
    "        return pred\n",
    "\n",
    "    def training_step(self, batch, batch_idx):\n",
    "        user_input, item_input, labels = batch\n",
    "        predicted_labels = self(user_input, item_input)\n",
    "        loss = nn.BCELoss()(predicted_labels, labels.view(-1, 1).float())\n",
    "        return loss\n",
    "\n",
    "    def configure_optimizers(self):\n",
    "        return torch.optim.Adam(self.parameters())\n",
    "\n",
    "    def train_dataloader(self):\n",
    "        return DataLoader(MovieLensTrainDataset(self.ratings, self.all_movieIds),\n",
    "                          batch_size=32, num_workers=2)"
   ]
  },
  {
   "cell_type": "code",
   "execution_count": 13,
   "id": "EL2V10TpnU4t",
   "metadata": {
    "id": "EL2V10TpnU4t"
   },
   "outputs": [],
   "source": [
    "num_users = ratings['userId'].max()+1\n",
    "num_items = ratings['movieId'].max()+1\n",
    "\n",
    "all_movieIds = ratings['movieId'].unique()\n",
    "\n",
    "model = NCF(num_users, num_items, train_ratings, all_movieIds)"
   ]
  },
  {
   "cell_type": "code",
   "execution_count": 14,
   "id": "RtWwbnzVnU68",
   "metadata": {
    "colab": {
     "base_uri": "https://localhost:8080/"
    },
    "id": "RtWwbnzVnU68",
    "outputId": "a3d09fe0-a4f8-49f0-8fb2-2429c44fcdb2"
   },
   "outputs": [
    {
     "name": "stderr",
     "output_type": "stream",
     "text": [
      "INFO:pytorch_lightning.utilities.rank_zero:GPU available: False, used: False\n",
      "INFO:pytorch_lightning.utilities.rank_zero:TPU available: False, using: 0 TPU cores\n",
      "INFO:pytorch_lightning.utilities.rank_zero:IPU available: False, using: 0 IPUs\n",
      "INFO:pytorch_lightning.utilities.rank_zero:HPU available: False, using: 0 HPUs\n"
     ]
    }
   ],
   "source": [
    "trainer = pl.Trainer(max_epochs=3, accelerator=\"cpu\")\n",
    "\n"
   ]
  },
  {
   "cell_type": "code",
   "execution_count": 15,
   "id": "c362e9a9",
   "metadata": {
    "colab": {
     "base_uri": "https://localhost:8080/",
     "height": 309,
     "referenced_widgets": [
      "fd5838bd0ffc4838a73ce5d0d62f060d",
      "379046a19a97444fa6cd750adb3b9416",
      "8c293da342464dac9c6d466a08497bb8",
      "5fda7fffc4504e879391d69909b4fc88",
      "f9ac100178fe408d8dbd4df1e2b2cee3",
      "5de1a946294444068c6f471fe11d1d1a",
      "3696aa61e8314086aaf7cf67f7cb264e",
      "7ce46b190cde437b87f3dc3ae7e1176e",
      "ca5bf8f0571f4842878a53d1ebc17a4a",
      "4a99f99cc3e148a3b68e65a1accf69ab",
      "c9356e29c75a46b4b5154dc72d994580"
     ]
    },
    "id": "c362e9a9",
    "outputId": "a9ff3ed9-42e5-4a15-e401-f198f904af38"
   },
   "outputs": [
    {
     "name": "stderr",
     "output_type": "stream",
     "text": [
      "WARNING:pytorch_lightning.loggers.tensorboard:Missing logger folder: /content/lightning_logs\n",
      "INFO:pytorch_lightning.callbacks.model_summary:\n",
      "  | Name           | Type      | Params\n",
      "---------------------------------------------\n",
      "0 | user_embedding | Embedding | 48.3 K\n",
      "1 | item_embedding | Embedding | 31.6 K\n",
      "2 | fc1            | Linear    | 1.1 K \n",
      "3 | fc2            | Linear    | 2.1 K \n",
      "4 | output         | Linear    | 33    \n",
      "---------------------------------------------\n",
      "83.2 K    Trainable params\n",
      "0         Non-trainable params\n",
      "83.2 K    Total params\n",
      "0.333     Total estimated model params size (MB)\n"
     ]
    },
    {
     "data": {
      "application/vnd.jupyter.widget-view+json": {
       "model_id": "fd5838bd0ffc4838a73ce5d0d62f060d",
       "version_major": 2,
       "version_minor": 0
      },
      "text/plain": [
       "Training: |          | 0/? [00:00<?, ?it/s]"
      ]
     },
     "metadata": {},
     "output_type": "display_data"
    },
    {
     "name": "stderr",
     "output_type": "stream",
     "text": [
      "INFO:pytorch_lightning.utilities.rank_zero:`Trainer.fit` stopped: `max_epochs=3` reached.\n"
     ]
    }
   ],
   "source": [
    "trainer.fit(model)\n"
   ]
  },
  {
   "cell_type": "markdown",
   "id": "Xwi98XmlwAev",
   "metadata": {
    "id": "Xwi98XmlwAev"
   },
   "source": [
    "* This code uses a Hit Ratio statistic to assess a recommendation model. It determines if the actual item (movie) with which a user interacts is among the top ten suggested movies.\n",
    "\n",
    "* It produces 99 movies not interacted with by the user for each user-item combination in the test set, mixes them with the actual interacted item, and predicts the probability of the user interacting with these 100 movies. If the real item is in the top ten of these predictions, it is termed a \"hit.\"\n",
    "\n",
    "* The Hit Ratio @ 10 is the average of these hits, and it indicates how well the model is in predicting user preferences."
   ]
  },
  {
   "cell_type": "code",
   "execution_count": 16,
   "id": "DDhYpmCHnU9c",
   "metadata": {
    "colab": {
     "base_uri": "https://localhost:8080/"
    },
    "id": "DDhYpmCHnU9c",
    "outputId": "962a7944-a526-4863-d375-13032a5fa238"
   },
   "outputs": [
    {
     "name": "stderr",
     "output_type": "stream",
     "text": [
      "100%|██████████| 1812/1812 [00:03<00:00, 522.59it/s]"
     ]
    },
    {
     "name": "stdout",
     "output_type": "stream",
     "text": [
      "The Hit Ratio @ 10 is 0.43\n"
     ]
    },
    {
     "name": "stderr",
     "output_type": "stream",
     "text": [
      "\n"
     ]
    }
   ],
   "source": [
    "\n",
    "test_user_item_set = set(zip(test_ratings['userId'], test_ratings['movieId']))\n",
    "\n",
    "user_interacted_items = ratings.groupby('userId')['movieId'].apply(list).to_dict()\n",
    "\n",
    "hits = []\n",
    "for (u,i) in tqdm(test_user_item_set):\n",
    "    interacted_items = user_interacted_items[u]\n",
    "    not_interacted_items = set(all_movieIds) - set(interacted_items)\n",
    "    selected_not_interacted = list(np.random.choice(list(not_interacted_items), 99))\n",
    "    test_items = selected_not_interacted + [i]\n",
    "\n",
    "    predicted_labels = np.squeeze(model(torch.tensor([u]*100),\n",
    "                                        torch.tensor(test_items)).detach().numpy())\n",
    "\n",
    "    top10_items = [test_items[i] for i in np.argsort(predicted_labels)[::-1][0:10].tolist()]\n",
    "\n",
    "    if i in top10_items:\n",
    "        hits.append(1)\n",
    "    else:\n",
    "        hits.append(0)\n",
    "\n",
    "print(\"The Hit Ratio @ 10 is {:.2f}\".format(np.average(hits)))"
   ]
  },
  {
   "cell_type": "code",
   "execution_count": 17,
   "id": "68nygxZn0Dcd",
   "metadata": {
    "colab": {
     "base_uri": "https://localhost:8080/"
    },
    "id": "68nygxZn0Dcd",
    "outputId": "65ad408e-0ff3-4cb1-82b1-72e862a38eea"
   },
   "outputs": [
    {
     "name": "stdout",
     "output_type": "stream",
     "text": [
      "RMSE: 3.404056604750422\n"
     ]
    }
   ],
   "source": [
    "from sklearn.metrics import mean_squared_error\n",
    "import numpy as np\n",
    "\n",
    "# Assuming you have test data with actual ratings and predicted ratings\n",
    "actual_ratings = test_ratings['rating'].values  # Actual ratings\n",
    "predicted_ratings = model(torch.tensor(test_ratings['userId'].values),\n",
    "                          torch.tensor(test_ratings['movieId'].values)).detach().numpy().flatten()  # Predicted ratings\n",
    "\n",
    "rmse = np.sqrt(mean_squared_error(actual_ratings, predicted_ratings))\n",
    "print(\"RMSE:\", rmse)\n"
   ]
  },
  {
   "cell_type": "code",
   "execution_count": 18,
   "id": "pfVc1lfm0IGH",
   "metadata": {
    "colab": {
     "base_uri": "https://localhost:8080/"
    },
    "id": "pfVc1lfm0IGH",
    "outputId": "bb7c6827-3345-4e01-e481-1c628e1c3b54"
   },
   "outputs": [
    {
     "name": "stdout",
     "output_type": "stream",
     "text": [
      "nDCG@10: 1.0\n"
     ]
    }
   ],
   "source": [
    "def dcg_at_k(ranked_list, k):\n",
    "    dcg = 0\n",
    "    for i in range(min(k, len(ranked_list))):\n",
    "        dcg += (2 ** ranked_list[i] - 1) / np.log2(i + 2)\n",
    "    return dcg\n",
    "\n",
    "def ndcg_at_k(actual, predicted, k):\n",
    "    sorted_indices = np.argsort(-predicted)\n",
    "    actual_sorted = actual[sorted_indices]\n",
    "    dcg = dcg_at_k(actual_sorted, k)\n",
    "    idcg = dcg_at_k(np.sort(actual)[::-1], k)\n",
    "    if idcg == 0:\n",
    "        return 0\n",
    "    return dcg / idcg\n",
    "\n",
    "\n",
    "actual_ratings_per_user = []\n",
    "predicted_ratings_per_user = []\n",
    "for user_id in test_ratings['userId'].unique():\n",
    "    user_ratings = test_ratings[test_ratings['userId'] == user_id]['rating'].values\n",
    "    user_predicted_ratings = predicted_ratings[test_ratings['userId'] == user_id]\n",
    "    actual_ratings_per_user.append(user_ratings)\n",
    "    predicted_ratings_per_user.append(user_predicted_ratings)\n",
    "\n",
    "# Calculate nDCG@10 for each user and average across all users\n",
    "nDCG_values = [ndcg_at_k(actual, predicted, 10) for actual, predicted in zip(actual_ratings_per_user, predicted_ratings_per_user)]\n",
    "nDCG = np.mean(nDCG_values)\n",
    "print(\"nDCG@10:\", nDCG)\n"
   ]
  },
  {
   "cell_type": "markdown",
   "id": "iBgwqirA3nDW",
   "metadata": {
    "id": "iBgwqirA3nDW"
   },
   "source": [
    "### Cold Start problem\n",
    "\n",
    "The cold start problem arises in recommendation systems when there is insufficient data about new users or items, making it challenging to provide accurate recommendations solely based on user-item interactions. One approach to address this issue is through content-based filtering."
   ]
  },
  {
   "cell_type": "code",
   "execution_count": 19,
   "id": "g9uEeVXI3o1L",
   "metadata": {
    "colab": {
     "base_uri": "https://localhost:8080/",
     "height": 363
    },
    "id": "g9uEeVXI3o1L",
    "outputId": "e4020dbe-b016-4c3f-c39d-344fa7d8c74a"
   },
   "outputs": [
    {
     "data": {
      "application/vnd.google.colaboratory.intrinsic+json": {
       "summary": "{\n  \"name\": \"movies\",\n  \"rows\": 27278,\n  \"fields\": [\n    {\n      \"column\": \"movieId\",\n      \"properties\": {\n        \"dtype\": \"number\",\n        \"std\": 44429,\n        \"min\": 1,\n        \"max\": 131262,\n        \"num_unique_values\": 27278,\n        \"samples\": [\n          61116,\n          70697,\n          111931\n        ],\n        \"semantic_type\": \"\",\n        \"description\": \"\"\n      }\n    },\n    {\n      \"column\": \"title\",\n      \"properties\": {\n        \"dtype\": \"string\",\n        \"num_unique_values\": 27262,\n        \"samples\": [\n          \"Look (2007)\",\n          \"Return of the Living Dead: Rave to the Grave (2005)\",\n          \"Quare Fellow, The (a.k.a. The Condemned Man) (1962)\"\n        ],\n        \"semantic_type\": \"\",\n        \"description\": \"\"\n      }\n    },\n    {\n      \"column\": \"genres\",\n      \"properties\": {\n        \"dtype\": \"category\",\n        \"num_unique_values\": 1342,\n        \"samples\": [\n          \"Comedy|Horror|Romance|Sci-Fi\",\n          \"Action|Adventure|Animation|Fantasy|Sci-Fi\",\n          \"Thriller|War\"\n        ],\n        \"semantic_type\": \"\",\n        \"description\": \"\"\n      }\n    }\n  ]\n}",
       "type": "dataframe",
       "variable_name": "movies"
      },
      "text/html": [
       "\n",
       "  <div id=\"df-2cfdc705-6135-4867-8f59-1f5c1ba76a2d\" class=\"colab-df-container\">\n",
       "    <div>\n",
       "<style scoped>\n",
       "    .dataframe tbody tr th:only-of-type {\n",
       "        vertical-align: middle;\n",
       "    }\n",
       "\n",
       "    .dataframe tbody tr th {\n",
       "        vertical-align: top;\n",
       "    }\n",
       "\n",
       "    .dataframe thead th {\n",
       "        text-align: right;\n",
       "    }\n",
       "</style>\n",
       "<table border=\"1\" class=\"dataframe\">\n",
       "  <thead>\n",
       "    <tr style=\"text-align: right;\">\n",
       "      <th></th>\n",
       "      <th>movieId</th>\n",
       "      <th>title</th>\n",
       "      <th>genres</th>\n",
       "    </tr>\n",
       "  </thead>\n",
       "  <tbody>\n",
       "    <tr>\n",
       "      <th>0</th>\n",
       "      <td>1</td>\n",
       "      <td>Toy Story (1995)</td>\n",
       "      <td>Adventure|Animation|Children|Comedy|Fantasy</td>\n",
       "    </tr>\n",
       "    <tr>\n",
       "      <th>1</th>\n",
       "      <td>2</td>\n",
       "      <td>Jumanji (1995)</td>\n",
       "      <td>Adventure|Children|Fantasy</td>\n",
       "    </tr>\n",
       "    <tr>\n",
       "      <th>2</th>\n",
       "      <td>3</td>\n",
       "      <td>Grumpier Old Men (1995)</td>\n",
       "      <td>Comedy|Romance</td>\n",
       "    </tr>\n",
       "    <tr>\n",
       "      <th>3</th>\n",
       "      <td>4</td>\n",
       "      <td>Waiting to Exhale (1995)</td>\n",
       "      <td>Comedy|Drama|Romance</td>\n",
       "    </tr>\n",
       "    <tr>\n",
       "      <th>4</th>\n",
       "      <td>5</td>\n",
       "      <td>Father of the Bride Part II (1995)</td>\n",
       "      <td>Comedy</td>\n",
       "    </tr>\n",
       "    <tr>\n",
       "      <th>5</th>\n",
       "      <td>6</td>\n",
       "      <td>Heat (1995)</td>\n",
       "      <td>Action|Crime|Thriller</td>\n",
       "    </tr>\n",
       "    <tr>\n",
       "      <th>6</th>\n",
       "      <td>7</td>\n",
       "      <td>Sabrina (1995)</td>\n",
       "      <td>Comedy|Romance</td>\n",
       "    </tr>\n",
       "    <tr>\n",
       "      <th>7</th>\n",
       "      <td>8</td>\n",
       "      <td>Tom and Huck (1995)</td>\n",
       "      <td>Adventure|Children</td>\n",
       "    </tr>\n",
       "    <tr>\n",
       "      <th>8</th>\n",
       "      <td>9</td>\n",
       "      <td>Sudden Death (1995)</td>\n",
       "      <td>Action</td>\n",
       "    </tr>\n",
       "    <tr>\n",
       "      <th>9</th>\n",
       "      <td>10</td>\n",
       "      <td>GoldenEye (1995)</td>\n",
       "      <td>Action|Adventure|Thriller</td>\n",
       "    </tr>\n",
       "  </tbody>\n",
       "</table>\n",
       "</div>\n",
       "    <div class=\"colab-df-buttons\">\n",
       "\n",
       "  <div class=\"colab-df-container\">\n",
       "    <button class=\"colab-df-convert\" onclick=\"convertToInteractive('df-2cfdc705-6135-4867-8f59-1f5c1ba76a2d')\"\n",
       "            title=\"Convert this dataframe to an interactive table.\"\n",
       "            style=\"display:none;\">\n",
       "\n",
       "  <svg xmlns=\"http://www.w3.org/2000/svg\" height=\"24px\" viewBox=\"0 -960 960 960\">\n",
       "    <path d=\"M120-120v-720h720v720H120Zm60-500h600v-160H180v160Zm220 220h160v-160H400v160Zm0 220h160v-160H400v160ZM180-400h160v-160H180v160Zm440 0h160v-160H620v160ZM180-180h160v-160H180v160Zm440 0h160v-160H620v160Z\"/>\n",
       "  </svg>\n",
       "    </button>\n",
       "\n",
       "  <style>\n",
       "    .colab-df-container {\n",
       "      display:flex;\n",
       "      gap: 12px;\n",
       "    }\n",
       "\n",
       "    .colab-df-convert {\n",
       "      background-color: #E8F0FE;\n",
       "      border: none;\n",
       "      border-radius: 50%;\n",
       "      cursor: pointer;\n",
       "      display: none;\n",
       "      fill: #1967D2;\n",
       "      height: 32px;\n",
       "      padding: 0 0 0 0;\n",
       "      width: 32px;\n",
       "    }\n",
       "\n",
       "    .colab-df-convert:hover {\n",
       "      background-color: #E2EBFA;\n",
       "      box-shadow: 0px 1px 2px rgba(60, 64, 67, 0.3), 0px 1px 3px 1px rgba(60, 64, 67, 0.15);\n",
       "      fill: #174EA6;\n",
       "    }\n",
       "\n",
       "    .colab-df-buttons div {\n",
       "      margin-bottom: 4px;\n",
       "    }\n",
       "\n",
       "    [theme=dark] .colab-df-convert {\n",
       "      background-color: #3B4455;\n",
       "      fill: #D2E3FC;\n",
       "    }\n",
       "\n",
       "    [theme=dark] .colab-df-convert:hover {\n",
       "      background-color: #434B5C;\n",
       "      box-shadow: 0px 1px 3px 1px rgba(0, 0, 0, 0.15);\n",
       "      filter: drop-shadow(0px 1px 2px rgba(0, 0, 0, 0.3));\n",
       "      fill: #FFFFFF;\n",
       "    }\n",
       "  </style>\n",
       "\n",
       "    <script>\n",
       "      const buttonEl =\n",
       "        document.querySelector('#df-2cfdc705-6135-4867-8f59-1f5c1ba76a2d button.colab-df-convert');\n",
       "      buttonEl.style.display =\n",
       "        google.colab.kernel.accessAllowed ? 'block' : 'none';\n",
       "\n",
       "      async function convertToInteractive(key) {\n",
       "        const element = document.querySelector('#df-2cfdc705-6135-4867-8f59-1f5c1ba76a2d');\n",
       "        const dataTable =\n",
       "          await google.colab.kernel.invokeFunction('convertToInteractive',\n",
       "                                                    [key], {});\n",
       "        if (!dataTable) return;\n",
       "\n",
       "        const docLinkHtml = 'Like what you see? Visit the ' +\n",
       "          '<a target=\"_blank\" href=https://colab.research.google.com/notebooks/data_table.ipynb>data table notebook</a>'\n",
       "          + ' to learn more about interactive tables.';\n",
       "        element.innerHTML = '';\n",
       "        dataTable['output_type'] = 'display_data';\n",
       "        await google.colab.output.renderOutput(dataTable, element);\n",
       "        const docLink = document.createElement('div');\n",
       "        docLink.innerHTML = docLinkHtml;\n",
       "        element.appendChild(docLink);\n",
       "      }\n",
       "    </script>\n",
       "  </div>\n",
       "\n",
       "\n",
       "<div id=\"df-59ac979a-5a6f-4ef3-ac4b-cde874c76270\">\n",
       "  <button class=\"colab-df-quickchart\" onclick=\"quickchart('df-59ac979a-5a6f-4ef3-ac4b-cde874c76270')\"\n",
       "            title=\"Suggest charts\"\n",
       "            style=\"display:none;\">\n",
       "\n",
       "<svg xmlns=\"http://www.w3.org/2000/svg\" height=\"24px\"viewBox=\"0 0 24 24\"\n",
       "     width=\"24px\">\n",
       "    <g>\n",
       "        <path d=\"M19 3H5c-1.1 0-2 .9-2 2v14c0 1.1.9 2 2 2h14c1.1 0 2-.9 2-2V5c0-1.1-.9-2-2-2zM9 17H7v-7h2v7zm4 0h-2V7h2v10zm4 0h-2v-4h2v4z\"/>\n",
       "    </g>\n",
       "</svg>\n",
       "  </button>\n",
       "\n",
       "<style>\n",
       "  .colab-df-quickchart {\n",
       "      --bg-color: #E8F0FE;\n",
       "      --fill-color: #1967D2;\n",
       "      --hover-bg-color: #E2EBFA;\n",
       "      --hover-fill-color: #174EA6;\n",
       "      --disabled-fill-color: #AAA;\n",
       "      --disabled-bg-color: #DDD;\n",
       "  }\n",
       "\n",
       "  [theme=dark] .colab-df-quickchart {\n",
       "      --bg-color: #3B4455;\n",
       "      --fill-color: #D2E3FC;\n",
       "      --hover-bg-color: #434B5C;\n",
       "      --hover-fill-color: #FFFFFF;\n",
       "      --disabled-bg-color: #3B4455;\n",
       "      --disabled-fill-color: #666;\n",
       "  }\n",
       "\n",
       "  .colab-df-quickchart {\n",
       "    background-color: var(--bg-color);\n",
       "    border: none;\n",
       "    border-radius: 50%;\n",
       "    cursor: pointer;\n",
       "    display: none;\n",
       "    fill: var(--fill-color);\n",
       "    height: 32px;\n",
       "    padding: 0;\n",
       "    width: 32px;\n",
       "  }\n",
       "\n",
       "  .colab-df-quickchart:hover {\n",
       "    background-color: var(--hover-bg-color);\n",
       "    box-shadow: 0 1px 2px rgba(60, 64, 67, 0.3), 0 1px 3px 1px rgba(60, 64, 67, 0.15);\n",
       "    fill: var(--button-hover-fill-color);\n",
       "  }\n",
       "\n",
       "  .colab-df-quickchart-complete:disabled,\n",
       "  .colab-df-quickchart-complete:disabled:hover {\n",
       "    background-color: var(--disabled-bg-color);\n",
       "    fill: var(--disabled-fill-color);\n",
       "    box-shadow: none;\n",
       "  }\n",
       "\n",
       "  .colab-df-spinner {\n",
       "    border: 2px solid var(--fill-color);\n",
       "    border-color: transparent;\n",
       "    border-bottom-color: var(--fill-color);\n",
       "    animation:\n",
       "      spin 1s steps(1) infinite;\n",
       "  }\n",
       "\n",
       "  @keyframes spin {\n",
       "    0% {\n",
       "      border-color: transparent;\n",
       "      border-bottom-color: var(--fill-color);\n",
       "      border-left-color: var(--fill-color);\n",
       "    }\n",
       "    20% {\n",
       "      border-color: transparent;\n",
       "      border-left-color: var(--fill-color);\n",
       "      border-top-color: var(--fill-color);\n",
       "    }\n",
       "    30% {\n",
       "      border-color: transparent;\n",
       "      border-left-color: var(--fill-color);\n",
       "      border-top-color: var(--fill-color);\n",
       "      border-right-color: var(--fill-color);\n",
       "    }\n",
       "    40% {\n",
       "      border-color: transparent;\n",
       "      border-right-color: var(--fill-color);\n",
       "      border-top-color: var(--fill-color);\n",
       "    }\n",
       "    60% {\n",
       "      border-color: transparent;\n",
       "      border-right-color: var(--fill-color);\n",
       "    }\n",
       "    80% {\n",
       "      border-color: transparent;\n",
       "      border-right-color: var(--fill-color);\n",
       "      border-bottom-color: var(--fill-color);\n",
       "    }\n",
       "    90% {\n",
       "      border-color: transparent;\n",
       "      border-bottom-color: var(--fill-color);\n",
       "    }\n",
       "  }\n",
       "</style>\n",
       "\n",
       "  <script>\n",
       "    async function quickchart(key) {\n",
       "      const quickchartButtonEl =\n",
       "        document.querySelector('#' + key + ' button');\n",
       "      quickchartButtonEl.disabled = true;  // To prevent multiple clicks.\n",
       "      quickchartButtonEl.classList.add('colab-df-spinner');\n",
       "      try {\n",
       "        const charts = await google.colab.kernel.invokeFunction(\n",
       "            'suggestCharts', [key], {});\n",
       "      } catch (error) {\n",
       "        console.error('Error during call to suggestCharts:', error);\n",
       "      }\n",
       "      quickchartButtonEl.classList.remove('colab-df-spinner');\n",
       "      quickchartButtonEl.classList.add('colab-df-quickchart-complete');\n",
       "    }\n",
       "    (() => {\n",
       "      let quickchartButtonEl =\n",
       "        document.querySelector('#df-59ac979a-5a6f-4ef3-ac4b-cde874c76270 button');\n",
       "      quickchartButtonEl.style.display =\n",
       "        google.colab.kernel.accessAllowed ? 'block' : 'none';\n",
       "    })();\n",
       "  </script>\n",
       "</div>\n",
       "\n",
       "    </div>\n",
       "  </div>\n"
      ],
      "text/plain": [
       "   movieId                               title  \\\n",
       "0        1                    Toy Story (1995)   \n",
       "1        2                      Jumanji (1995)   \n",
       "2        3             Grumpier Old Men (1995)   \n",
       "3        4            Waiting to Exhale (1995)   \n",
       "4        5  Father of the Bride Part II (1995)   \n",
       "5        6                         Heat (1995)   \n",
       "6        7                      Sabrina (1995)   \n",
       "7        8                 Tom and Huck (1995)   \n",
       "8        9                 Sudden Death (1995)   \n",
       "9       10                    GoldenEye (1995)   \n",
       "\n",
       "                                        genres  \n",
       "0  Adventure|Animation|Children|Comedy|Fantasy  \n",
       "1                   Adventure|Children|Fantasy  \n",
       "2                               Comedy|Romance  \n",
       "3                         Comedy|Drama|Romance  \n",
       "4                                       Comedy  \n",
       "5                        Action|Crime|Thriller  \n",
       "6                               Comedy|Romance  \n",
       "7                           Adventure|Children  \n",
       "8                                       Action  \n",
       "9                    Action|Adventure|Thriller  "
      ]
     },
     "execution_count": 19,
     "metadata": {},
     "output_type": "execute_result"
    }
   ],
   "source": [
    "import pandas as pd\n",
    "import seaborn as sns\n",
    "import matplotlib.pyplot as plt\n",
    "import re\n",
    "from collections import Counter\n",
    "\n",
    "\n",
    "movies = pd.read_csv(\"movies.csv\")\n",
    "movies.head(10)"
   ]
  },
  {
   "cell_type": "code",
   "execution_count": 20,
   "id": "j20gderC3ox8",
   "metadata": {
    "id": "j20gderC3ox8"
   },
   "outputs": [],
   "source": [
    "# Splitting genres and creating a list\n",
    "movies['genres'] = movies['genres'].apply(lambda x: x.split(\"|\"))"
   ]
  },
  {
   "cell_type": "code",
   "execution_count": 21,
   "id": "hrO3LM2h3ovo",
   "metadata": {
    "colab": {
     "base_uri": "https://localhost:8080/"
    },
    "id": "hrO3LM2h3ovo",
    "outputId": "48b1a2a0-0f7b-42fa-bc10-1c3a5e631a36"
   },
   "outputs": [
    {
     "name": "stdout",
     "output_type": "stream",
     "text": [
      "There are 20 genre labels.\n"
     ]
    }
   ],
   "source": [
    "# Counting occurrences of each genre\n",
    "genres_counts = Counter(g for genres in movies['genres'] for g in genres)\n",
    "print(f\"There are {len(genres_counts)} genre labels.\")"
   ]
  },
  {
   "cell_type": "code",
   "execution_count": 22,
   "id": "R5w2nMj63otL",
   "metadata": {
    "id": "R5w2nMj63otL"
   },
   "outputs": [],
   "source": [
    "# Removing movies with no genre listed\n",
    "movies = movies[movies['genres'] != '(no genres listed)']\n",
    "del genres_counts['(no genres listed)']"
   ]
  },
  {
   "cell_type": "code",
   "execution_count": 23,
   "id": "IRPQHGJ-3oq9",
   "metadata": {
    "colab": {
     "base_uri": "https://localhost:8080/"
    },
    "id": "IRPQHGJ-3oq9",
    "outputId": "d93fe992-bd20-4d92-ca42-73de089f9b84"
   },
   "outputs": [
    {
     "name": "stdout",
     "output_type": "stream",
     "text": [
      "The 5 most common genres: \n",
      " [('Drama', 13344), ('Comedy', 8374), ('Thriller', 4178), ('Romance', 4127), ('Action', 3520)]\n"
     ]
    }
   ],
   "source": [
    "# Printing the 5 most common genres\n",
    "print(\"The 5 most common genres: \\n\", genres_counts.most_common(5))"
   ]
  },
  {
   "cell_type": "code",
   "execution_count": 24,
   "id": "KWj2OGAY3ooh",
   "metadata": {
    "id": "KWj2OGAY3ooh"
   },
   "outputs": [],
   "source": [
    "# Converting Counter to DataFrame for plotting\n",
    "genres_counts_df = pd.DataFrame([genres_counts]).T.reset_index()\n",
    "genres_counts_df.columns = ['genres', 'count']\n",
    "genres_counts_df = genres_counts_df.sort_values(by='count', ascending=False)\n"
   ]
  },
  {
   "cell_type": "code",
   "execution_count": 25,
   "id": "H5w1fQZmB0Wj",
   "metadata": {
    "colab": {
     "base_uri": "https://localhost:8080/",
     "height": 637
    },
    "id": "H5w1fQZmB0Wj",
    "outputId": "00b89897-81a7-4b58-a90c-51cb93fa60ae"
   },
   "outputs": [
    {
     "name": "stderr",
     "output_type": "stream",
     "text": [
      "<ipython-input-25-2d6203877f60>:3: FutureWarning: \n",
      "\n",
      "Passing `palette` without assigning `hue` is deprecated and will be removed in v0.14.0. Assign the `x` variable to `hue` and set `legend=False` for the same effect.\n",
      "\n",
      "  sns.barplot(x='genres', y='count', data=genres_counts_df, palette='viridis')\n"
     ]
    },
    {
     "data": {
      "image/png": "[encoded data removed]",
      "text/plain": [
       "<Figure size 1000x500 with 1 Axes>"
      ]
     },
     "metadata": {},
     "output_type": "display_data"
    }
   ],
   "source": [
    "# Plotting genre counts\n",
    "plt.figure(figsize=(10,5))\n",
    "sns.barplot(x='genres', y='count', data=genres_counts_df, palette='viridis')\n",
    "plt.xticks(rotation=90)\n",
    "plt.show()"
   ]
  },
  {
   "cell_type": "code",
   "execution_count": 26,
   "id": "QNCgym7tB0TD",
   "metadata": {
    "id": "QNCgym7tB0TD"
   },
   "outputs": [],
   "source": [
    "# Function to extract year from movie title\n",
    "def extract_year_from_title(title):\n",
    "    t = title.split(' ')\n",
    "    year = None\n",
    "    if re.search(r'\\(\\d+\\)', t[-1]):\n",
    "        year = t[-1].strip('()')\n",
    "        year = int(year)\n",
    "    return year"
   ]
  },
  {
   "cell_type": "code",
   "execution_count": 28,
   "id": "vBzYXZrdNmae",
   "metadata": {
    "id": "vBzYXZrdNmae"
   },
   "outputs": [],
   "source": [
    "import re\n",
    "\n",
    "def extract_year_from_title(title):\n",
    "    # Regular expression to find the year in parentheses\n",
    "    match = re.search(r'\\((\\d{4})\\)$', title)\n",
    "    if match:\n",
    "        # Extracting the year from the matched group\n",
    "        year = match.group(1)\n",
    "        return int(year)\n",
    "    else:\n",
    "        return None  # Return None if no year is found\n"
   ]
  },
  {
   "cell_type": "code",
   "execution_count": 29,
   "id": "j-L5vKzqB0Q_",
   "metadata": {
    "colab": {
     "base_uri": "https://localhost:8080/",
     "height": 363
    },
    "id": "j-L5vKzqB0Q_",
    "outputId": "b026cbfc-3688-4fdc-cba3-0f508a339be8"
   },
   "outputs": [
    {
     "data": {
      "application/vnd.google.colaboratory.intrinsic+json": {
       "summary": "{\n  \"name\": \"movies\",\n  \"rows\": 27049,\n  \"fields\": [\n    {\n      \"column\": \"movieId\",\n      \"properties\": {\n        \"dtype\": \"number\",\n        \"std\": 44452,\n        \"min\": 1,\n        \"max\": 131262,\n        \"num_unique_values\": 27049,\n        \"samples\": [\n          70703,\n          79868,\n          4713\n        ],\n        \"semantic_type\": \"\",\n        \"description\": \"\"\n      }\n    },\n    {\n      \"column\": \"title\",\n      \"properties\": {\n        \"dtype\": \"string\",\n        \"num_unique_values\": 27033,\n        \"samples\": [\n          \"Manta - Der Film (1991)\",\n          \"Time of Roses (Ruusujen aika) (1969)\",\n          \"Naked Edge, The (1961)\"\n        ],\n        \"semantic_type\": \"\",\n        \"description\": \"\"\n      }\n    },\n    {\n      \"column\": \"genres\",\n      \"properties\": {\n        \"dtype\": \"object\",\n        \"semantic_type\": \"\",\n        \"description\": \"\"\n      }\n    },\n    {\n      \"column\": \"year\",\n      \"properties\": {\n        \"dtype\": \"number\",\n        \"std\": 23.348287192680907,\n        \"min\": 1891.0,\n        \"max\": 2015.0,\n        \"num_unique_values\": 118,\n        \"samples\": [\n          1938.0,\n          1916.0,\n          1992.0\n        ],\n        \"semantic_type\": \"\",\n        \"description\": \"\"\n      }\n    }\n  ]\n}",
       "type": "dataframe",
       "variable_name": "movies"
      },
      "text/html": [
       "\n",
       "  <div id=\"df-39300466-d6ae-4954-a25e-bc69ad704fc0\" class=\"colab-df-container\">\n",
       "    <div>\n",
       "<style scoped>\n",
       "    .dataframe tbody tr th:only-of-type {\n",
       "        vertical-align: middle;\n",
       "    }\n",
       "\n",
       "    .dataframe tbody tr th {\n",
       "        vertical-align: top;\n",
       "    }\n",
       "\n",
       "    .dataframe thead th {\n",
       "        text-align: right;\n",
       "    }\n",
       "</style>\n",
       "<table border=\"1\" class=\"dataframe\">\n",
       "  <thead>\n",
       "    <tr style=\"text-align: right;\">\n",
       "      <th></th>\n",
       "      <th>movieId</th>\n",
       "      <th>title</th>\n",
       "      <th>genres</th>\n",
       "      <th>year</th>\n",
       "    </tr>\n",
       "  </thead>\n",
       "  <tbody>\n",
       "    <tr>\n",
       "      <th>0</th>\n",
       "      <td>1</td>\n",
       "      <td>Toy Story (1995)</td>\n",
       "      <td>[Adventure, Animation, Children, Comedy, Fantasy]</td>\n",
       "      <td>1995.0</td>\n",
       "    </tr>\n",
       "    <tr>\n",
       "      <th>1</th>\n",
       "      <td>2</td>\n",
       "      <td>Jumanji (1995)</td>\n",
       "      <td>[Adventure, Children, Fantasy]</td>\n",
       "      <td>1995.0</td>\n",
       "    </tr>\n",
       "    <tr>\n",
       "      <th>2</th>\n",
       "      <td>3</td>\n",
       "      <td>Grumpier Old Men (1995)</td>\n",
       "      <td>[Comedy, Romance]</td>\n",
       "      <td>1995.0</td>\n",
       "    </tr>\n",
       "    <tr>\n",
       "      <th>3</th>\n",
       "      <td>4</td>\n",
       "      <td>Waiting to Exhale (1995)</td>\n",
       "      <td>[Comedy, Drama, Romance]</td>\n",
       "      <td>1995.0</td>\n",
       "    </tr>\n",
       "    <tr>\n",
       "      <th>4</th>\n",
       "      <td>5</td>\n",
       "      <td>Father of the Bride Part II (1995)</td>\n",
       "      <td>[Comedy]</td>\n",
       "      <td>1995.0</td>\n",
       "    </tr>\n",
       "    <tr>\n",
       "      <th>5</th>\n",
       "      <td>6</td>\n",
       "      <td>Heat (1995)</td>\n",
       "      <td>[Action, Crime, Thriller]</td>\n",
       "      <td>1995.0</td>\n",
       "    </tr>\n",
       "    <tr>\n",
       "      <th>6</th>\n",
       "      <td>7</td>\n",
       "      <td>Sabrina (1995)</td>\n",
       "      <td>[Comedy, Romance]</td>\n",
       "      <td>1995.0</td>\n",
       "    </tr>\n",
       "    <tr>\n",
       "      <th>7</th>\n",
       "      <td>8</td>\n",
       "      <td>Tom and Huck (1995)</td>\n",
       "      <td>[Adventure, Children]</td>\n",
       "      <td>1995.0</td>\n",
       "    </tr>\n",
       "    <tr>\n",
       "      <th>8</th>\n",
       "      <td>9</td>\n",
       "      <td>Sudden Death (1995)</td>\n",
       "      <td>[Action]</td>\n",
       "      <td>1995.0</td>\n",
       "    </tr>\n",
       "    <tr>\n",
       "      <th>9</th>\n",
       "      <td>10</td>\n",
       "      <td>GoldenEye (1995)</td>\n",
       "      <td>[Action, Adventure, Thriller]</td>\n",
       "      <td>1995.0</td>\n",
       "    </tr>\n",
       "  </tbody>\n",
       "</table>\n",
       "</div>\n",
       "    <div class=\"colab-df-buttons\">\n",
       "\n",
       "  <div class=\"colab-df-container\">\n",
       "    <button class=\"colab-df-convert\" onclick=\"convertToInteractive('df-39300466-d6ae-4954-a25e-bc69ad704fc0')\"\n",
       "            title=\"Convert this dataframe to an interactive table.\"\n",
       "            style=\"display:none;\">\n",
       "\n",
       "  <svg xmlns=\"http://www.w3.org/2000/svg\" height=\"24px\" viewBox=\"0 -960 960 960\">\n",
       "    <path d=\"M120-120v-720h720v720H120Zm60-500h600v-160H180v160Zm220 220h160v-160H400v160Zm0 220h160v-160H400v160ZM180-400h160v-160H180v160Zm440 0h160v-160H620v160ZM180-180h160v-160H180v160Zm440 0h160v-160H620v160Z\"/>\n",
       "  </svg>\n",
       "    </button>\n",
       "\n",
       "  <style>\n",
       "    .colab-df-container {\n",
       "      display:flex;\n",
       "      gap: 12px;\n",
       "    }\n",
       "\n",
       "    .colab-df-convert {\n",
       "      background-color: #E8F0FE;\n",
       "      border: none;\n",
       "      border-radius: 50%;\n",
       "      cursor: pointer;\n",
       "      display: none;\n",
       "      fill: #1967D2;\n",
       "      height: 32px;\n",
       "      padding: 0 0 0 0;\n",
       "      width: 32px;\n",
       "    }\n",
       "\n",
       "    .colab-df-convert:hover {\n",
       "      background-color: #E2EBFA;\n",
       "      box-shadow: 0px 1px 2px rgba(60, 64, 67, 0.3), 0px 1px 3px 1px rgba(60, 64, 67, 0.15);\n",
       "      fill: #174EA6;\n",
       "    }\n",
       "\n",
       "    .colab-df-buttons div {\n",
       "      margin-bottom: 4px;\n",
       "    }\n",
       "\n",
       "    [theme=dark] .colab-df-convert {\n",
       "      background-color: #3B4455;\n",
       "      fill: #D2E3FC;\n",
       "    }\n",
       "\n",
       "    [theme=dark] .colab-df-convert:hover {\n",
       "      background-color: #434B5C;\n",
       "      box-shadow: 0px 1px 3px 1px rgba(0, 0, 0, 0.15);\n",
       "      filter: drop-shadow(0px 1px 2px rgba(0, 0, 0, 0.3));\n",
       "      fill: #FFFFFF;\n",
       "    }\n",
       "  </style>\n",
       "\n",
       "    <script>\n",
       "      const buttonEl =\n",
       "        document.querySelector('#df-39300466-d6ae-4954-a25e-bc69ad704fc0 button.colab-df-convert');\n",
       "      buttonEl.style.display =\n",
       "        google.colab.kernel.accessAllowed ? 'block' : 'none';\n",
       "\n",
       "      async function convertToInteractive(key) {\n",
       "        const element = document.querySelector('#df-39300466-d6ae-4954-a25e-bc69ad704fc0');\n",
       "        const dataTable =\n",
       "          await google.colab.kernel.invokeFunction('convertToInteractive',\n",
       "                                                    [key], {});\n",
       "        if (!dataTable) return;\n",
       "\n",
       "        const docLinkHtml = 'Like what you see? Visit the ' +\n",
       "          '<a target=\"_blank\" href=https://colab.research.google.com/notebooks/data_table.ipynb>data table notebook</a>'\n",
       "          + ' to learn more about interactive tables.';\n",
       "        element.innerHTML = '';\n",
       "        dataTable['output_type'] = 'display_data';\n",
       "        await google.colab.output.renderOutput(dataTable, element);\n",
       "        const docLink = document.createElement('div');\n",
       "        docLink.innerHTML = docLinkHtml;\n",
       "        element.appendChild(docLink);\n",
       "      }\n",
       "    </script>\n",
       "  </div>\n",
       "\n",
       "\n",
       "<div id=\"df-f3e5801d-cda0-4ec0-8193-804b6d35f18c\">\n",
       "  <button class=\"colab-df-quickchart\" onclick=\"quickchart('df-f3e5801d-cda0-4ec0-8193-804b6d35f18c')\"\n",
       "            title=\"Suggest charts\"\n",
       "            style=\"display:none;\">\n",
       "\n",
       "<svg xmlns=\"http://www.w3.org/2000/svg\" height=\"24px\"viewBox=\"0 0 24 24\"\n",
       "     width=\"24px\">\n",
       "    <g>\n",
       "        <path d=\"M19 3H5c-1.1 0-2 .9-2 2v14c0 1.1.9 2 2 2h14c1.1 0 2-.9 2-2V5c0-1.1-.9-2-2-2zM9 17H7v-7h2v7zm4 0h-2V7h2v10zm4 0h-2v-4h2v4z\"/>\n",
       "    </g>\n",
       "</svg>\n",
       "  </button>\n",
       "\n",
       "<style>\n",
       "  .colab-df-quickchart {\n",
       "      --bg-color: #E8F0FE;\n",
       "      --fill-color: #1967D2;\n",
       "      --hover-bg-color: #E2EBFA;\n",
       "      --hover-fill-color: #174EA6;\n",
       "      --disabled-fill-color: #AAA;\n",
       "      --disabled-bg-color: #DDD;\n",
       "  }\n",
       "\n",
       "  [theme=dark] .colab-df-quickchart {\n",
       "      --bg-color: #3B4455;\n",
       "      --fill-color: #D2E3FC;\n",
       "      --hover-bg-color: #434B5C;\n",
       "      --hover-fill-color: #FFFFFF;\n",
       "      --disabled-bg-color: #3B4455;\n",
       "      --disabled-fill-color: #666;\n",
       "  }\n",
       "\n",
       "  .colab-df-quickchart {\n",
       "    background-color: var(--bg-color);\n",
       "    border: none;\n",
       "    border-radius: 50%;\n",
       "    cursor: pointer;\n",
       "    display: none;\n",
       "    fill: var(--fill-color);\n",
       "    height: 32px;\n",
       "    padding: 0;\n",
       "    width: 32px;\n",
       "  }\n",
       "\n",
       "  .colab-df-quickchart:hover {\n",
       "    background-color: var(--hover-bg-color);\n",
       "    box-shadow: 0 1px 2px rgba(60, 64, 67, 0.3), 0 1px 3px 1px rgba(60, 64, 67, 0.15);\n",
       "    fill: var(--button-hover-fill-color);\n",
       "  }\n",
       "\n",
       "  .colab-df-quickchart-complete:disabled,\n",
       "  .colab-df-quickchart-complete:disabled:hover {\n",
       "    background-color: var(--disabled-bg-color);\n",
       "    fill: var(--disabled-fill-color);\n",
       "    box-shadow: none;\n",
       "  }\n",
       "\n",
       "  .colab-df-spinner {\n",
       "    border: 2px solid var(--fill-color);\n",
       "    border-color: transparent;\n",
       "    border-bottom-color: var(--fill-color);\n",
       "    animation:\n",
       "      spin 1s steps(1) infinite;\n",
       "  }\n",
       "\n",
       "  @keyframes spin {\n",
       "    0% {\n",
       "      border-color: transparent;\n",
       "      border-bottom-color: var(--fill-color);\n",
       "      border-left-color: var(--fill-color);\n",
       "    }\n",
       "    20% {\n",
       "      border-color: transparent;\n",
       "      border-left-color: var(--fill-color);\n",
       "      border-top-color: var(--fill-color);\n",
       "    }\n",
       "    30% {\n",
       "      border-color: transparent;\n",
       "      border-left-color: var(--fill-color);\n",
       "      border-top-color: var(--fill-color);\n",
       "      border-right-color: var(--fill-color);\n",
       "    }\n",
       "    40% {\n",
       "      border-color: transparent;\n",
       "      border-right-color: var(--fill-color);\n",
       "      border-top-color: var(--fill-color);\n",
       "    }\n",
       "    60% {\n",
       "      border-color: transparent;\n",
       "      border-right-color: var(--fill-color);\n",
       "    }\n",
       "    80% {\n",
       "      border-color: transparent;\n",
       "      border-right-color: var(--fill-color);\n",
       "      border-bottom-color: var(--fill-color);\n",
       "    }\n",
       "    90% {\n",
       "      border-color: transparent;\n",
       "      border-bottom-color: var(--fill-color);\n",
       "    }\n",
       "  }\n",
       "</style>\n",
       "\n",
       "  <script>\n",
       "    async function quickchart(key) {\n",
       "      const quickchartButtonEl =\n",
       "        document.querySelector('#' + key + ' button');\n",
       "      quickchartButtonEl.disabled = true;  // To prevent multiple clicks.\n",
       "      quickchartButtonEl.classList.add('colab-df-spinner');\n",
       "      try {\n",
       "        const charts = await google.colab.kernel.invokeFunction(\n",
       "            'suggestCharts', [key], {});\n",
       "      } catch (error) {\n",
       "        console.error('Error during call to suggestCharts:', error);\n",
       "      }\n",
       "      quickchartButtonEl.classList.remove('colab-df-spinner');\n",
       "      quickchartButtonEl.classList.add('colab-df-quickchart-complete');\n",
       "    }\n",
       "    (() => {\n",
       "      let quickchartButtonEl =\n",
       "        document.querySelector('#df-f3e5801d-cda0-4ec0-8193-804b6d35f18c button');\n",
       "      quickchartButtonEl.style.display =\n",
       "        google.colab.kernel.accessAllowed ? 'block' : 'none';\n",
       "    })();\n",
       "  </script>\n",
       "</div>\n",
       "\n",
       "    </div>\n",
       "  </div>\n"
      ],
      "text/plain": [
       "   movieId                               title  \\\n",
       "0        1                    Toy Story (1995)   \n",
       "1        2                      Jumanji (1995)   \n",
       "2        3             Grumpier Old Men (1995)   \n",
       "3        4            Waiting to Exhale (1995)   \n",
       "4        5  Father of the Bride Part II (1995)   \n",
       "5        6                         Heat (1995)   \n",
       "6        7                      Sabrina (1995)   \n",
       "7        8                 Tom and Huck (1995)   \n",
       "8        9                 Sudden Death (1995)   \n",
       "9       10                    GoldenEye (1995)   \n",
       "\n",
       "                                              genres    year  \n",
       "0  [Adventure, Animation, Children, Comedy, Fantasy]  1995.0  \n",
       "1                     [Adventure, Children, Fantasy]  1995.0  \n",
       "2                                  [Comedy, Romance]  1995.0  \n",
       "3                           [Comedy, Drama, Romance]  1995.0  \n",
       "4                                           [Comedy]  1995.0  \n",
       "5                          [Action, Crime, Thriller]  1995.0  \n",
       "6                                  [Comedy, Romance]  1995.0  \n",
       "7                              [Adventure, Children]  1995.0  \n",
       "8                                           [Action]  1995.0  \n",
       "9                      [Action, Adventure, Thriller]  1995.0  "
      ]
     },
     "execution_count": 29,
     "metadata": {},
     "output_type": "execute_result"
    }
   ],
   "source": [
    "# Applying the function to create a 'year' column\n",
    "movies['year'] = movies['title'].apply(extract_year_from_title)\n",
    "\n",
    "# Removing rows with null years\n",
    "movies = movies.dropna(subset=['year'])\n",
    "movies.head(10)"
   ]
  },
  {
   "cell_type": "code",
   "execution_count": 30,
   "id": "7D1DM-HxB0O0",
   "metadata": {
    "colab": {
     "base_uri": "https://localhost:8080/"
    },
    "id": "7D1DM-HxB0O0",
    "outputId": "9a979dfd-ca78-4012-c1f0-04c9035d652b"
   },
   "outputs": [
    {
     "name": "stdout",
     "output_type": "stream",
     "text": [
      "Number of unique years: 118\n"
     ]
    }
   ],
   "source": [
    "# Counting unique years\n",
    "print(f\"Number of unique years: {movies['year'].nunique()}\")\n"
   ]
  },
  {
   "cell_type": "code",
   "execution_count": 31,
   "id": "Aoq3_1OWB0MY",
   "metadata": {
    "colab": {
     "base_uri": "https://localhost:8080/"
    },
    "id": "Aoq3_1OWB0MY",
    "outputId": "3fd2e01b-1801-45eb-ab03-aa12008229cf"
   },
   "outputs": [
    {
     "name": "stdout",
     "output_type": "stream",
     "text": [
      "Original number of movies: 27049\n",
      "Number of movies after removing null years: 27049\n"
     ]
    }
   ],
   "source": [
    "# Removing null years\n",
    "print(f\"Original number of movies: {movies['movieId'].nunique()}\")\n",
    "movies = movies.dropna(subset=['year'])\n",
    "print(f\"Number of movies after removing null years: {movies['movieId'].nunique()}\")\n"
   ]
  },
  {
   "cell_type": "code",
   "execution_count": 32,
   "id": "uZtiA-mfCm6w",
   "metadata": {
    "id": "uZtiA-mfCm6w"
   },
   "outputs": [],
   "source": [
    "# Function to get decade from year\n",
    "def get_decade(year):\n",
    "    year = str(year)\n",
    "    decade_prefix = year[0:3] # get first 3 digits of year\n",
    "    decade = f'{decade_prefix}0' # append 0 at the end\n",
    "    return int(decade)\n",
    "\n",
    "# Applying the function to create a 'decade' column\n",
    "movies['decade'] = movies['year'].apply(get_decade)"
   ]
  },
  {
   "cell_type": "markdown",
   "id": "rj_ZjWC4DJx2",
   "metadata": {
    "id": "rj_ZjWC4DJx2"
   },
   "source": [
    "Transforming the Data:\n",
    "In order to build a content-based filtering recommender, we need to set up our dataset so that rows represent movies and columns represent features (i.e., genres and decades).\n",
    "\n",
    "First, we need to manipulate the genres column so that each genre is represented as a separate binary feature. \"1\" indicates that the movie falls under a given genre, while \"0\" does not."
   ]
  },
  {
   "cell_type": "code",
   "execution_count": 33,
   "id": "onMdc7jZCm3a",
   "metadata": {
    "colab": {
     "base_uri": "https://localhost:8080/"
    },
    "id": "onMdc7jZCm3a",
    "outputId": "2a60541e-38c3-42f9-9801-b87811a5fc0f"
   },
   "outputs": [
    {
     "name": "stdout",
     "output_type": "stream",
     "text": [
      "Collecting fuzzywuzzy\n",
      "  Downloading fuzzywuzzy-0.18.0-py2.py3-none-any.whl (18 kB)\n",
      "Installing collected packages: fuzzywuzzy\n",
      "Successfully installed fuzzywuzzy-0.18.0\n"
     ]
    }
   ],
   "source": [
    "!pip install fuzzywuzzy\n"
   ]
  },
  {
   "cell_type": "code",
   "execution_count": 34,
   "id": "MQZNzmcsCm0p",
   "metadata": {
    "colab": {
     "base_uri": "https://localhost:8080/"
    },
    "id": "MQZNzmcsCm0p",
    "outputId": "50cf3833-70b4-4ce4-8523-0f03df5abb91"
   },
   "outputs": [
    {
     "name": "stderr",
     "output_type": "stream",
     "text": [
      "/usr/local/lib/python3.10/dist-packages/fuzzywuzzy/fuzz.py:11: UserWarning: Using slow pure-python SequenceMatcher. Install python-Levenshtein to remove this warning\n",
      "  warnings.warn('Using slow pure-python SequenceMatcher. Install python-Levenshtein to remove this warning')\n"
     ]
    }
   ],
   "source": [
    "\n",
    "from sklearn.metrics.pairwise import cosine_similarity\n",
    "from fuzzywuzzy import process"
   ]
  },
  {
   "cell_type": "code",
   "execution_count": 35,
   "id": "SkXsYtOjCmyT",
   "metadata": {
    "id": "SkXsYtOjCmyT"
   },
   "outputs": [],
   "source": [
    "# Define genres\n",
    "genres = list(genres_counts.keys())\n",
    "\n",
    "# Create genre binary features\n",
    "for g in genres:\n",
    "    movies[g] = movies['genres'].transform(lambda x: int(g in x))"
   ]
  },
  {
   "cell_type": "code",
   "execution_count": 36,
   "id": "yLp4xvPECmv9",
   "metadata": {
    "id": "yLp4xvPECmv9"
   },
   "outputs": [],
   "source": [
    "# One-hot encode movie decades\n",
    "movie_decades = pd.get_dummies(movies['decade'])\n",
    "\n",
    "# Concatenate genre binary features and decade one-hot encoded features\n",
    "movie_features = pd.concat([movies[genres], movie_decades], axis=1)\n"
   ]
  },
  {
   "cell_type": "code",
   "execution_count": 37,
   "id": "7hX66a6oCmti",
   "metadata": {
    "id": "7hX66a6oCmti"
   },
   "outputs": [],
   "source": [
    "# Compute cosine similarity matrix\n",
    "cosine_sim = cosine_similarity(movie_features, movie_features)\n",
    "\n",
    "# Function to find the closest matching movie title\n",
    "def movie_finder(title):\n",
    "    all_titles = movies['title'].tolist()\n",
    "    closest_match = process.extractOne(title, all_titles)\n",
    "    return closest_match[0]\n",
    "\n",
    "# Function to get content-based recommendations\n",
    "def get_content_based_recommendations(title_string, n_recommendations=10):\n",
    "    title = movie_finder(title_string)\n",
    "    idx = movie_idx[title]\n",
    "    sim_scores = list(enumerate(cosine_sim[idx]))\n",
    "    sim_scores = sorted(sim_scores, key=lambda x: x[1], reverse=True)\n",
    "    sim_scores = sim_scores[1:(n_recommendations+1)]\n",
    "    similar_movies = [i[0] for i in sim_scores]\n",
    "    print(f\"Recommendations for {title}:\")\n",
    "    print(movies['title'].iloc[similar_movies])\n"
   ]
  },
  {
   "cell_type": "code",
   "execution_count": 38,
   "id": "0bBLtJI1CmrL",
   "metadata": {
    "colab": {
     "base_uri": "https://localhost:8080/"
    },
    "id": "0bBLtJI1CmrL",
    "outputId": "461ca257-20ea-4b83-aa09-f9158d7b7c68"
   },
   "outputs": [
    {
     "name": "stdout",
     "output_type": "stream",
     "text": [
      "Recommendations for Aladin (2009):\n",
      "3422                   Return to Me (2000)\n",
      "3463            Love and Basketball (2000)\n",
      "3732             Autumn in New York (2000)\n",
      "3795                  Skipped Parts (2000)\n",
      "3884    Legend of Bagger Vance, The (2000)\n",
      "Name: title, dtype: object\n"
     ]
    }
   ],
   "source": [
    "# Finding movie index from title\n",
    "movie_idx = dict(zip(movies['title'], list(movies.index)))\n",
    "\n",
    "# Example usage\n",
    "get_content_based_recommendations('aladin', 5)"
   ]
  },
  {
   "cell_type": "markdown",
   "id": "7ad4bfd9",
   "metadata": {},
   "source": [
    "### Note:\n",
    "\n",
    "* Due to poor computational resources we could not display results of NCF.\n",
    "* We tried running it for 20M dataset and also 10M dataset but the program was crashing again and again.\n",
    "* Hence, just to the functionality of the final algorithm we ran it using the 100K dataset.\n",
    "* We tried tux servers but could not obtain more than 5gb of disk space."
   ]
  },
  {
   "cell_type": "markdown",
   "id": "HpFrOsHYP-2G",
   "metadata": {
    "id": "HpFrOsHYP-2G"
   },
   "source": [
    "# References\n",
    "\n",
    "* https://towardsdatascience.com/neural-collaborative-filtering-96cef1009401\n",
    "\n",
    "* https://www.mygreatlearning.com/blog/matrix-factorization-explained/\n",
    "\n",
    "* https://towardsdatascience.com/item-based-collaborative-filtering-in-python-91f747200fab\n",
    "\n",
    "* https://medium.com/data-science-in-your-pocket/recommendation-systems-using-neural-collaborative-filtering-ncf-explained-with-codes-21a97e48a2f7\n",
    "\n",
    "* https://towardsdatascience.com/fast-ai-season-1-episode-5-1-movie-recommendation-using-fastai-a53ed8e41269\n",
    "\n"
   ]
  }
 ],
 "metadata": {
  "accelerator": "GPU",
  "colab": {
   "gpuType": "T4",
   "machine_shape": "hm",
   "provenance": []
  },
  "kernelspec": {
   "display_name": "Python 3 (ipykernel)",
   "language": "python",
   "name": "python3"
  },
  "language_info": {
   "codemirror_mode": {
    "name": "ipython",
    "version": 3
   },
   "file_extension": ".py",
   "mimetype": "text/x-python",
   "name": "python",
   "nbconvert_exporter": "python",
   "pygments_lexer": "ipython3",
   "version": "3.9.13"
  },
  "widgets": {
   "application/vnd.jupyter.widget-state+json": {
    "3696aa61e8314086aaf7cf67f7cb264e": {
     "model_module": "@jupyter-widgets/controls",
     "model_module_version": "1.5.0",
     "model_name": "DescriptionStyleModel",
     "state": {
      "_model_module": "@jupyter-widgets/controls",
      "_model_module_version": "1.5.0",
      "_model_name": "DescriptionStyleModel",
      "_view_count": null,
      "_view_module": "@jupyter-widgets/base",
      "_view_module_version": "1.2.0",
      "_view_name": "StyleView",
      "description_width": ""
     }
    },
    "379046a19a97444fa6cd750adb3b9416": {
     "model_module": "@jupyter-widgets/controls",
     "model_module_version": "1.5.0",
     "model_name": "HTMLModel",
     "state": {
      "_dom_classes": [],
      "_model_module": "@jupyter-widgets/controls",
      "_model_module_version": "1.5.0",
      "_model_name": "HTMLModel",
      "_view_count": null,
      "_view_module": "@jupyter-widgets/controls",
      "_view_module_version": "1.5.0",
      "_view_name": "HTMLView",
      "description": "",
      "description_tooltip": null,
      "layout": "IPY_MODEL_5de1a946294444068c6f471fe11d1d1a",
      "placeholder": "​",
      "style": "IPY_MODEL_3696aa61e8314086aaf7cf67f7cb264e",
      "value": "Epoch 2: 100%"
     }
    },
    "4a99f99cc3e148a3b68e65a1accf69ab": {
     "model_module": "@jupyter-widgets/base",
     "model_module_version": "1.2.0",
     "model_name": "LayoutModel",
     "state": {
      "_model_module": "@jupyter-widgets/base",
      "_model_module_version": "1.2.0",
      "_model_name": "LayoutModel",
      "_view_count": null,
      "_view_module": "@jupyter-widgets/base",
      "_view_module_version": "1.2.0",
      "_view_name": "LayoutView",
      "align_content": null,
      "align_items": null,
      "align_self": null,
      "border": null,
      "bottom": null,
      "display": null,
      "flex": null,
      "flex_flow": null,
      "grid_area": null,
      "grid_auto_columns": null,
      "grid_auto_flow": null,
      "grid_auto_rows": null,
      "grid_column": null,
      "grid_gap": null,
      "grid_row": null,
      "grid_template_areas": null,
      "grid_template_columns": null,
      "grid_template_rows": null,
      "height": null,
      "justify_content": null,
      "justify_items": null,
      "left": null,
      "margin": null,
      "max_height": null,
      "max_width": null,
      "min_height": null,
      "min_width": null,
      "object_fit": null,
      "object_position": null,
      "order": null,
      "overflow": null,
      "overflow_x": null,
      "overflow_y": null,
      "padding": null,
      "right": null,
      "top": null,
      "visibility": null,
      "width": null
     }
    },
    "5de1a946294444068c6f471fe11d1d1a": {
     "model_module": "@jupyter-widgets/base",
     "model_module_version": "1.2.0",
     "model_name": "LayoutModel",
     "state": {
      "_model_module": "@jupyter-widgets/base",
      "_model_module_version": "1.2.0",
      "_model_name": "LayoutModel",
      "_view_count": null,
      "_view_module": "@jupyter-widgets/base",
      "_view_module_version": "1.2.0",
      "_view_name": "LayoutView",
      "align_content": null,
      "align_items": null,
      "align_self": null,
      "border": null,
      "bottom": null,
      "display": null,
      "flex": null,
      "flex_flow": null,
      "grid_area": null,
      "grid_auto_columns": null,
      "grid_auto_flow": null,
      "grid_auto_rows": null,
      "grid_column": null,
      "grid_gap": null,
      "grid_row": null,
      "grid_template_areas": null,
      "grid_template_columns": null,
      "grid_template_rows": null,
      "height": null,
      "justify_content": null,
      "justify_items": null,
      "left": null,
      "margin": null,
      "max_height": null,
      "max_width": null,
      "min_height": null,
      "min_width": null,
      "object_fit": null,
      "object_position": null,
      "order": null,
      "overflow": null,
      "overflow_x": null,
      "overflow_y": null,
      "padding": null,
      "right": null,
      "top": null,
      "visibility": null,
      "width": null
     }
    },
    "5fda7fffc4504e879391d69909b4fc88": {
     "model_module": "@jupyter-widgets/controls",
     "model_module_version": "1.5.0",
     "model_name": "HTMLModel",
     "state": {
      "_dom_classes": [],
      "_model_module": "@jupyter-widgets/controls",
      "_model_module_version": "1.5.0",
      "_model_name": "HTMLModel",
      "_view_count": null,
      "_view_module": "@jupyter-widgets/controls",
      "_view_module_version": "1.5.0",
      "_view_name": "HTMLView",
      "description": "",
      "description_tooltip": null,
      "layout": "IPY_MODEL_4a99f99cc3e148a3b68e65a1accf69ab",
      "placeholder": "​",
      "style": "IPY_MODEL_c9356e29c75a46b4b5154dc72d994580",
      "value": " 46618/46618 [12:41&lt;00:00, 61.25it/s, v_num=0]"
     }
    },
    "7ce46b190cde437b87f3dc3ae7e1176e": {
     "model_module": "@jupyter-widgets/base",
     "model_module_version": "1.2.0",
     "model_name": "LayoutModel",
     "state": {
      "_model_module": "@jupyter-widgets/base",
      "_model_module_version": "1.2.0",
      "_model_name": "LayoutModel",
      "_view_count": null,
      "_view_module": "@jupyter-widgets/base",
      "_view_module_version": "1.2.0",
      "_view_name": "LayoutView",
      "align_content": null,
      "align_items": null,
      "align_self": null,
      "border": null,
      "bottom": null,
      "display": null,
      "flex": "2",
      "flex_flow": null,
      "grid_area": null,
      "grid_auto_columns": null,
      "grid_auto_flow": null,
      "grid_auto_rows": null,
      "grid_column": null,
      "grid_gap": null,
      "grid_row": null,
      "grid_template_areas": null,
      "grid_template_columns": null,
      "grid_template_rows": null,
      "height": null,
      "justify_content": null,
      "justify_items": null,
      "left": null,
      "margin": null,
      "max_height": null,
      "max_width": null,
      "min_height": null,
      "min_width": null,
      "object_fit": null,
      "object_position": null,
      "order": null,
      "overflow": null,
      "overflow_x": null,
      "overflow_y": null,
      "padding": null,
      "right": null,
      "top": null,
      "visibility": null,
      "width": null
     }
    },
    "8c293da342464dac9c6d466a08497bb8": {
     "model_module": "@jupyter-widgets/controls",
     "model_module_version": "1.5.0",
     "model_name": "FloatProgressModel",
     "state": {
      "_dom_classes": [],
      "_model_module": "@jupyter-widgets/controls",
      "_model_module_version": "1.5.0",
      "_model_name": "FloatProgressModel",
      "_view_count": null,
      "_view_module": "@jupyter-widgets/controls",
      "_view_module_version": "1.5.0",
      "_view_name": "ProgressView",
      "bar_style": "success",
      "description": "",
      "description_tooltip": null,
      "layout": "IPY_MODEL_7ce46b190cde437b87f3dc3ae7e1176e",
      "max": 46618,
      "min": 0,
      "orientation": "horizontal",
      "style": "IPY_MODEL_ca5bf8f0571f4842878a53d1ebc17a4a",
      "value": 46618
     }
    },
    "c9356e29c75a46b4b5154dc72d994580": {
     "model_module": "@jupyter-widgets/controls",
     "model_module_version": "1.5.0",
     "model_name": "DescriptionStyleModel",
     "state": {
      "_model_module": "@jupyter-widgets/controls",
      "_model_module_version": "1.5.0",
      "_model_name": "DescriptionStyleModel",
      "_view_count": null,
      "_view_module": "@jupyter-widgets/base",
      "_view_module_version": "1.2.0",
      "_view_name": "StyleView",
      "description_width": ""
     }
    },
    "ca5bf8f0571f4842878a53d1ebc17a4a": {
     "model_module": "@jupyter-widgets/controls",
     "model_module_version": "1.5.0",
     "model_name": "ProgressStyleModel",
     "state": {
      "_model_module": "@jupyter-widgets/controls",
      "_model_module_version": "1.5.0",
      "_model_name": "ProgressStyleModel",
      "_view_count": null,
      "_view_module": "@jupyter-widgets/base",
      "_view_module_version": "1.2.0",
      "_view_name": "StyleView",
      "bar_color": null,
      "description_width": ""
     }
    },
    "f9ac100178fe408d8dbd4df1e2b2cee3": {
     "model_module": "@jupyter-widgets/base",
     "model_module_version": "1.2.0",
     "model_name": "LayoutModel",
     "state": {
      "_model_module": "@jupyter-widgets/base",
      "_model_module_version": "1.2.0",
      "_model_name": "LayoutModel",
      "_view_count": null,
      "_view_module": "@jupyter-widgets/base",
      "_view_module_version": "1.2.0",
      "_view_name": "LayoutView",
      "align_content": null,
      "align_items": null,
      "align_self": null,
      "border": null,
      "bottom": null,
      "display": "inline-flex",
      "flex": null,
      "flex_flow": "row wrap",
      "grid_area": null,
      "grid_auto_columns": null,
      "grid_auto_flow": null,
      "grid_auto_rows": null,
      "grid_column": null,
      "grid_gap": null,
      "grid_row": null,
      "grid_template_areas": null,
      "grid_template_columns": null,
      "grid_template_rows": null,
      "height": null,
      "justify_content": null,
      "justify_items": null,
      "left": null,
      "margin": null,
      "max_height": null,
      "max_width": null,
      "min_height": null,
      "min_width": null,
      "object_fit": null,
      "object_position": null,
      "order": null,
      "overflow": null,
      "overflow_x": null,
      "overflow_y": null,
      "padding": null,
      "right": null,
      "top": null,
      "visibility": null,
      "width": "100%"
     }
    },
    "fd5838bd0ffc4838a73ce5d0d62f060d": {
     "model_module": "@jupyter-widgets/controls",
     "model_module_version": "1.5.0",
     "model_name": "HBoxModel",
     "state": {
      "_dom_classes": [],
      "_model_module": "@jupyter-widgets/controls",
      "_model_module_version": "1.5.0",
      "_model_name": "HBoxModel",
      "_view_count": null,
      "_view_module": "@jupyter-widgets/controls",
      "_view_module_version": "1.5.0",
      "_view_name": "HBoxView",
      "box_style": "",
      "children": [
       "IPY_MODEL_379046a19a97444fa6cd750adb3b9416",
       "IPY_MODEL_8c293da342464dac9c6d466a08497bb8",
       "IPY_MODEL_5fda7fffc4504e879391d69909b4fc88"
      ],
      "layout": "IPY_MODEL_f9ac100178fe408d8dbd4df1e2b2cee3"
     }
    }
   }
  }
 },
 "nbformat": 4,
 "nbformat_minor": 5
}
